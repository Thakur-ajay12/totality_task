{
 "cells": [
  {
   "cell_type": "markdown",
   "metadata": {},
   "source": [
    "<h1 style=\" text-align:center; color:Blue; font-size:40px;\"> <u><b>Cat Breeds prediction with InceptionV3</b></u> </h1>\n",
    "\n",
    "<p style=\"text-align:center; \">\n",
    "<img src=\"https://images.theconversation.com/files/168121/original/file-20170505-1693-ymh4bc.jpg\" style='width: 800px;'>\n",
    "</p>\n",
    "\n"
   ]
  },
  {
   "cell_type": "markdown",
   "metadata": {},
   "source": [
    "## 1. importing Modules\n"
   ]
  },
  {
   "cell_type": "code",
   "execution_count": 1,
   "metadata": {
    "execution": {
     "iopub.execute_input": "2021-07-10T08:40:38.121475Z",
     "iopub.status.busy": "2021-07-10T08:40:38.121090Z",
     "iopub.status.idle": "2021-07-10T08:40:43.835781Z",
     "shell.execute_reply": "2021-07-10T08:40:43.834936Z",
     "shell.execute_reply.started": "2021-07-10T08:40:38.121397Z"
    }
   },
   "outputs": [],
   "source": [
    "import numpy as np # linear algebra\n",
    "import pandas as pd # data processing, CSV file I/O (e.g. pd.read_csv)\n",
    "import os\n",
    "from pathlib import Path\n",
    "import cv2\n",
    "import matplotlib.pyplot as plt\n",
    "from sklearn.model_selection import train_test_split \n",
    "from tensorflow.keras.preprocessing.image import ImageDataGenerator\n",
    "from sklearn.metrics import confusion_matrix, classification_report\n",
    "from keras.optimizers import Adam, SGD, RMSprop\n",
    "import tensorflow as tf\n",
    "from sklearn.metrics import confusion_matrix\n",
    "from sklearn.metrics import roc_auc_score\n",
    "import matplotlib.pyplot as plt\n",
    "import cv2 as cv\n",
    "import numpy as np\n",
    "from scipy import ndimage, misc\n",
    "from scipy.misc import imshow\n",
    "import skimage\n",
    "from keras.applications.inception_v3 import InceptionV3, preprocess_input\n"
   ]
  },
  {
   "cell_type": "code",
   "execution_count": 1,
   "metadata": {},
   "outputs": [],
   "source": [
    "## get files in list"
   ]
  },
  {
   "cell_type": "code",
   "execution_count": 2,
   "metadata": {
    "execution": {
     "iopub.execute_input": "2021-07-10T08:40:43.837468Z",
     "iopub.status.busy": "2021-07-10T08:40:43.837165Z",
     "iopub.status.idle": "2021-07-10T08:43:53.369782Z",
     "shell.execute_reply": "2021-07-10T08:43:53.368812Z",
     "shell.execute_reply.started": "2021-07-10T08:40:43.837434Z"
    }
   },
   "outputs": [],
   "source": [
    "filelist  = []\n",
    "\n",
    "for dirname, _, filenames in os.walk('input'):\n",
    "    for filename in filenames:\n",
    "        filelist.append (os.path.join(dirname, filename))\n",
    "        \n"
   ]
  },
  {
   "cell_type": "code",
   "execution_count": 3,
   "metadata": {
    "execution": {
     "iopub.execute_input": "2021-07-10T08:43:53.372422Z",
     "iopub.status.busy": "2021-07-10T08:43:53.371874Z",
     "iopub.status.idle": "2021-07-10T08:43:53.382191Z",
     "shell.execute_reply": "2021-07-10T08:43:53.381080Z",
     "shell.execute_reply.started": "2021-07-10T08:43:53.372357Z"
    }
   },
   "outputs": [
    {
     "data": {
      "text/plain": [
       "126608"
      ]
     },
     "execution_count": 3,
     "metadata": {},
     "output_type": "execute_result"
    }
   ],
   "source": [
    "len(filelist)"
   ]
  },
  {
   "cell_type": "code",
   "execution_count": 4,
   "metadata": {
    "_kg_hide-output": true,
    "execution": {
     "iopub.execute_input": "2021-07-10T08:43:53.384460Z",
     "iopub.status.busy": "2021-07-10T08:43:53.384090Z",
     "iopub.status.idle": "2021-07-10T08:43:53.416153Z",
     "shell.execute_reply": "2021-07-10T08:43:53.415339Z",
     "shell.execute_reply.started": "2021-07-10T08:43:53.384424Z"
    }
   },
   "outputs": [
    {
     "data": {
      "text/plain": [
       "['/kaggle/input/cat-breeds-dataset/images/Siberian/33225712_366.jpg',\n",
       " '/kaggle/input/cat-breeds-dataset/images/Siberian/41567870_171.jpg',\n",
       " '/kaggle/input/cat-breeds-dataset/images/Siberian/38913632_240.jpg',\n",
       " '/kaggle/input/cat-breeds-dataset/images/Siberian/39745842_209.jpg',\n",
       " '/kaggle/input/cat-breeds-dataset/images/Siberian/28050949_462.jpg',\n",
       " '/kaggle/input/cat-breeds-dataset/images/Siberian/23165391_531.jpg',\n",
       " '/kaggle/input/cat-breeds-dataset/images/Siberian/39212967_231.jpg',\n",
       " '/kaggle/input/cat-breeds-dataset/images/Siberian/20992970_556.jpg',\n",
       " '/kaggle/input/cat-breeds-dataset/images/Siberian/42345908_158.jpg',\n",
       " '/kaggle/input/cat-breeds-dataset/images/Siberian/34203521_344.jpg',\n",
       " '/kaggle/input/cat-breeds-dataset/images/Siberian/46118853_43695.jpg',\n",
       " '/kaggle/input/cat-breeds-dataset/images/Siberian/34115903_345.jpg',\n",
       " '/kaggle/input/cat-breeds-dataset/images/Siberian/37857483_257.jpg',\n",
       " '/kaggle/input/cat-breeds-dataset/images/Siberian/18536346_594.jpg',\n",
       " '/kaggle/input/cat-breeds-dataset/images/Siberian/25851018_495.jpg',\n",
       " '/kaggle/input/cat-breeds-dataset/images/Siberian/46276441_46317.jpg',\n",
       " '/kaggle/input/cat-breeds-dataset/images/Siberian/36691115_279.jpg',\n",
       " '/kaggle/input/cat-breeds-dataset/images/Siberian/26555752_483.jpg',\n",
       " '/kaggle/input/cat-breeds-dataset/images/Siberian/36398883_290.jpg',\n",
       " '/kaggle/input/cat-breeds-dataset/images/Siberian/36020444_304.jpg',\n",
       " '/kaggle/input/cat-breeds-dataset/images/Siberian/35408053_313.jpg',\n",
       " '/kaggle/input/cat-breeds-dataset/images/Siberian/42533274_149.jpg',\n",
       " '/kaggle/input/cat-breeds-dataset/images/Siberian/34281606_340.jpg',\n",
       " '/kaggle/input/cat-breeds-dataset/images/Siberian/39172235_232.jpg',\n",
       " '/kaggle/input/cat-breeds-dataset/images/Siberian/45751161_59.jpg',\n",
       " '/kaggle/input/cat-breeds-dataset/images/Siberian/37930913_256.jpg',\n",
       " '/kaggle/input/cat-breeds-dataset/images/Siberian/44514117_95.jpg',\n",
       " '/kaggle/input/cat-breeds-dataset/images/Siberian/35796978_307.jpg',\n",
       " '/kaggle/input/cat-breeds-dataset/images/Siberian/45618344_65.jpg',\n",
       " '/kaggle/input/cat-breeds-dataset/images/Siberian/25340053_502.jpg',\n",
       " '/kaggle/input/cat-breeds-dataset/images/Siberian/23180874_530.jpg',\n",
       " '/kaggle/input/cat-breeds-dataset/images/Siberian/18528351_595.jpg',\n",
       " '/kaggle/input/cat-breeds-dataset/images/Siberian/32788209_371.jpg',\n",
       " '/kaggle/input/cat-breeds-dataset/images/Siberian/39481129_221.jpg',\n",
       " '/kaggle/input/cat-breeds-dataset/images/Siberian/25066352_504.jpg',\n",
       " '/kaggle/input/cat-breeds-dataset/images/Siberian/28979694_442.jpg',\n",
       " '/kaggle/input/cat-breeds-dataset/images/Siberian/46289843_45080.jpg',\n",
       " '/kaggle/input/cat-breeds-dataset/images/Siberian/28777969_450.jpg',\n",
       " '/kaggle/input/cat-breeds-dataset/images/Siberian/36398935_288.jpg',\n",
       " '/kaggle/input/cat-breeds-dataset/images/Siberian/38384519_253.jpg',\n",
       " '/kaggle/input/cat-breeds-dataset/images/Siberian/34095411_346.jpg',\n",
       " '/kaggle/input/cat-breeds-dataset/images/Siberian/21804671_549.jpg',\n",
       " '/kaggle/input/cat-breeds-dataset/images/Siberian/22623773_538.jpg',\n",
       " '/kaggle/input/cat-breeds-dataset/images/Siberian/46124315_39.jpg',\n",
       " '/kaggle/input/cat-breeds-dataset/images/Siberian/34633191_328.jpg',\n",
       " '/kaggle/input/cat-breeds-dataset/images/Siberian/33287552_364.jpg',\n",
       " '/kaggle/input/cat-breeds-dataset/images/Siberian/33078247_368.jpg',\n",
       " '/kaggle/input/cat-breeds-dataset/images/Siberian/43522358_114.jpg',\n",
       " '/kaggle/input/cat-breeds-dataset/images/Siberian/27758881_468.jpg',\n",
       " '/kaggle/input/cat-breeds-dataset/images/Siberian/45517573_67.jpg',\n",
       " '/kaggle/input/cat-breeds-dataset/images/Siberian/19970595_570.jpg',\n",
       " '/kaggle/input/cat-breeds-dataset/images/Siberian/46596068_12628.jpg',\n",
       " '/kaggle/input/cat-breeds-dataset/images/Siberian/34562608_331.jpg',\n",
       " '/kaggle/input/cat-breeds-dataset/images/Siberian/41399261_176.jpg',\n",
       " '/kaggle/input/cat-breeds-dataset/images/Siberian/30093332_420.jpg',\n",
       " '/kaggle/input/cat-breeds-dataset/images/Siberian/29958882_422.jpg',\n",
       " '/kaggle/input/cat-breeds-dataset/images/Siberian/46462191_28627.jpg',\n",
       " '/kaggle/input/cat-breeds-dataset/images/Siberian/44252981_98.jpg',\n",
       " '/kaggle/input/cat-breeds-dataset/images/Siberian/44521943_93.jpg',\n",
       " '/kaggle/input/cat-breeds-dataset/images/Siberian/36020540_302.jpg',\n",
       " '/kaggle/input/cat-breeds-dataset/images/Siberian/29277740_436.jpg',\n",
       " '/kaggle/input/cat-breeds-dataset/images/Siberian/36691114_280.jpg',\n",
       " '/kaggle/input/cat-breeds-dataset/images/Siberian/39266265_230.jpg',\n",
       " '/kaggle/input/cat-breeds-dataset/images/Siberian/27077903_478.jpg',\n",
       " '/kaggle/input/cat-breeds-dataset/images/Siberian/42584709_147.jpg',\n",
       " '/kaggle/input/cat-breeds-dataset/images/Siberian/42812456_144.jpg',\n",
       " '/kaggle/input/cat-breeds-dataset/images/Siberian/24265146_518.jpg',\n",
       " '/kaggle/input/cat-breeds-dataset/images/Siberian/41314965_178.jpg',\n",
       " '/kaggle/input/cat-breeds-dataset/images/Siberian/43221033_125.jpg',\n",
       " '/kaggle/input/cat-breeds-dataset/images/Siberian/36250719_297.jpg',\n",
       " '/kaggle/input/cat-breeds-dataset/images/Siberian/33679969_354.jpg',\n",
       " '/kaggle/input/cat-breeds-dataset/images/Siberian/44663151_88.jpg',\n",
       " '/kaggle/input/cat-breeds-dataset/images/Siberian/37737993_259.jpg',\n",
       " '/kaggle/input/cat-breeds-dataset/images/Siberian/42994059_135.jpg',\n",
       " '/kaggle/input/cat-breeds-dataset/images/Siberian/28345595_455.jpg',\n",
       " '/kaggle/input/cat-breeds-dataset/images/Siberian/46103763_40.jpg',\n",
       " '/kaggle/input/cat-breeds-dataset/images/Siberian/28033995_463.jpg',\n",
       " '/kaggle/input/cat-breeds-dataset/images/Siberian/46124317_37.jpg',\n",
       " '/kaggle/input/cat-breeds-dataset/images/Siberian/45994055_49.jpg',\n",
       " '/kaggle/input/cat-breeds-dataset/images/Siberian/31526306_394.jpg',\n",
       " '/kaggle/input/cat-breeds-dataset/images/Siberian/46344604_40363.jpg',\n",
       " '/kaggle/input/cat-breeds-dataset/images/Siberian/40879953_190.jpg',\n",
       " '/kaggle/input/cat-breeds-dataset/images/Siberian/41314788_179.jpg',\n",
       " '/kaggle/input/cat-breeds-dataset/images/Siberian/29386759_432.jpg',\n",
       " '/kaggle/input/cat-breeds-dataset/images/Siberian/36590988_282.jpg',\n",
       " '/kaggle/input/cat-breeds-dataset/images/Siberian/36435894_286.jpg',\n",
       " '/kaggle/input/cat-breeds-dataset/images/Siberian/45788888_55.jpg',\n",
       " '/kaggle/input/cat-breeds-dataset/images/Siberian/31887007_384.jpg',\n",
       " '/kaggle/input/cat-breeds-dataset/images/Siberian/40582737_197.jpg',\n",
       " '/kaggle/input/cat-breeds-dataset/images/Siberian/36398842_292.jpg',\n",
       " '/kaggle/input/cat-breeds-dataset/images/Siberian/29294241_435.jpg',\n",
       " '/kaggle/input/cat-breeds-dataset/images/Siberian/21928900_546.jpg',\n",
       " '/kaggle/input/cat-breeds-dataset/images/Siberian/36020457_303.jpg',\n",
       " '/kaggle/input/cat-breeds-dataset/images/Siberian/33949441_347.jpg',\n",
       " '/kaggle/input/cat-breeds-dataset/images/Siberian/45270338_72.jpg',\n",
       " '/kaggle/input/cat-breeds-dataset/images/Siberian/44522276_92.jpg',\n",
       " '/kaggle/input/cat-breeds-dataset/images/Siberian/31426679_397.jpg',\n",
       " '/kaggle/input/cat-breeds-dataset/images/Siberian/39642465_215.jpg',\n",
       " '/kaggle/input/cat-breeds-dataset/images/Siberian/28050972_461.jpg',\n",
       " '/kaggle/input/cat-breeds-dataset/images/Siberian/36309050_295.jpg',\n",
       " '/kaggle/input/cat-breeds-dataset/images/Siberian/38855401_242.jpg',\n",
       " '/kaggle/input/cat-breeds-dataset/images/Siberian/27480789_472.jpg',\n",
       " '/kaggle/input/cat-breeds-dataset/images/Siberian/26273986_487.jpg',\n",
       " '/kaggle/input/cat-breeds-dataset/images/Siberian/40582747_196.jpg',\n",
       " '/kaggle/input/cat-breeds-dataset/images/Siberian/42401155_154.jpg',\n",
       " '/kaggle/input/cat-breeds-dataset/images/Siberian/28869485_443.jpg',\n",
       " '/kaggle/input/cat-breeds-dataset/images/Siberian/29156772_438.jpg',\n",
       " '/kaggle/input/cat-breeds-dataset/images/Siberian/19954618_571.jpg',\n",
       " '/kaggle/input/cat-breeds-dataset/images/Siberian/44663180_87.jpg',\n",
       " '/kaggle/input/cat-breeds-dataset/images/Siberian/24561140_510.jpg',\n",
       " '/kaggle/input/cat-breeds-dataset/images/Siberian/36398928_289.jpg',\n",
       " '/kaggle/input/cat-breeds-dataset/images/Siberian/23181119_529.jpg',\n",
       " '/kaggle/input/cat-breeds-dataset/images/Siberian/43259407_123.jpg',\n",
       " '/kaggle/input/cat-breeds-dataset/images/Siberian/20535778_563.jpg',\n",
       " '/kaggle/input/cat-breeds-dataset/images/Siberian/28825264_449.jpg',\n",
       " '/kaggle/input/cat-breeds-dataset/images/Siberian/35334316_314.jpg',\n",
       " '/kaggle/input/cat-breeds-dataset/images/Siberian/28588557_452.jpg',\n",
       " '/kaggle/input/cat-breeds-dataset/images/Siberian/46036238_47.jpg',\n",
       " '/kaggle/input/cat-breeds-dataset/images/Siberian/37713580_260.jpg',\n",
       " '/kaggle/input/cat-breeds-dataset/images/Siberian/46431865_31721.jpg',\n",
       " '/kaggle/input/cat-breeds-dataset/images/Siberian/41603483_169.jpg',\n",
       " '/kaggle/input/cat-breeds-dataset/images/Siberian/36598211_281.jpg',\n",
       " '/kaggle/input/cat-breeds-dataset/images/Siberian/43715242_110.jpg',\n",
       " '/kaggle/input/cat-breeds-dataset/images/Siberian/35796952_308.jpg',\n",
       " '/kaggle/input/cat-breeds-dataset/images/Siberian/46124316_38.jpg',\n",
       " '/kaggle/input/cat-breeds-dataset/images/Siberian/42909313_137.jpg',\n",
       " '/kaggle/input/cat-breeds-dataset/images/Siberian/36030105_301.jpg',\n",
       " '/kaggle/input/cat-breeds-dataset/images/Siberian/24993513_506.jpg',\n",
       " '/kaggle/input/cat-breeds-dataset/images/Siberian/33292209_363.jpg',\n",
       " '/kaggle/input/cat-breeds-dataset/images/Siberian/46344597_40364.jpg',\n",
       " '/kaggle/input/cat-breeds-dataset/images/Siberian/36367915_293.jpg',\n",
       " '/kaggle/input/cat-breeds-dataset/images/Siberian/36809300_277.jpg',\n",
       " '/kaggle/input/cat-breeds-dataset/images/Siberian/43915605_101.jpg',\n",
       " '/kaggle/input/cat-breeds-dataset/images/Siberian/34385945_338.jpg',\n",
       " '/kaggle/input/cat-breeds-dataset/images/Siberian/44804321_82.jpg',\n",
       " '/kaggle/input/cat-breeds-dataset/images/Siberian/34385947_337.jpg',\n",
       " '/kaggle/input/cat-breeds-dataset/images/Siberian/42842146_143.jpg',\n",
       " '/kaggle/input/cat-breeds-dataset/images/Siberian/24499820_514.jpg',\n",
       " '/kaggle/input/cat-breeds-dataset/images/Siberian/45827364_54.jpg',\n",
       " '/kaggle/input/cat-breeds-dataset/images/Siberian/31397808_401.jpg',\n",
       " '/kaggle/input/cat-breeds-dataset/images/Siberian/37413884_267.jpg',\n",
       " '/kaggle/input/cat-breeds-dataset/images/Siberian/42394194_156.jpg',\n",
       " '/kaggle/input/cat-breeds-dataset/images/Siberian/42879622_138.jpg',\n",
       " '/kaggle/input/cat-breeds-dataset/images/Siberian/42584723_146.jpg',\n",
       " '/kaggle/input/cat-breeds-dataset/images/Siberian/38540907_250.jpg',\n",
       " '/kaggle/input/cat-breeds-dataset/images/Siberian/37413888_266.jpg',\n",
       " '/kaggle/input/cat-breeds-dataset/images/Siberian/46652051_3719.jpg',\n",
       " '/kaggle/input/cat-breeds-dataset/images/Siberian/44804305_83.jpg',\n",
       " '/kaggle/input/cat-breeds-dataset/images/Siberian/23368019_525.jpg',\n",
       " '/kaggle/input/cat-breeds-dataset/images/Siberian/36537686_284.jpg',\n",
       " '/kaggle/input/cat-breeds-dataset/images/Siberian/28004134_464.jpg',\n",
       " '/kaggle/input/cat-breeds-dataset/images/Siberian/45029773_79.jpg',\n",
       " '/kaggle/input/cat-breeds-dataset/images/Siberian/36030106_300.jpg',\n",
       " '/kaggle/input/cat-breeds-dataset/images/Siberian/36398866_291.jpg',\n",
       " '/kaggle/input/cat-breeds-dataset/images/Siberian/39323973_227.jpg',\n",
       " '/kaggle/input/cat-breeds-dataset/images/Siberian/46289944_45072.jpg',\n",
       " '/kaggle/input/cat-breeds-dataset/images/Siberian/33679943_355.jpg',\n",
       " '/kaggle/input/cat-breeds-dataset/images/Siberian/36844226_276.jpg',\n",
       " '/kaggle/input/cat-breeds-dataset/images/Siberian/43906257_102.jpg',\n",
       " '/kaggle/input/cat-breeds-dataset/images/Siberian/26555717_484.jpg',\n",
       " '/kaggle/input/cat-breeds-dataset/images/Siberian/32240756_376.jpg',\n",
       " '/kaggle/input/cat-breeds-dataset/images/Siberian/19940716_572.jpg',\n",
       " '/kaggle/input/cat-breeds-dataset/images/Siberian/34411336_336.jpg',\n",
       " '/kaggle/input/cat-breeds-dataset/images/Siberian/38723645_246.jpg',\n",
       " '/kaggle/input/cat-breeds-dataset/images/Siberian/40582754_195.jpg',\n",
       " '/kaggle/input/cat-breeds-dataset/images/Siberian/45618359_64.jpg',\n",
       " '/kaggle/input/cat-breeds-dataset/images/Siberian/34768952_323.jpg',\n",
       " '/kaggle/input/cat-breeds-dataset/images/Siberian/37997227_254.jpg',\n",
       " '/kaggle/input/cat-breeds-dataset/images/Siberian/41311926_180.jpg',\n",
       " '/kaggle/input/cat-breeds-dataset/images/Siberian/33244423_365.jpg',\n",
       " '/kaggle/input/cat-breeds-dataset/images/Siberian/36579871_283.jpg',\n",
       " '/kaggle/input/cat-breeds-dataset/images/Siberian/24435005_517.jpg',\n",
       " '/kaggle/input/cat-breeds-dataset/images/Siberian/45787559_56.jpg',\n",
       " '/kaggle/input/cat-breeds-dataset/images/Siberian/46222318_51044.jpg',\n",
       " '/kaggle/input/cat-breeds-dataset/images/Siberian/42396959_155.jpg',\n",
       " '/kaggle/input/cat-breeds-dataset/images/Siberian/28051004_460.jpg',\n",
       " '/kaggle/input/cat-breeds-dataset/images/Siberian/43139944_126.jpg',\n",
       " '/kaggle/input/cat-breeds-dataset/images/Siberian/41568298_170.jpg',\n",
       " '/kaggle/input/cat-breeds-dataset/images/Siberian/40970648_189.jpg',\n",
       " '/kaggle/input/cat-breeds-dataset/images/Siberian/46098786_42.jpg',\n",
       " '/kaggle/input/cat-breeds-dataset/images/Siberian/38595004_247.jpg',\n",
       " '/kaggle/input/cat-breeds-dataset/images/Siberian/44823710_81.jpg',\n",
       " '/kaggle/input/cat-breeds-dataset/images/Siberian/45633297_63.jpg',\n",
       " '/kaggle/input/cat-breeds-dataset/images/Siberian/27991360_465.jpg',\n",
       " '/kaggle/input/cat-breeds-dataset/images/Siberian/44663134_89.jpg',\n",
       " '/kaggle/input/cat-breeds-dataset/images/Siberian/30481868_414.jpg',\n",
       " '/kaggle/input/cat-breeds-dataset/images/Siberian/18935491_591.jpg',\n",
       " '/kaggle/input/cat-breeds-dataset/images/Siberian/42466041_150.jpg',\n",
       " '/kaggle/input/cat-breeds-dataset/images/Siberian/36996824_273.jpg',\n",
       " '/kaggle/input/cat-breeds-dataset/images/Nebelung/36523705_288.jpg',\n",
       " '/kaggle/input/cat-breeds-dataset/images/Nebelung/45079082_65.jpg',\n",
       " '/kaggle/input/cat-breeds-dataset/images/Nebelung/35050532_319.jpg',\n",
       " '/kaggle/input/cat-breeds-dataset/images/Nebelung/33127882_367.jpg',\n",
       " '/kaggle/input/cat-breeds-dataset/images/Nebelung/23064209_585.jpg',\n",
       " '/kaggle/input/cat-breeds-dataset/images/Nebelung/41108421_178.jpg',\n",
       " '/kaggle/input/cat-breeds-dataset/images/Nebelung/23680668_573.jpg',\n",
       " '/kaggle/input/cat-breeds-dataset/images/Nebelung/33503171_357.jpg',\n",
       " '/kaggle/input/cat-breeds-dataset/images/Nebelung/45626623_38.jpg',\n",
       " '/kaggle/input/cat-breeds-dataset/images/Nebelung/44817180_80.jpg',\n",
       " '/kaggle/input/cat-breeds-dataset/images/Nebelung/40657381_193.jpg',\n",
       " '/kaggle/input/cat-breeds-dataset/images/Nebelung/32005464_392.jpg',\n",
       " '/kaggle/input/cat-breeds-dataset/images/Nebelung/42167226_159.jpg',\n",
       " '/kaggle/input/cat-breeds-dataset/images/Nebelung/39393965_224.jpg',\n",
       " '/kaggle/input/cat-breeds-dataset/images/Nebelung/24646750_552.jpg',\n",
       " '/kaggle/input/cat-breeds-dataset/images/Nebelung/18370272_646.jpg',\n",
       " '/kaggle/input/cat-breeds-dataset/images/Nebelung/46173946_55081.jpg',\n",
       " '/kaggle/input/cat-breeds-dataset/images/Nebelung/44808002_83.jpg',\n",
       " '/kaggle/input/cat-breeds-dataset/images/Nebelung/21395686_610.jpg',\n",
       " '/kaggle/input/cat-breeds-dataset/images/Nebelung/18116433_649.jpg',\n",
       " '/kaggle/input/cat-breeds-dataset/images/Nebelung/40088674_206.jpg',\n",
       " '/kaggle/input/cat-breeds-dataset/images/Nebelung/36472351_291.jpg',\n",
       " '/kaggle/input/cat-breeds-dataset/images/Nebelung/30812068_421.jpg',\n",
       " '/kaggle/input/cat-breeds-dataset/images/Nebelung/27855467_490.jpg',\n",
       " '/kaggle/input/cat-breeds-dataset/images/Nebelung/31939528_393.jpg',\n",
       " '/kaggle/input/cat-breeds-dataset/images/Nebelung/46284722_45665.jpg',\n",
       " '/kaggle/input/cat-breeds-dataset/images/Nebelung/40033347_208.jpg',\n",
       " '/kaggle/input/cat-breeds-dataset/images/Nebelung/30963000_418.jpg',\n",
       " '/kaggle/input/cat-breeds-dataset/images/Nebelung/20134254_623.jpg',\n",
       " '/kaggle/input/cat-breeds-dataset/images/Nebelung/43977186_113.jpg',\n",
       " '/kaggle/input/cat-breeds-dataset/images/Nebelung/37112380_274.jpg',\n",
       " '/kaggle/input/cat-breeds-dataset/images/Nebelung/41357271_170.jpg',\n",
       " '/kaggle/input/cat-breeds-dataset/images/Nebelung/24856343_547.jpg',\n",
       " '/kaggle/input/cat-breeds-dataset/images/Nebelung/45137632_62.jpg',\n",
       " '/kaggle/input/cat-breeds-dataset/images/Nebelung/27855517_489.jpg',\n",
       " '/kaggle/input/cat-breeds-dataset/images/Nebelung/42466209_152.jpg',\n",
       " '/kaggle/input/cat-breeds-dataset/images/Nebelung/26956811_502.jpg',\n",
       " '/kaggle/input/cat-breeds-dataset/images/Nebelung/46355365_39302.jpg',\n",
       " '/kaggle/input/cat-breeds-dataset/images/Nebelung/18260515_648.jpg',\n",
       " '/kaggle/input/cat-breeds-dataset/images/Nebelung/29148839_458.jpg',\n",
       " '/kaggle/input/cat-breeds-dataset/images/Nebelung/31103980_414.jpg',\n",
       " '/kaggle/input/cat-breeds-dataset/images/Nebelung/31846485_396.jpg',\n",
       " '/kaggle/input/cat-breeds-dataset/images/Nebelung/31838991_397.jpg',\n",
       " '/kaggle/input/cat-breeds-dataset/images/Nebelung/33880734_346.jpg',\n",
       " '/kaggle/input/cat-breeds-dataset/images/Nebelung/33368540_363.jpg',\n",
       " '/kaggle/input/cat-breeds-dataset/images/Nebelung/25535286_531.jpg',\n",
       " '/kaggle/input/cat-breeds-dataset/images/Nebelung/38238258_241.jpg',\n",
       " '/kaggle/input/cat-breeds-dataset/images/Nebelung/45116378_64.jpg',\n",
       " '/kaggle/input/cat-breeds-dataset/images/Nebelung/43414052_126.jpg',\n",
       " '/kaggle/input/cat-breeds-dataset/images/Nebelung/43887633_120.jpg',\n",
       " '/kaggle/input/cat-breeds-dataset/images/Nebelung/23938424_569.jpg',\n",
       " '/kaggle/input/cat-breeds-dataset/images/Nebelung/36723131_283.jpg',\n",
       " '/kaggle/input/cat-breeds-dataset/images/Nebelung/28572181_465.jpg',\n",
       " '/kaggle/input/cat-breeds-dataset/images/Nebelung/31096404_415.jpg',\n",
       " '/kaggle/input/cat-breeds-dataset/images/Nebelung/31293526_410.jpg',\n",
       " '/kaggle/input/cat-breeds-dataset/images/Nebelung/30605791_425.jpg',\n",
       " '/kaggle/input/cat-breeds-dataset/images/Nebelung/24284550_562.jpg',\n",
       " '/kaggle/input/cat-breeds-dataset/images/Nebelung/24950869_545.jpg',\n",
       " '/kaggle/input/cat-breeds-dataset/images/Nebelung/33519793_356.jpg',\n",
       " '/kaggle/input/cat-breeds-dataset/images/Nebelung/46719301_0.jpg',\n",
       " '/kaggle/input/cat-breeds-dataset/images/Nebelung/24569366_556.jpg',\n",
       " '/kaggle/input/cat-breeds-dataset/images/Nebelung/20192779_622.jpg',\n",
       " '/kaggle/input/cat-breeds-dataset/images/Nebelung/22140121_599.jpg',\n",
       " '/kaggle/input/cat-breeds-dataset/images/Nebelung/32292601_386.jpg',\n",
       " '/kaggle/input/cat-breeds-dataset/images/Nebelung/36851244_281.jpg',\n",
       " '/kaggle/input/cat-breeds-dataset/images/Nebelung/46706438_1.jpg',\n",
       " '/kaggle/input/cat-breeds-dataset/images/Nebelung/34098841_336.jpg',\n",
       " '/kaggle/input/cat-breeds-dataset/images/Nebelung/46682117_3.jpg',\n",
       " '/kaggle/input/cat-breeds-dataset/images/Nebelung/31875438_394.jpg',\n",
       " '/kaggle/input/cat-breeds-dataset/images/Nebelung/42975048_142.jpg',\n",
       " '/kaggle/input/cat-breeds-dataset/images/Nebelung/43111068_136.jpg',\n",
       " '/kaggle/input/cat-breeds-dataset/images/Nebelung/22556056_593.jpg',\n",
       " '/kaggle/input/cat-breeds-dataset/images/Nebelung/44140970_106.jpg',\n",
       " '/kaggle/input/cat-breeds-dataset/images/Nebelung/39944821_209.jpg',\n",
       " '/kaggle/input/cat-breeds-dataset/images/Nebelung/28554579_466.jpg',\n",
       " '/kaggle/input/cat-breeds-dataset/images/Nebelung/19936592_626.jpg',\n",
       " '/kaggle/input/cat-breeds-dataset/images/Nebelung/41878626_161.jpg',\n",
       " '/kaggle/input/cat-breeds-dataset/images/Nebelung/27633232_491.jpg',\n",
       " '/kaggle/input/cat-breeds-dataset/images/Nebelung/27926147_486.jpg',\n",
       " '/kaggle/input/cat-breeds-dataset/images/Nebelung/43103418_137.jpg',\n",
       " '/kaggle/input/cat-breeds-dataset/images/Nebelung/26418655_516.jpg',\n",
       " '/kaggle/input/cat-breeds-dataset/images/Nebelung/32458930_383.jpg',\n",
       " '/kaggle/input/cat-breeds-dataset/images/Nebelung/29322522_454.jpg',\n",
       " '/kaggle/input/cat-breeds-dataset/images/Nebelung/41028435_181.jpg',\n",
       " '/kaggle/input/cat-breeds-dataset/images/Nebelung/31770951_399.jpg',\n",
       " '/kaggle/input/cat-breeds-dataset/images/Nebelung/24006850_565.jpg',\n",
       " '/kaggle/input/cat-breeds-dataset/images/Nebelung/34074623_337.jpg',\n",
       " '/kaggle/input/cat-breeds-dataset/images/Nebelung/31331891_408.jpg',\n",
       " '/kaggle/input/cat-breeds-dataset/images/Nebelung/16965015_663.jpg',\n",
       " '/kaggle/input/cat-breeds-dataset/images/Nebelung/21680369_605.jpg',\n",
       " '/kaggle/input/cat-breeds-dataset/images/Nebelung/45807557_33.jpg',\n",
       " '/kaggle/input/cat-breeds-dataset/images/Nebelung/40305823_203.jpg',\n",
       " '/kaggle/input/cat-breeds-dataset/images/Nebelung/44183230_103.jpg',\n",
       " '/kaggle/input/cat-breeds-dataset/images/Nebelung/25301781_535.jpg',\n",
       " '/kaggle/input/cat-breeds-dataset/images/Nebelung/36626213_285.jpg',\n",
       " '/kaggle/input/cat-breeds-dataset/images/Nebelung/34389973_326.jpg',\n",
       " '/kaggle/input/cat-breeds-dataset/images/Nebelung/41113785_176.jpg',\n",
       " '/kaggle/input/cat-breeds-dataset/images/Nebelung/32444232_384.jpg',\n",
       " '/kaggle/input/cat-breeds-dataset/images/Nebelung/41108551_177.jpg',\n",
       " '/kaggle/input/cat-breeds-dataset/images/Nebelung/33583910_353.jpg',\n",
       " '/kaggle/input/cat-breeds-dataset/images/Nebelung/34657730_323.jpg',\n",
       " '/kaggle/input/cat-breeds-dataset/images/Nebelung/19339501_638.jpg',\n",
       " '/kaggle/input/cat-breeds-dataset/images/Nebelung/41336230_171.jpg',\n",
       " '/kaggle/input/cat-breeds-dataset/images/Nebelung/38115276_245.jpg',\n",
       " '/kaggle/input/cat-breeds-dataset/images/Nebelung/32485821_382.jpg',\n",
       " '/kaggle/input/cat-breeds-dataset/images/Nebelung/44021170_110.jpg',\n",
       " '/kaggle/input/cat-breeds-dataset/images/Nebelung/42958911_144.jpg',\n",
       " '/kaggle/input/cat-breeds-dataset/images/Nebelung/27467510_493.jpg',\n",
       " '/kaggle/input/cat-breeds-dataset/images/Nebelung/33241297_364.jpg',\n",
       " '/kaggle/input/cat-breeds-dataset/images/Nebelung/40089111_205.jpg',\n",
       " '/kaggle/input/cat-breeds-dataset/images/Nebelung/44151805_105.jpg',\n",
       " '/kaggle/input/cat-breeds-dataset/images/Nebelung/45169954_60.jpg',\n",
       " '/kaggle/input/cat-breeds-dataset/images/Nebelung/25348849_534.jpg',\n",
       " '/kaggle/input/cat-breeds-dataset/images/Nebelung/19402593_636.jpg',\n",
       " '/kaggle/input/cat-breeds-dataset/images/Nebelung/30952440_419.jpg',\n",
       " '/kaggle/input/cat-breeds-dataset/images/Nebelung/23680664_574.jpg',\n",
       " '/kaggle/input/cat-breeds-dataset/images/Nebelung/28481835_470.jpg',\n",
       " '/kaggle/input/cat-breeds-dataset/images/Nebelung/28825670_460.jpg',\n",
       " '/kaggle/input/cat-breeds-dataset/images/Nebelung/24328576_560.jpg',\n",
       " '/kaggle/input/cat-breeds-dataset/images/Nebelung/33421094_361.jpg',\n",
       " '/kaggle/input/cat-breeds-dataset/images/Nebelung/45983602_23.jpg',\n",
       " '/kaggle/input/cat-breeds-dataset/images/Nebelung/45524593_44.jpg',\n",
       " '/kaggle/input/cat-breeds-dataset/images/Nebelung/43560441_125.jpg',\n",
       " '/kaggle/input/cat-breeds-dataset/images/Nebelung/44808148_82.jpg',\n",
       " '/kaggle/input/cat-breeds-dataset/images/Nebelung/31818536_398.jpg',\n",
       " '/kaggle/input/cat-breeds-dataset/images/Nebelung/39747282_215.jpg',\n",
       " '/kaggle/input/cat-breeds-dataset/images/Nebelung/33961358_343.jpg',\n",
       " '/kaggle/input/cat-breeds-dataset/images/Nebelung/40680073_192.jpg',\n",
       " '/kaggle/input/cat-breeds-dataset/images/Nebelung/25942421_525.jpg',\n",
       " '/kaggle/input/cat-breeds-dataset/images/Nebelung/24071348_564.jpg',\n",
       " '/kaggle/input/cat-breeds-dataset/images/Nebelung/46207545_52242.jpg',\n",
       " '/kaggle/input/cat-breeds-dataset/images/Nebelung/44947032_72.jpg',\n",
       " '/kaggle/input/cat-breeds-dataset/images/Nebelung/21279148_611.jpg',\n",
       " '/kaggle/input/cat-breeds-dataset/images/Nebelung/31871800_395.jpg',\n",
       " '/kaggle/input/cat-breeds-dataset/images/Nebelung/36543867_286.jpg',\n",
       " '/kaggle/input/cat-breeds-dataset/images/Nebelung/24005347_566.jpg',\n",
       " '/kaggle/input/cat-breeds-dataset/images/Nebelung/44622205_90.jpg',\n",
       " '/kaggle/input/cat-breeds-dataset/images/Nebelung/45353348_53.jpg',\n",
       " '/kaggle/input/cat-breeds-dataset/images/Nebelung/18659307_641.jpg',\n",
       " '/kaggle/input/cat-breeds-dataset/images/Nebelung/38644477_235.jpg',\n",
       " '/kaggle/input/cat-breeds-dataset/images/Nebelung/42857254_146.jpg',\n",
       " '/kaggle/input/cat-breeds-dataset/images/Nebelung/35190952_318.jpg',\n",
       " '/kaggle/input/cat-breeds-dataset/images/Nebelung/39421411_222.jpg',\n",
       " '/kaggle/input/cat-breeds-dataset/images/Nebelung/37112304_275.jpg',\n",
       " '/kaggle/input/cat-breeds-dataset/images/Nebelung/39307931_227.jpg',\n",
       " '/kaggle/input/cat-breeds-dataset/images/Nebelung/41278944_172.jpg',\n",
       " '/kaggle/input/cat-breeds-dataset/images/Nebelung/38125522_244.jpg',\n",
       " '/kaggle/input/cat-breeds-dataset/images/Nebelung/41073854_180.jpg',\n",
       " '/kaggle/input/cat-breeds-dataset/images/Extra-Toes Cat - Hemingway Polydactyl/32672316_3682.jpg',\n",
       " '/kaggle/input/cat-breeds-dataset/images/Extra-Toes Cat - Hemingway Polydactyl/27432418_5308.jpg',\n",
       " '/kaggle/input/cat-breeds-dataset/images/Extra-Toes Cat - Hemingway Polydactyl/45998006_298.jpg',\n",
       " '/kaggle/input/cat-breeds-dataset/images/Extra-Toes Cat - Hemingway Polydactyl/45950317_403.jpg',\n",
       " '/kaggle/input/cat-breeds-dataset/images/Extra-Toes Cat - Hemingway Polydactyl/39704023_1872.jpg',\n",
       " '/kaggle/input/cat-breeds-dataset/images/Extra-Toes Cat - Hemingway Polydactyl/30194696_4422.jpg',\n",
       " '/kaggle/input/cat-breeds-dataset/images/Extra-Toes Cat - Hemingway Polydactyl/28444543_4968.jpg',\n",
       " '/kaggle/input/cat-breeds-dataset/images/Extra-Toes Cat - Hemingway Polydactyl/38768451_2092.jpg',\n",
       " '/kaggle/input/cat-breeds-dataset/images/Extra-Toes Cat - Hemingway Polydactyl/46001038_272.jpg',\n",
       " '/kaggle/input/cat-breeds-dataset/images/Extra-Toes Cat - Hemingway Polydactyl/24259773_6386.jpg',\n",
       " '/kaggle/input/cat-breeds-dataset/images/Extra-Toes Cat - Hemingway Polydactyl/37048321_2458.jpg',\n",
       " '/kaggle/input/cat-breeds-dataset/images/Extra-Toes Cat - Hemingway Polydactyl/33758690_3330.jpg',\n",
       " '/kaggle/input/cat-breeds-dataset/images/Extra-Toes Cat - Hemingway Polydactyl/33382651_3442.jpg',\n",
       " '/kaggle/input/cat-breeds-dataset/images/Extra-Toes Cat - Hemingway Polydactyl/45999117_283.jpg',\n",
       " '/kaggle/input/cat-breeds-dataset/images/Extra-Toes Cat - Hemingway Polydactyl/46469362_27819.jpg',\n",
       " '/kaggle/input/cat-breeds-dataset/images/Extra-Toes Cat - Hemingway Polydactyl/32473940_3752.jpg',\n",
       " '/kaggle/input/cat-breeds-dataset/images/Extra-Toes Cat - Hemingway Polydactyl/29938974_4522.jpg',\n",
       " '/kaggle/input/cat-breeds-dataset/images/Extra-Toes Cat - Hemingway Polydactyl/45996243_323.jpg',\n",
       " '/kaggle/input/cat-breeds-dataset/images/Extra-Toes Cat - Hemingway Polydactyl/27352008_5334.jpg',\n",
       " '/kaggle/input/cat-breeds-dataset/images/Extra-Toes Cat - Hemingway Polydactyl/43258962_1111.jpg',\n",
       " '/kaggle/input/cat-breeds-dataset/images/Extra-Toes Cat - Hemingway Polydactyl/46207057_52323.jpg',\n",
       " '/kaggle/input/cat-breeds-dataset/images/Extra-Toes Cat - Hemingway Polydactyl/45819800_459.jpg',\n",
       " '/kaggle/input/cat-breeds-dataset/images/Extra-Toes Cat - Hemingway Polydactyl/24063069_6424.jpg',\n",
       " '/kaggle/input/cat-breeds-dataset/images/Extra-Toes Cat - Hemingway Polydactyl/46001271_271.jpg',\n",
       " '/kaggle/input/cat-breeds-dataset/images/Extra-Toes Cat - Hemingway Polydactyl/24341595_6342.jpg',\n",
       " '/kaggle/input/cat-breeds-dataset/images/Extra-Toes Cat - Hemingway Polydactyl/33505245_3406.jpg',\n",
       " '/kaggle/input/cat-breeds-dataset/images/Extra-Toes Cat - Hemingway Polydactyl/43766028_981.jpg',\n",
       " '/kaggle/input/cat-breeds-dataset/images/Extra-Toes Cat - Hemingway Polydactyl/21269555_7229.jpg',\n",
       " '/kaggle/input/cat-breeds-dataset/images/Extra-Toes Cat - Hemingway Polydactyl/32194331_3827.jpg',\n",
       " '/kaggle/input/cat-breeds-dataset/images/Extra-Toes Cat - Hemingway Polydactyl/45999411_275.jpg',\n",
       " '/kaggle/input/cat-breeds-dataset/images/Extra-Toes Cat - Hemingway Polydactyl/26293298_5770.jpg',\n",
       " '/kaggle/input/cat-breeds-dataset/images/Extra-Toes Cat - Hemingway Polydactyl/41902918_1464.jpg',\n",
       " '/kaggle/input/cat-breeds-dataset/images/Extra-Toes Cat - Hemingway Polydactyl/45993118_367.jpg',\n",
       " '/kaggle/input/cat-breeds-dataset/images/Extra-Toes Cat - Hemingway Polydactyl/39996618_1786.jpg',\n",
       " '/kaggle/input/cat-breeds-dataset/images/Extra-Toes Cat - Hemingway Polydactyl/29915249_4529.jpg',\n",
       " '/kaggle/input/cat-breeds-dataset/images/Extra-Toes Cat - Hemingway Polydactyl/26934240_5474.jpg',\n",
       " '/kaggle/input/cat-breeds-dataset/images/Extra-Toes Cat - Hemingway Polydactyl/28915812_4838.jpg',\n",
       " '/kaggle/input/cat-breeds-dataset/images/Extra-Toes Cat - Hemingway Polydactyl/31470662_3974.jpg',\n",
       " '/kaggle/input/cat-breeds-dataset/images/Extra-Toes Cat - Hemingway Polydactyl/41206966_1598.jpg',\n",
       " '/kaggle/input/cat-breeds-dataset/images/Extra-Toes Cat - Hemingway Polydactyl/25730031_5923.jpg',\n",
       " '/kaggle/input/cat-breeds-dataset/images/Extra-Toes Cat - Hemingway Polydactyl/45965693_399.jpg',\n",
       " '/kaggle/input/cat-breeds-dataset/images/Extra-Toes Cat - Hemingway Polydactyl/34330794_3178.jpg',\n",
       " '/kaggle/input/cat-breeds-dataset/images/Extra-Toes Cat - Hemingway Polydactyl/39368587_1963.jpg',\n",
       " '/kaggle/input/cat-breeds-dataset/images/Extra-Toes Cat - Hemingway Polydactyl/44972396_744.jpg',\n",
       " '/kaggle/input/cat-breeds-dataset/images/Extra-Toes Cat - Hemingway Polydactyl/32911057_3607.jpg',\n",
       " '/kaggle/input/cat-breeds-dataset/images/Extra-Toes Cat - Hemingway Polydactyl/26120952_5824.jpg',\n",
       " '/kaggle/input/cat-breeds-dataset/images/Extra-Toes Cat - Hemingway Polydactyl/46593681_13057.jpg',\n",
       " '/kaggle/input/cat-breeds-dataset/images/Extra-Toes Cat - Hemingway Polydactyl/26306795_5756.jpg',\n",
       " '/kaggle/input/cat-breeds-dataset/images/Extra-Toes Cat - Hemingway Polydactyl/45998819_287.jpg',\n",
       " '/kaggle/input/cat-breeds-dataset/images/Extra-Toes Cat - Hemingway Polydactyl/21875248_7051.jpg',\n",
       " '/kaggle/input/cat-breeds-dataset/images/Extra-Toes Cat - Hemingway Polydactyl/32331774_3786.jpg',\n",
       " '/kaggle/input/cat-breeds-dataset/images/Extra-Toes Cat - Hemingway Polydactyl/29186427_4751.jpg',\n",
       " '/kaggle/input/cat-breeds-dataset/images/Extra-Toes Cat - Hemingway Polydactyl/26693047_5585.jpg',\n",
       " '/kaggle/input/cat-breeds-dataset/images/Extra-Toes Cat - Hemingway Polydactyl/46000820_278.jpg',\n",
       " '/kaggle/input/cat-breeds-dataset/images/Extra-Toes Cat - Hemingway Polydactyl/23030714_6796.jpg',\n",
       " '/kaggle/input/cat-breeds-dataset/images/Extra-Toes Cat - Hemingway Polydactyl/31297668_4030.jpg',\n",
       " '/kaggle/input/cat-breeds-dataset/images/Extra-Toes Cat - Hemingway Polydactyl/46555855_18070.jpg',\n",
       " '/kaggle/input/cat-breeds-dataset/images/Extra-Toes Cat - Hemingway Polydactyl/44945202_758.jpg',\n",
       " '/kaggle/input/cat-breeds-dataset/images/Extra-Toes Cat - Hemingway Polydactyl/45992266_362.jpg',\n",
       " '/kaggle/input/cat-breeds-dataset/images/Extra-Toes Cat - Hemingway Polydactyl/31331140_4011.jpg',\n",
       " '/kaggle/input/cat-breeds-dataset/images/Extra-Toes Cat - Hemingway Polydactyl/32263901_3803.jpg',\n",
       " '/kaggle/input/cat-breeds-dataset/images/Extra-Toes Cat - Hemingway Polydactyl/21623383_7127.jpg',\n",
       " '/kaggle/input/cat-breeds-dataset/images/Extra-Toes Cat - Hemingway Polydactyl/27511185_5267.jpg',\n",
       " '/kaggle/input/cat-breeds-dataset/images/Extra-Toes Cat - Hemingway Polydactyl/21586406_7133.jpg',\n",
       " '/kaggle/input/cat-breeds-dataset/images/Extra-Toes Cat - Hemingway Polydactyl/26706445_5580.jpg',\n",
       " '/kaggle/input/cat-breeds-dataset/images/Extra-Toes Cat - Hemingway Polydactyl/38435339_2168.jpg',\n",
       " '/kaggle/input/cat-breeds-dataset/images/Extra-Toes Cat - Hemingway Polydactyl/34688804_3096.jpg',\n",
       " '/kaggle/input/cat-breeds-dataset/images/Extra-Toes Cat - Hemingway Polydactyl/42859754_1193.jpg',\n",
       " '/kaggle/input/cat-breeds-dataset/images/Extra-Toes Cat - Hemingway Polydactyl/36224287_2665.jpg',\n",
       " '/kaggle/input/cat-breeds-dataset/images/Extra-Toes Cat - Hemingway Polydactyl/30585556_4296.jpg',\n",
       " '/kaggle/input/cat-breeds-dataset/images/Extra-Toes Cat - Hemingway Polydactyl/40683067_1693.jpg',\n",
       " '/kaggle/input/cat-breeds-dataset/images/Extra-Toes Cat - Hemingway Polydactyl/21370876_7198.jpg',\n",
       " '/kaggle/input/cat-breeds-dataset/images/Extra-Toes Cat - Hemingway Polydactyl/24263434_6382.jpg',\n",
       " '/kaggle/input/cat-breeds-dataset/images/Extra-Toes Cat - Hemingway Polydactyl/32738211_3656.jpg',\n",
       " '/kaggle/input/cat-breeds-dataset/images/Extra-Toes Cat - Hemingway Polydactyl/28014628_5096.jpg',\n",
       " '/kaggle/input/cat-breeds-dataset/images/Extra-Toes Cat - Hemingway Polydactyl/23681389_6528.jpg',\n",
       " '/kaggle/input/cat-breeds-dataset/images/Extra-Toes Cat - Hemingway Polydactyl/23685702_6524.jpg',\n",
       " '/kaggle/input/cat-breeds-dataset/images/Extra-Toes Cat - Hemingway Polydactyl/29099848_4788.jpg',\n",
       " '/kaggle/input/cat-breeds-dataset/images/Extra-Toes Cat - Hemingway Polydactyl/29161536_4764.jpg',\n",
       " '/kaggle/input/cat-breeds-dataset/images/Extra-Toes Cat - Hemingway Polydactyl/38042304_2243.jpg',\n",
       " '/kaggle/input/cat-breeds-dataset/images/Extra-Toes Cat - Hemingway Polydactyl/23196467_6740.jpg',\n",
       " '/kaggle/input/cat-breeds-dataset/images/Extra-Toes Cat - Hemingway Polydactyl/25638734_5944.jpg',\n",
       " '/kaggle/input/cat-breeds-dataset/images/Extra-Toes Cat - Hemingway Polydactyl/45998956_296.jpg',\n",
       " '/kaggle/input/cat-breeds-dataset/images/Extra-Toes Cat - Hemingway Polydactyl/46274747_46488.jpg',\n",
       " '/kaggle/input/cat-breeds-dataset/images/Extra-Toes Cat - Hemingway Polydactyl/45997269_294.jpg',\n",
       " '/kaggle/input/cat-breeds-dataset/images/Extra-Toes Cat - Hemingway Polydactyl/37671602_2311.jpg',\n",
       " '/kaggle/input/cat-breeds-dataset/images/Extra-Toes Cat - Hemingway Polydactyl/33320311_3460.jpg',\n",
       " '/kaggle/input/cat-breeds-dataset/images/Extra-Toes Cat - Hemingway Polydactyl/23702102_6514.jpg',\n",
       " '/kaggle/input/cat-breeds-dataset/images/Extra-Toes Cat - Hemingway Polydactyl/31921713_3891.jpg',\n",
       " '/kaggle/input/cat-breeds-dataset/images/Extra-Toes Cat - Hemingway Polydactyl/25392865_6003.jpg',\n",
       " '/kaggle/input/cat-breeds-dataset/images/Extra-Toes Cat - Hemingway Polydactyl/21032752_7327.jpg',\n",
       " '/kaggle/input/cat-breeds-dataset/images/Extra-Toes Cat - Hemingway Polydactyl/41066503_1622.jpg',\n",
       " '/kaggle/input/cat-breeds-dataset/images/Extra-Toes Cat - Hemingway Polydactyl/25239366_6048.jpg',\n",
       " '/kaggle/input/cat-breeds-dataset/images/Extra-Toes Cat - Hemingway Polydactyl/20819431_7389.jpg',\n",
       " '/kaggle/input/cat-breeds-dataset/images/Extra-Toes Cat - Hemingway Polydactyl/42756599_1227.jpg',\n",
       " '/kaggle/input/cat-breeds-dataset/images/Extra-Toes Cat - Hemingway Polydactyl/26608231_5627.jpg',\n",
       " '/kaggle/input/cat-breeds-dataset/images/Extra-Toes Cat - Hemingway Polydactyl/37225132_2405.jpg',\n",
       " '/kaggle/input/cat-breeds-dataset/images/Extra-Toes Cat - Hemingway Polydactyl/46003128_250.jpg',\n",
       " '/kaggle/input/cat-breeds-dataset/images/Extra-Toes Cat - Hemingway Polydactyl/26907674_5484.jpg',\n",
       " '/kaggle/input/cat-breeds-dataset/images/Extra-Toes Cat - Hemingway Polydactyl/46003851_248.jpg',\n",
       " '/kaggle/input/cat-breeds-dataset/images/Extra-Toes Cat - Hemingway Polydactyl/35246882_2947.jpg',\n",
       " '/kaggle/input/cat-breeds-dataset/images/Extra-Toes Cat - Hemingway Polydactyl/29539821_4655.jpg',\n",
       " '/kaggle/input/cat-breeds-dataset/images/Extra-Toes Cat - Hemingway Polydactyl/34516465_3134.jpg',\n",
       " '/kaggle/input/cat-breeds-dataset/images/Extra-Toes Cat - Hemingway Polydactyl/20906247_7357.jpg',\n",
       " '/kaggle/input/cat-breeds-dataset/images/Extra-Toes Cat - Hemingway Polydactyl/45998085_303.jpg',\n",
       " '/kaggle/input/cat-breeds-dataset/images/Extra-Toes Cat - Hemingway Polydactyl/41942297_1446.jpg',\n",
       " '/kaggle/input/cat-breeds-dataset/images/Extra-Toes Cat - Hemingway Polydactyl/41197698_1600.jpg',\n",
       " '/kaggle/input/cat-breeds-dataset/images/Extra-Toes Cat - Hemingway Polydactyl/24507480_6261.jpg',\n",
       " '/kaggle/input/cat-breeds-dataset/images/Extra-Toes Cat - Hemingway Polydactyl/44949135_751.jpg',\n",
       " '/kaggle/input/cat-breeds-dataset/images/Extra-Toes Cat - Hemingway Polydactyl/26301444_5757.jpg',\n",
       " '/kaggle/input/cat-breeds-dataset/images/Extra-Toes Cat - Hemingway Polydactyl/20754213_7408.jpg',\n",
       " '/kaggle/input/cat-breeds-dataset/images/Extra-Toes Cat - Hemingway Polydactyl/35926034_2720.jpg',\n",
       " '/kaggle/input/cat-breeds-dataset/images/Extra-Toes Cat - Hemingway Polydactyl/27733315_5193.jpg',\n",
       " '/kaggle/input/cat-breeds-dataset/images/Extra-Toes Cat - Hemingway Polydactyl/32587415_3721.jpg',\n",
       " '/kaggle/input/cat-breeds-dataset/images/Extra-Toes Cat - Hemingway Polydactyl/35351164_2904.jpg',\n",
       " '/kaggle/input/cat-breeds-dataset/images/Extra-Toes Cat - Hemingway Polydactyl/31569499_3954.jpg',\n",
       " '/kaggle/input/cat-breeds-dataset/images/Extra-Toes Cat - Hemingway Polydactyl/27141408_5395.jpg',\n",
       " '/kaggle/input/cat-breeds-dataset/images/Extra-Toes Cat - Hemingway Polydactyl/45997759_311.jpg',\n",
       " '/kaggle/input/cat-breeds-dataset/images/Extra-Toes Cat - Hemingway Polydactyl/40030555_1777.jpg',\n",
       " '/kaggle/input/cat-breeds-dataset/images/Extra-Toes Cat - Hemingway Polydactyl/21402370_7188.jpg',\n",
       " '/kaggle/input/cat-breeds-dataset/images/Extra-Toes Cat - Hemingway Polydactyl/45996437_332.jpg',\n",
       " '/kaggle/input/cat-breeds-dataset/images/Extra-Toes Cat - Hemingway Polydactyl/45995589_333.jpg',\n",
       " '/kaggle/input/cat-breeds-dataset/images/Extra-Toes Cat - Hemingway Polydactyl/33034995_3561.jpg',\n",
       " '/kaggle/input/cat-breeds-dataset/images/Extra-Toes Cat - Hemingway Polydactyl/30184753_4430.jpg',\n",
       " '/kaggle/input/cat-breeds-dataset/images/Extra-Toes Cat - Hemingway Polydactyl/27963567_5121.jpg',\n",
       " '/kaggle/input/cat-breeds-dataset/images/Extra-Toes Cat - Hemingway Polydactyl/26430790_5696.jpg',\n",
       " '/kaggle/input/cat-breeds-dataset/images/Extra-Toes Cat - Hemingway Polydactyl/33057901_3553.jpg',\n",
       " '/kaggle/input/cat-breeds-dataset/images/Extra-Toes Cat - Hemingway Polydactyl/45999518_318.jpg',\n",
       " '/kaggle/input/cat-breeds-dataset/images/Extra-Toes Cat - Hemingway Polydactyl/39901135_1816.jpg',\n",
       " '/kaggle/input/cat-breeds-dataset/images/Extra-Toes Cat - Hemingway Polydactyl/43161795_1141.jpg',\n",
       " '/kaggle/input/cat-breeds-dataset/images/Extra-Toes Cat - Hemingway Polydactyl/32685161_3678.jpg',\n",
       " '/kaggle/input/cat-breeds-dataset/images/Extra-Toes Cat - Hemingway Polydactyl/32205724_3820.jpg',\n",
       " '/kaggle/input/cat-breeds-dataset/images/Extra-Toes Cat - Hemingway Polydactyl/33997508_3259.jpg',\n",
       " '/kaggle/input/cat-breeds-dataset/images/Extra-Toes Cat - Hemingway Polydactyl/28187223_5030.jpg',\n",
       " '/kaggle/input/cat-breeds-dataset/images/Extra-Toes Cat - Hemingway Polydactyl/35507958_2861.jpg',\n",
       " '/kaggle/input/cat-breeds-dataset/images/Extra-Toes Cat - Hemingway Polydactyl/21047740_7326.jpg',\n",
       " '/kaggle/input/cat-breeds-dataset/images/Extra-Toes Cat - Hemingway Polydactyl/21132898_7291.jpg',\n",
       " '/kaggle/input/cat-breeds-dataset/images/Extra-Toes Cat - Hemingway Polydactyl/34367436_3170.jpg',\n",
       " '/kaggle/input/cat-breeds-dataset/images/Extra-Toes Cat - Hemingway Polydactyl/25807212_5902.jpg',\n",
       " '/kaggle/input/cat-breeds-dataset/images/Extra-Toes Cat - Hemingway Polydactyl/34725216_3091.jpg',\n",
       " '/kaggle/input/cat-breeds-dataset/images/Extra-Toes Cat - Hemingway Polydactyl/46670027_521.jpg',\n",
       " '/kaggle/input/cat-breeds-dataset/images/Extra-Toes Cat - Hemingway Polydactyl/45993946_356.jpg',\n",
       " '/kaggle/input/cat-breeds-dataset/images/Extra-Toes Cat - Hemingway Polydactyl/46727320_7.jpg',\n",
       " '/kaggle/input/cat-breeds-dataset/images/Extra-Toes Cat - Hemingway Polydactyl/21625757_7126.jpg',\n",
       " '/kaggle/input/cat-breeds-dataset/images/Extra-Toes Cat - Hemingway Polydactyl/29720412_4599.jpg',\n",
       " '/kaggle/input/cat-breeds-dataset/images/Extra-Toes Cat - Hemingway Polydactyl/27971479_5118.jpg',\n",
       " '/kaggle/input/cat-breeds-dataset/images/Extra-Toes Cat - Hemingway Polydactyl/34183021_3221.jpg',\n",
       " '/kaggle/input/cat-breeds-dataset/images/Extra-Toes Cat - Hemingway Polydactyl/21560122_7138.jpg',\n",
       " '/kaggle/input/cat-breeds-dataset/images/Extra-Toes Cat - Hemingway Polydactyl/45996408_331.jpg',\n",
       " '/kaggle/input/cat-breeds-dataset/images/Extra-Toes Cat - Hemingway Polydactyl/35738991_2776.jpg',\n",
       " '/kaggle/input/cat-breeds-dataset/images/Extra-Toes Cat - Hemingway Polydactyl/43592792_1028.jpg',\n",
       " '/kaggle/input/cat-breeds-dataset/images/Extra-Toes Cat - Hemingway Polydactyl/20767879_7405.jpg',\n",
       " '/kaggle/input/cat-breeds-dataset/images/Extra-Toes Cat - Hemingway Polydactyl/36515160_2594.jpg',\n",
       " '/kaggle/input/cat-breeds-dataset/images/Extra-Toes Cat - Hemingway Polydactyl/36562418_2582.jpg',\n",
       " '/kaggle/input/cat-breeds-dataset/images/Extra-Toes Cat - Hemingway Polydactyl/30059573_4473.jpg',\n",
       " '/kaggle/input/cat-breeds-dataset/images/Extra-Toes Cat - Hemingway Polydactyl/28553176_4934.jpg',\n",
       " '/kaggle/input/cat-breeds-dataset/images/Extra-Toes Cat - Hemingway Polydactyl/32541396_3736.jpg',\n",
       " '/kaggle/input/cat-breeds-dataset/images/Extra-Toes Cat - Hemingway Polydactyl/39836783_1834.jpg',\n",
       " '/kaggle/input/cat-breeds-dataset/images/Extra-Toes Cat - Hemingway Polydactyl/40882462_1651.jpg',\n",
       " '/kaggle/input/cat-breeds-dataset/images/Extra-Toes Cat - Hemingway Polydactyl/31024433_4135.jpg',\n",
       " '/kaggle/input/cat-breeds-dataset/images/Extra-Toes Cat - Hemingway Polydactyl/46296301_126.jpg',\n",
       " '/kaggle/input/cat-breeds-dataset/images/Extra-Toes Cat - Hemingway Polydactyl/20754230_7407.jpg',\n",
       " '/kaggle/input/cat-breeds-dataset/images/Extra-Toes Cat - Hemingway Polydactyl/26608217_5629.jpg',\n",
       " '/kaggle/input/cat-breeds-dataset/images/Extra-Toes Cat - Hemingway Polydactyl/32685571_3672.jpg',\n",
       " '/kaggle/input/cat-breeds-dataset/images/Extra-Toes Cat - Hemingway Polydactyl/37365052_2373.jpg',\n",
       " '/kaggle/input/cat-breeds-dataset/images/Extra-Toes Cat - Hemingway Polydactyl/37270671_2389.jpg',\n",
       " '/kaggle/input/cat-breeds-dataset/images/Extra-Toes Cat - Hemingway Polydactyl/37353308_2375.jpg',\n",
       " '/kaggle/input/cat-breeds-dataset/images/Extra-Toes Cat - Hemingway Polydactyl/26344297_5735.jpg',\n",
       " '/kaggle/input/cat-breeds-dataset/images/Extra-Toes Cat - Hemingway Polydactyl/35236561_2951.jpg',\n",
       " '/kaggle/input/cat-breeds-dataset/images/Extra-Toes Cat - Hemingway Polydactyl/40727833_1681.jpg',\n",
       " '/kaggle/input/cat-breeds-dataset/images/Extra-Toes Cat - Hemingway Polydactyl/23053991_6781.jpg',\n",
       " '/kaggle/input/cat-breeds-dataset/images/Extra-Toes Cat - Hemingway Polydactyl/31294332_4031.jpg',\n",
       " '/kaggle/input/cat-breeds-dataset/images/Extra-Toes Cat - Hemingway Polydactyl/40050474_1774.jpg',\n",
       " '/kaggle/input/cat-breeds-dataset/images/Extra-Toes Cat - Hemingway Polydactyl/32778161_3647.jpg',\n",
       " '/kaggle/input/cat-breeds-dataset/images/Extra-Toes Cat - Hemingway Polydactyl/28052920_5080.jpg',\n",
       " '/kaggle/input/cat-breeds-dataset/images/Extra-Toes Cat - Hemingway Polydactyl/45996903_321.jpg',\n",
       " '/kaggle/input/cat-breeds-dataset/images/Extra-Toes Cat - Hemingway Polydactyl/28939079_4828.jpg',\n",
       " '/kaggle/input/cat-breeds-dataset/images/Extra-Toes Cat - Hemingway Polydactyl/45260494_638.jpg',\n",
       " '/kaggle/input/cat-breeds-dataset/images/Extra-Toes Cat - Hemingway Polydactyl/45991894_374.jpg',\n",
       " '/kaggle/input/cat-breeds-dataset/images/Extra-Toes Cat - Hemingway Polydactyl/40791230_1666.jpg',\n",
       " '/kaggle/input/cat-breeds-dataset/images/Extra-Toes Cat - Hemingway Polydactyl/22844582_6845.jpg',\n",
       " '/kaggle/input/cat-breeds-dataset/images/Extra-Toes Cat - Hemingway Polydactyl/36265292_2654.jpg',\n",
       " '/kaggle/input/cat-breeds-dataset/images/Extra-Toes Cat - Hemingway Polydactyl/28834866_4857.jpg',\n",
       " '/kaggle/input/cat-breeds-dataset/images/Extra-Toes Cat - Hemingway Polydactyl/45999976_302.jpg',\n",
       " '/kaggle/input/cat-breeds-dataset/images/Extra-Toes Cat - Hemingway Polydactyl/21754603_7094.jpg',\n",
       " '/kaggle/input/cat-breeds-dataset/images/Extra-Toes Cat - Hemingway Polydactyl/30473250_4342.jpg',\n",
       " '/kaggle/input/cat-breeds-dataset/images/Extra-Toes Cat - Hemingway Polydactyl/27022570_5444.jpg',\n",
       " '/kaggle/input/cat-breeds-dataset/images/Extra-Toes Cat - Hemingway Polydactyl/24108707_6414.jpg',\n",
       " '/kaggle/input/cat-breeds-dataset/images/Extra-Toes Cat - Hemingway Polydactyl/37270676_2387.jpg',\n",
       " '/kaggle/input/cat-breeds-dataset/images/Extra-Toes Cat - Hemingway Polydactyl/41303813_1585.jpg',\n",
       " '/kaggle/input/cat-breeds-dataset/images/Extra-Toes Cat - Hemingway Polydactyl/30290920_4394.jpg',\n",
       " '/kaggle/input/cat-breeds-dataset/images/Extra-Toes Cat - Hemingway Polydactyl/24694746_6198.jpg',\n",
       " '/kaggle/input/cat-breeds-dataset/images/Extra-Toes Cat - Hemingway Polydactyl/46331181_41440.jpg',\n",
       " '/kaggle/input/cat-breeds-dataset/images/Extra-Toes Cat - Hemingway Polydactyl/42337575_1341.jpg',\n",
       " '/kaggle/input/cat-breeds-dataset/images/Extra-Toes Cat - Hemingway Polydactyl/41903505_1463.jpg',\n",
       " '/kaggle/input/cat-breeds-dataset/images/Extra-Toes Cat - Hemingway Polydactyl/40573765_1716.jpg',\n",
       " '/kaggle/input/cat-breeds-dataset/images/Extra-Toes Cat - Hemingway Polydactyl/42147363_1382.jpg',\n",
       " '/kaggle/input/cat-breeds-dataset/images/Extra-Toes Cat - Hemingway Polydactyl/26178948_5801.jpg',\n",
       " '/kaggle/input/cat-breeds-dataset/images/Extra-Toes Cat - Hemingway Polydactyl/25397354_6001.jpg',\n",
       " '/kaggle/input/cat-breeds-dataset/images/Extra-Toes Cat - Hemingway Polydactyl/45994488_342.jpg',\n",
       " '/kaggle/input/cat-breeds-dataset/images/Extra-Toes Cat - Hemingway Polydactyl/20844805_7381.jpg',\n",
       " '/kaggle/input/cat-breeds-dataset/images/Extra-Toes Cat - Hemingway Polydactyl/30033515_4481.jpg',\n",
       " '/kaggle/input/cat-breeds-dataset/images/Extra-Toes Cat - Hemingway Polydactyl/25960937_5872.jpg',\n",
       " '/kaggle/input/cat-breeds-dataset/images/Extra-Toes Cat - Hemingway Polydactyl/36415447_2614.jpg',\n",
       " '/kaggle/input/cat-breeds-dataset/images/Extra-Toes Cat - Hemingway Polydactyl/22399801_6946.jpg',\n",
       " '/kaggle/input/cat-breeds-dataset/images/Extra-Toes Cat - Hemingway Polydactyl/45991675_385.jpg',\n",
       " '/kaggle/input/cat-breeds-dataset/images/Extra-Toes Cat - Hemingway Polydactyl/30872610_4192.jpg',\n",
       " '/kaggle/input/cat-breeds-dataset/images/Extra-Toes Cat - Hemingway Polydactyl/45205117_651.jpg',\n",
       " '/kaggle/input/cat-breeds-dataset/images/Extra-Toes Cat - Hemingway Polydactyl/23500876_6620.jpg',\n",
       " '/kaggle/input/cat-breeds-dataset/images/Extra-Toes Cat - Hemingway Polydactyl/28131238_5058.jpg',\n",
       " '/kaggle/input/cat-breeds-dataset/images/Extra-Toes Cat - Hemingway Polydactyl/28923261_4836.jpg',\n",
       " '/kaggle/input/cat-breeds-dataset/images/Extra-Toes Cat - Hemingway Polydactyl/42890113_1191.jpg',\n",
       " '/kaggle/input/cat-breeds-dataset/images/Extra-Toes Cat - Hemingway Polydactyl/41680928_1516.jpg',\n",
       " '/kaggle/input/cat-breeds-dataset/images/Extra-Toes Cat - Hemingway Polydactyl/40764678_1671.jpg',\n",
       " '/kaggle/input/cat-breeds-dataset/images/Extra-Toes Cat - Hemingway Polydactyl/28318182_4992.jpg',\n",
       " '/kaggle/input/cat-breeds-dataset/images/Extra-Toes Cat - Hemingway Polydactyl/45994445_343.jpg',\n",
       " '/kaggle/input/cat-breeds-dataset/images/Extra-Toes Cat - Hemingway Polydactyl/35246883_2946.jpg',\n",
       " '/kaggle/input/cat-breeds-dataset/images/Extra-Toes Cat - Hemingway Polydactyl/28134789_5056.jpg',\n",
       " '/kaggle/input/cat-breeds-dataset/images/Extra-Toes Cat - Hemingway Polydactyl/45999628_290.jpg',\n",
       " '/kaggle/input/cat-breeds-dataset/images/Extra-Toes Cat - Hemingway Polydactyl/35092270_2996.jpg',\n",
       " '/kaggle/input/cat-breeds-dataset/images/Extra-Toes Cat - Hemingway Polydactyl/33557529_3381.jpg',\n",
       " '/kaggle/input/cat-breeds-dataset/images/Extra-Toes Cat - Hemingway Polydactyl/45997739_312.jpg',\n",
       " '/kaggle/input/cat-breeds-dataset/images/Extra-Toes Cat - Hemingway Polydactyl/45994735_339.jpg',\n",
       " '/kaggle/input/cat-breeds-dataset/images/Extra-Toes Cat - Hemingway Polydactyl/27634690_5234.jpg',\n",
       " '/kaggle/input/cat-breeds-dataset/images/Extra-Toes Cat - Hemingway Polydactyl/33209776_3503.jpg',\n",
       " '/kaggle/input/cat-breeds-dataset/images/Extra-Toes Cat - Hemingway Polydactyl/25392910_6002.jpg',\n",
       " '/kaggle/input/cat-breeds-dataset/images/Extra-Toes Cat - Hemingway Polydactyl/44931548_763.jpg',\n",
       " '/kaggle/input/cat-breeds-dataset/images/Extra-Toes Cat - Hemingway Polydactyl/37848367_2277.jpg',\n",
       " '/kaggle/input/cat-breeds-dataset/images/Extra-Toes Cat - Hemingway Polydactyl/45994686_338.jpg',\n",
       " '/kaggle/input/cat-breeds-dataset/images/Extra-Toes Cat - Hemingway Polydactyl/32800146_3642.jpg',\n",
       " '/kaggle/input/cat-breeds-dataset/images/Extra-Toes Cat - Hemingway Polydactyl/23196475_6739.jpg',\n",
       " '/kaggle/input/cat-breeds-dataset/images/Extra-Toes Cat - Hemingway Polydactyl/45147787_669.jpg',\n",
       " '/kaggle/input/cat-breeds-dataset/images/Extra-Toes Cat - Hemingway Polydactyl/26111528_5828.jpg',\n",
       " '/kaggle/input/cat-breeds-dataset/images/Extra-Toes Cat - Hemingway Polydactyl/25351058_6016.jpg',\n",
       " '/kaggle/input/cat-breeds-dataset/images/Extra-Toes Cat - Hemingway Polydactyl/25543414_5967.jpg',\n",
       " '/kaggle/input/cat-breeds-dataset/images/Extra-Toes Cat - Hemingway Polydactyl/45632371_510.jpg',\n",
       " '/kaggle/input/cat-breeds-dataset/images/Extra-Toes Cat - Hemingway Polydactyl/43758656_983.jpg',\n",
       " '/kaggle/input/cat-breeds-dataset/images/Extra-Toes Cat - Hemingway Polydactyl/26718605_5579.jpg',\n",
       " '/kaggle/input/cat-breeds-dataset/images/Extra-Toes Cat - Hemingway Polydactyl/45999972_299.jpg',\n",
       " '/kaggle/input/cat-breeds-dataset/images/Extra-Toes Cat - Hemingway Polydactyl/41902904_1465.jpg',\n",
       " '/kaggle/input/cat-breeds-dataset/images/Extra-Toes Cat - Hemingway Polydactyl/39767834_1849.jpg',\n",
       " '/kaggle/input/cat-breeds-dataset/images/Extra-Toes Cat - Hemingway Polydactyl/21770730_7087.jpg',\n",
       " '/kaggle/input/cat-breeds-dataset/images/Extra-Toes Cat - Hemingway Polydactyl/46001945_263.jpg',\n",
       " '/kaggle/input/cat-breeds-dataset/images/Extra-Toes Cat - Hemingway Polydactyl/43783325_977.jpg',\n",
       " '/kaggle/input/cat-breeds-dataset/images/Extra-Toes Cat - Hemingway Polydactyl/35285418_2927.jpg',\n",
       " '/kaggle/input/cat-breeds-dataset/images/Extra-Toes Cat - Hemingway Polydactyl/25752703_5915.jpg',\n",
       " '/kaggle/input/cat-breeds-dataset/images/Extra-Toes Cat - Hemingway Polydactyl/26470142_5684.jpg',\n",
       " '/kaggle/input/cat-breeds-dataset/images/Extra-Toes Cat - Hemingway Polydactyl/43539154_1037.jpg',\n",
       " '/kaggle/input/cat-breeds-dataset/images/Extra-Toes Cat - Hemingway Polydactyl/43753056_988.jpg',\n",
       " '/kaggle/input/cat-breeds-dataset/images/Extra-Toes Cat - Hemingway Polydactyl/33668772_3343.jpg',\n",
       " '/kaggle/input/cat-breeds-dataset/images/Extra-Toes Cat - Hemingway Polydactyl/26470102_5685.jpg',\n",
       " '/kaggle/input/cat-breeds-dataset/images/Extra-Toes Cat - Hemingway Polydactyl/39685285_1877.jpg',\n",
       " '/kaggle/input/cat-breeds-dataset/images/Extra-Toes Cat - Hemingway Polydactyl/31221456_4050.jpg',\n",
       " '/kaggle/input/cat-breeds-dataset/images/Extra-Toes Cat - Hemingway Polydactyl/43633117_1021.jpg',\n",
       " '/kaggle/input/cat-breeds-dataset/images/Extra-Toes Cat - Hemingway Polydactyl/22468214_6927.jpg',\n",
       " '/kaggle/input/cat-breeds-dataset/images/Extra-Toes Cat - Hemingway Polydactyl/31768325_3920.jpg',\n",
       " '/kaggle/input/cat-breeds-dataset/images/Extra-Toes Cat - Hemingway Polydactyl/35862367_2736.jpg',\n",
       " '/kaggle/input/cat-breeds-dataset/images/Extra-Toes Cat - Hemingway Polydactyl/37732555_2300.jpg',\n",
       " '/kaggle/input/cat-breeds-dataset/images/Extra-Toes Cat - Hemingway Polydactyl/26761461_5561.jpg',\n",
       " '/kaggle/input/cat-breeds-dataset/images/Extra-Toes Cat - Hemingway Polydactyl/46003379_245.jpg',\n",
       " '/kaggle/input/cat-breeds-dataset/images/Extra-Toes Cat - Hemingway Polydactyl/28719342_4883.jpg',\n",
       " '/kaggle/input/cat-breeds-dataset/images/Extra-Toes Cat - Hemingway Polydactyl/46662214_1988.jpg',\n",
       " '/kaggle/input/cat-breeds-dataset/images/Extra-Toes Cat - Hemingway Polydactyl/33300351_3467.jpg',\n",
       " '/kaggle/input/cat-breeds-dataset/images/Extra-Toes Cat - Hemingway Polydactyl/23454451_6633.jpg',\n",
       " '/kaggle/input/cat-breeds-dataset/images/Extra-Toes Cat - Hemingway Polydactyl/21931017_7035.jpg',\n",
       " '/kaggle/input/cat-breeds-dataset/images/Extra-Toes Cat - Hemingway Polydactyl/45998998_300.jpg',\n",
       " '/kaggle/input/cat-breeds-dataset/images/Extra-Toes Cat - Hemingway Polydactyl/36612121_2573.jpg',\n",
       " '/kaggle/input/cat-breeds-dataset/images/Extra-Toes Cat - Hemingway Polydactyl/30585523_4298.jpg',\n",
       " '/kaggle/input/cat-breeds-dataset/images/Extra-Toes Cat - Hemingway Polydactyl/44672804_821.jpg',\n",
       " '/kaggle/input/cat-breeds-dataset/images/Extra-Toes Cat - Hemingway Polydactyl/24961865_6110.jpg',\n",
       " '/kaggle/input/cat-breeds-dataset/images/Extra-Toes Cat - Hemingway Polydactyl/38036705_2246.jpg',\n",
       " '/kaggle/input/cat-breeds-dataset/images/Extra-Toes Cat - Hemingway Polydactyl/42198054_1373.jpg',\n",
       " '/kaggle/input/cat-breeds-dataset/images/Extra-Toes Cat - Hemingway Polydactyl/45993800_357.jpg',\n",
       " '/kaggle/input/cat-breeds-dataset/images/Extra-Toes Cat - Hemingway Polydactyl/21922556_7039.jpg',\n",
       " '/kaggle/input/cat-breeds-dataset/images/Extra-Toes Cat - Hemingway Polydactyl/20906186_7358.jpg',\n",
       " '/kaggle/input/cat-breeds-dataset/images/Extra-Toes Cat - Hemingway Polydactyl/41801034_1495.jpg',\n",
       " '/kaggle/input/cat-breeds-dataset/images/Extra-Toes Cat - Hemingway Polydactyl/21495350_7153.jpg',\n",
       " '/kaggle/input/cat-breeds-dataset/images/Extra-Toes Cat - Hemingway Polydactyl/44409980_867.jpg',\n",
       " '/kaggle/input/cat-breeds-dataset/images/Extra-Toes Cat - Hemingway Polydactyl/41059631_1623.jpg',\n",
       " '/kaggle/input/cat-breeds-dataset/images/Extra-Toes Cat - Hemingway Polydactyl/45384571_585.jpg',\n",
       " '/kaggle/input/cat-breeds-dataset/images/Extra-Toes Cat - Hemingway Polydactyl/46003521_255.jpg',\n",
       " '/kaggle/input/cat-breeds-dataset/images/Extra-Toes Cat - Hemingway Polydactyl/27253654_5365.jpg',\n",
       " '/kaggle/input/cat-breeds-dataset/images/Extra-Toes Cat - Hemingway Polydactyl/45991685_382.jpg',\n",
       " '/kaggle/input/cat-breeds-dataset/images/Extra-Toes Cat - Hemingway Polydactyl/43539157_1036.jpg',\n",
       " '/kaggle/input/cat-breeds-dataset/images/Extra-Toes Cat - Hemingway Polydactyl/26124935_5822.jpg',\n",
       " '/kaggle/input/cat-breeds-dataset/images/Extra-Toes Cat - Hemingway Polydactyl/40461878_1746.jpg',\n",
       " '/kaggle/input/cat-breeds-dataset/images/Extra-Toes Cat - Hemingway Polydactyl/31794217_3916.jpg',\n",
       " '/kaggle/input/cat-breeds-dataset/images/Extra-Toes Cat - Hemingway Polydactyl/23151684_6758.jpg',\n",
       " '/kaggle/input/cat-breeds-dataset/images/Extra-Toes Cat - Hemingway Polydactyl/37622463_2318.jpg',\n",
       " '/kaggle/input/cat-breeds-dataset/images/Extra-Toes Cat - Hemingway Polydactyl/24260093_6385.jpg',\n",
       " '/kaggle/input/cat-breeds-dataset/images/Extra-Toes Cat - Hemingway Polydactyl/27306536_5348.jpg',\n",
       " '/kaggle/input/cat-breeds-dataset/images/Extra-Toes Cat - Hemingway Polydactyl/35718102_2788.jpg',\n",
       " '/kaggle/input/cat-breeds-dataset/images/Extra-Toes Cat - Hemingway Polydactyl/25950230_5874.jpg',\n",
       " '/kaggle/input/cat-breeds-dataset/images/Extra-Toes Cat - Hemingway Polydactyl/24023245_6438.jpg',\n",
       " '/kaggle/input/cat-breeds-dataset/images/Extra-Toes Cat - Hemingway Polydactyl/24836363_6153.jpg',\n",
       " '/kaggle/input/cat-breeds-dataset/images/Extra-Toes Cat - Hemingway Polydactyl/32821831_3624.jpg',\n",
       " '/kaggle/input/cat-breeds-dataset/images/Extra-Toes Cat - Hemingway Polydactyl/38587183_2132.jpg',\n",
       " '/kaggle/input/cat-breeds-dataset/images/Extra-Toes Cat - Hemingway Polydactyl/32189035_3831.jpg',\n",
       " '/kaggle/input/cat-breeds-dataset/images/Extra-Toes Cat - Hemingway Polydactyl/21401813_7190.jpg',\n",
       " '/kaggle/input/cat-breeds-dataset/images/Extra-Toes Cat - Hemingway Polydactyl/42807252_1212.jpg',\n",
       " '/kaggle/input/cat-breeds-dataset/images/Extra-Toes Cat - Hemingway Polydactyl/35345782_2908.jpg',\n",
       " '/kaggle/input/cat-breeds-dataset/images/Extra-Toes Cat - Hemingway Polydactyl/30601562_4282.jpg',\n",
       " '/kaggle/input/cat-breeds-dataset/images/Extra-Toes Cat - Hemingway Polydactyl/39341102_1976.jpg',\n",
       " '/kaggle/input/cat-breeds-dataset/images/Extra-Toes Cat - Hemingway Polydactyl/32263454_3806.jpg',\n",
       " '/kaggle/input/cat-breeds-dataset/images/Extra-Toes Cat - Hemingway Polydactyl/22750421_6875.jpg',\n",
       " '/kaggle/input/cat-breeds-dataset/images/Extra-Toes Cat - Hemingway Polydactyl/46293237_44799.jpg',\n",
       " '/kaggle/input/cat-breeds-dataset/images/Extra-Toes Cat - Hemingway Polydactyl/28769970_4867.jpg',\n",
       " '/kaggle/input/cat-breeds-dataset/images/Extra-Toes Cat - Hemingway Polydactyl/31033032_4129.jpg',\n",
       " '/kaggle/input/cat-breeds-dataset/images/Extra-Toes Cat - Hemingway Polydactyl/25493469_5977.jpg',\n",
       " '/kaggle/input/cat-breeds-dataset/images/Extra-Toes Cat - Hemingway Polydactyl/38372759_2179.jpg',\n",
       " '/kaggle/input/cat-breeds-dataset/images/Extra-Toes Cat - Hemingway Polydactyl/24259748_6387.jpg',\n",
       " '/kaggle/input/cat-breeds-dataset/images/Extra-Toes Cat - Hemingway Polydactyl/26998784_5452.jpg',\n",
       " '/kaggle/input/cat-breeds-dataset/images/Extra-Toes Cat - Hemingway Polydactyl/45993209_369.jpg',\n",
       " '/kaggle/input/cat-breeds-dataset/images/Extra-Toes Cat - Hemingway Polydactyl/24882908_6131.jpg',\n",
       " '/kaggle/input/cat-breeds-dataset/images/Extra-Toes Cat - Hemingway Polydactyl/21420662_7178.jpg',\n",
       " '/kaggle/input/cat-breeds-dataset/images/Extra-Toes Cat - Hemingway Polydactyl/30851105_4204.jpg',\n",
       " '/kaggle/input/cat-breeds-dataset/images/Extra-Toes Cat - Hemingway Polydactyl/45574206_526.jpg',\n",
       " '/kaggle/input/cat-breeds-dataset/images/Extra-Toes Cat - Hemingway Polydactyl/46307594_43519.jpg',\n",
       " '/kaggle/input/cat-breeds-dataset/images/Extra-Toes Cat - Hemingway Polydactyl/37538818_2329.jpg',\n",
       " '/kaggle/input/cat-breeds-dataset/images/Extra-Toes Cat - Hemingway Polydactyl/30646483_4268.jpg',\n",
       " '/kaggle/input/cat-breeds-dataset/images/Extra-Toes Cat - Hemingway Polydactyl/36189715_2673.jpg',\n",
       " '/kaggle/input/cat-breeds-dataset/images/Extra-Toes Cat - Hemingway Polydactyl/26121835_5823.jpg',\n",
       " '/kaggle/input/cat-breeds-dataset/images/Extra-Toes Cat - Hemingway Polydactyl/36400132_2616.jpg',\n",
       " '/kaggle/input/cat-breeds-dataset/images/Extra-Toes Cat - Hemingway Polydactyl/23600964_6572.jpg',\n",
       " '/kaggle/input/cat-breeds-dataset/images/Extra-Toes Cat - Hemingway Polydactyl/28415628_4976.jpg',\n",
       " '/kaggle/input/cat-breeds-dataset/images/Extra-Toes Cat - Hemingway Polydactyl/46633641_6911.jpg',\n",
       " '/kaggle/input/cat-breeds-dataset/images/Extra-Toes Cat - Hemingway Polydactyl/42547772_1281.jpg',\n",
       " '/kaggle/input/cat-breeds-dataset/images/Extra-Toes Cat - Hemingway Polydactyl/37283997_2385.jpg',\n",
       " '/kaggle/input/cat-breeds-dataset/images/Extra-Toes Cat - Hemingway Polydactyl/36362231_2629.jpg',\n",
       " '/kaggle/input/cat-breeds-dataset/images/Extra-Toes Cat - Hemingway Polydactyl/34869913_3050.jpg',\n",
       " '/kaggle/input/cat-breeds-dataset/images/Extra-Toes Cat - Hemingway Polydactyl/45994186_350.jpg',\n",
       " '/kaggle/input/cat-breeds-dataset/images/Extra-Toes Cat - Hemingway Polydactyl/27181749_5390.jpg',\n",
       " '/kaggle/input/cat-breeds-dataset/images/Extra-Toes Cat - Hemingway Polydactyl/35988864_2705.jpg',\n",
       " '/kaggle/input/cat-breeds-dataset/images/Extra-Toes Cat - Hemingway Polydactyl/37048348_2457.jpg',\n",
       " '/kaggle/input/cat-breeds-dataset/images/Extra-Toes Cat - Hemingway Polydactyl/24622774_6223.jpg',\n",
       " '/kaggle/input/cat-breeds-dataset/images/Extra-Toes Cat - Hemingway Polydactyl/44691045_815.jpg',\n",
       " '/kaggle/input/cat-breeds-dataset/images/Extra-Toes Cat - Hemingway Polydactyl/33578523_3363.jpg',\n",
       " '/kaggle/input/cat-breeds-dataset/images/Extra-Toes Cat - Hemingway Polydactyl/45404075_578.jpg',\n",
       " '/kaggle/input/cat-breeds-dataset/images/Extra-Toes Cat - Hemingway Polydactyl/32685325_3676.jpg',\n",
       " '/kaggle/input/cat-breeds-dataset/images/Extra-Toes Cat - Hemingway Polydactyl/37152019_2425.jpg',\n",
       " '/kaggle/input/cat-breeds-dataset/images/Extra-Toes Cat - Hemingway Polydactyl/28621556_4916.jpg',\n",
       " '/kaggle/input/cat-breeds-dataset/images/Extra-Toes Cat - Hemingway Polydactyl/35324628_2912.jpg',\n",
       " '/kaggle/input/cat-breeds-dataset/images/Extra-Toes Cat - Hemingway Polydactyl/41167797_1603.jpg',\n",
       " '/kaggle/input/cat-breeds-dataset/images/Extra-Toes Cat - Hemingway Polydactyl/43800978_976.jpg',\n",
       " '/kaggle/input/cat-breeds-dataset/images/Extra-Toes Cat - Hemingway Polydactyl/45085917_693.jpg',\n",
       " '/kaggle/input/cat-breeds-dataset/images/Extra-Toes Cat - Hemingway Polydactyl/45994185_353.jpg',\n",
       " '/kaggle/input/cat-breeds-dataset/images/Extra-Toes Cat - Hemingway Polydactyl/21370343_7201.jpg',\n",
       " '/kaggle/input/cat-breeds-dataset/images/Extra-Toes Cat - Hemingway Polydactyl/25283887_6032.jpg',\n",
       " '/kaggle/input/cat-breeds-dataset/images/Extra-Toes Cat - Hemingway Polydactyl/46414256_33554.jpg',\n",
       " '/kaggle/input/cat-breeds-dataset/images/Extra-Toes Cat - Hemingway Polydactyl/30438643_4356.jpg',\n",
       " '/kaggle/input/cat-breeds-dataset/images/Extra-Toes Cat - Hemingway Polydactyl/35283674_2929.jpg',\n",
       " '/kaggle/input/cat-breeds-dataset/images/Extra-Toes Cat - Hemingway Polydactyl/45997832_305.jpg',\n",
       " '/kaggle/input/cat-breeds-dataset/images/Extra-Toes Cat - Hemingway Polydactyl/32593744_3715.jpg',\n",
       " '/kaggle/input/cat-breeds-dataset/images/Extra-Toes Cat - Hemingway Polydactyl/26148861_5809.jpg',\n",
       " '/kaggle/input/cat-breeds-dataset/images/Extra-Toes Cat - Hemingway Polydactyl/36613126_2572.jpg',\n",
       " '/kaggle/input/cat-breeds-dataset/images/Extra-Toes Cat - Hemingway Polydactyl/45991658_383.jpg',\n",
       " '/kaggle/input/cat-breeds-dataset/images/Extra-Toes Cat - Hemingway Polydactyl/40899800_1650.jpg',\n",
       " '/kaggle/input/cat-breeds-dataset/images/Extra-Toes Cat - Hemingway Polydactyl/45994371_347.jpg',\n",
       " '/kaggle/input/cat-breeds-dataset/images/Extra-Toes Cat - Hemingway Polydactyl/32473938_3753.jpg',\n",
       " '/kaggle/input/cat-breeds-dataset/images/Extra-Toes Cat - Hemingway Polydactyl/45991804_379.jpg',\n",
       " '/kaggle/input/cat-breeds-dataset/images/Extra-Toes Cat - Hemingway Polydactyl/39631291_1891.jpg',\n",
       " '/kaggle/input/cat-breeds-dataset/images/Extra-Toes Cat - Hemingway Polydactyl/46393397_35669.jpg',\n",
       " '/kaggle/input/cat-breeds-dataset/images/Extra-Toes Cat - Hemingway Polydactyl/40516694_1736.jpg',\n",
       " '/kaggle/input/cat-breeds-dataset/images/Extra-Toes Cat - Hemingway Polydactyl/43564825_1033.jpg',\n",
       " '/kaggle/input/cat-breeds-dataset/images/Extra-Toes Cat - Hemingway Polydactyl/20514258_7482.jpg',\n",
       " '/kaggle/input/cat-breeds-dataset/images/Extra-Toes Cat - Hemingway Polydactyl/21434013_7175.jpg',\n",
       " '/kaggle/input/cat-breeds-dataset/images/Extra-Toes Cat - Hemingway Polydactyl/45994120_355.jpg',\n",
       " '/kaggle/input/cat-breeds-dataset/images/Extra-Toes Cat - Hemingway Polydactyl/35571546_2839.jpg',\n",
       " '/kaggle/input/cat-breeds-dataset/images/Extra-Toes Cat - Hemingway Polydactyl/32181828_3832.jpg',\n",
       " '/kaggle/input/cat-breeds-dataset/images/Extra-Toes Cat - Hemingway Polydactyl/45997642_316.jpg',\n",
       " '/kaggle/input/cat-breeds-dataset/images/Extra-Toes Cat - Hemingway Polydactyl/27083457_5420.jpg',\n",
       " '/kaggle/input/cat-breeds-dataset/images/Extra-Toes Cat - Hemingway Polydactyl/46710684_3.jpg',\n",
       " '/kaggle/input/cat-breeds-dataset/images/Extra-Toes Cat - Hemingway Polydactyl/32667296_3690.jpg',\n",
       " '/kaggle/input/cat-breeds-dataset/images/Extra-Toes Cat - Hemingway Polydactyl/24437371_6292.jpg',\n",
       " '/kaggle/input/cat-breeds-dataset/images/Extra-Toes Cat - Hemingway Polydactyl/21880611_7050.jpg',\n",
       " '/kaggle/input/cat-breeds-dataset/images/Extra-Toes Cat - Hemingway Polydactyl/40477139_1743.jpg',\n",
       " '/kaggle/input/cat-breeds-dataset/images/Extra-Toes Cat - Hemingway Polydactyl/27520633_5263.jpg',\n",
       " '/kaggle/input/cat-breeds-dataset/images/Extra-Toes Cat - Hemingway Polydactyl/46710700_0.jpg',\n",
       " '/kaggle/input/cat-breeds-dataset/images/Extra-Toes Cat - Hemingway Polydactyl/43669350_1007.jpg',\n",
       " '/kaggle/input/cat-breeds-dataset/images/Extra-Toes Cat - Hemingway Polydactyl/36421605_2612.jpg',\n",
       " '/kaggle/input/cat-breeds-dataset/images/Extra-Toes Cat - Hemingway Polydactyl/27125169_5402.jpg',\n",
       " '/kaggle/input/cat-breeds-dataset/images/Extra-Toes Cat - Hemingway Polydactyl/45998878_289.jpg',\n",
       " '/kaggle/input/cat-breeds-dataset/images/Extra-Toes Cat - Hemingway Polydactyl/26148709_5810.jpg',\n",
       " '/kaggle/input/cat-breeds-dataset/images/Extra-Toes Cat - Hemingway Polydactyl/39122888_2024.jpg',\n",
       " '/kaggle/input/cat-breeds-dataset/images/Extra-Toes Cat - Hemingway Polydactyl/39890147_1824.jpg',\n",
       " '/kaggle/input/cat-breeds-dataset/images/Extra-Toes Cat - Hemingway Polydactyl/34029302_3250.jpg',\n",
       " '/kaggle/input/cat-breeds-dataset/images/Extra-Toes Cat - Hemingway Polydactyl/44231783_902.jpg',\n",
       " '/kaggle/input/cat-breeds-dataset/images/Extra-Toes Cat - Hemingway Polydactyl/35724636_2783.jpg',\n",
       " '/kaggle/input/cat-breeds-dataset/images/Extra-Toes Cat - Hemingway Polydactyl/26903809_5486.jpg',\n",
       " '/kaggle/input/cat-breeds-dataset/images/Extra-Toes Cat - Hemingway Polydactyl/44531862_846.jpg',\n",
       " '/kaggle/input/cat-breeds-dataset/images/Extra-Toes Cat - Hemingway Polydactyl/39858747_1827.jpg',\n",
       " '/kaggle/input/cat-breeds-dataset/images/Extra-Toes Cat - Hemingway Polydactyl/27835544_5158.jpg',\n",
       " '/kaggle/input/cat-breeds-dataset/images/Extra-Toes Cat - Hemingway Polydactyl/40612395_1709.jpg',\n",
       " '/kaggle/input/cat-breeds-dataset/images/Extra-Toes Cat - Hemingway Polydactyl/46401526_34852.jpg',\n",
       " '/kaggle/input/cat-breeds-dataset/images/Extra-Toes Cat - Hemingway Polydactyl/43212549_1128.jpg',\n",
       " '/kaggle/input/cat-breeds-dataset/images/Extra-Toes Cat - Hemingway Polydactyl/26339656_5737.jpg',\n",
       " '/kaggle/input/cat-breeds-dataset/images/Extra-Toes Cat - Hemingway Polydactyl/33516734_3400.jpg',\n",
       " '/kaggle/input/cat-breeds-dataset/images/Extra-Toes Cat - Hemingway Polydactyl/39013030_2038.jpg',\n",
       " '/kaggle/input/cat-breeds-dataset/images/Extra-Toes Cat - Hemingway Polydactyl/24420828_6297.jpg',\n",
       " '/kaggle/input/cat-breeds-dataset/images/Extra-Toes Cat - Hemingway Polydactyl/34953676_3033.jpg',\n",
       " '/kaggle/input/cat-breeds-dataset/images/Extra-Toes Cat - Hemingway Polydactyl/23546988_6594.jpg',\n",
       " '/kaggle/input/cat-breeds-dataset/images/Extra-Toes Cat - Hemingway Polydactyl/43633186_1019.jpg',\n",
       " '/kaggle/input/cat-breeds-dataset/images/Extra-Toes Cat - Hemingway Polydactyl/21329742_7219.jpg',\n",
       " '/kaggle/input/cat-breeds-dataset/images/Extra-Toes Cat - Hemingway Polydactyl/45995208_341.jpg',\n",
       " '/kaggle/input/cat-breeds-dataset/images/Extra-Toes Cat - Hemingway Polydactyl/38036589_2247.jpg',\n",
       " '/kaggle/input/cat-breeds-dataset/images/Extra-Toes Cat - Hemingway Polydactyl/37622561_2316.jpg',\n",
       " '/kaggle/input/cat-breeds-dataset/images/Extra-Toes Cat - Hemingway Polydactyl/41251913_1595.jpg',\n",
       " '/kaggle/input/cat-breeds-dataset/images/Extra-Toes Cat - Hemingway Polydactyl/42003590_1436.jpg',\n",
       " '/kaggle/input/cat-breeds-dataset/images/Extra-Toes Cat - Hemingway Polydactyl/35886642_2731.jpg',\n",
       " '/kaggle/input/cat-breeds-dataset/images/Extra-Toes Cat - Hemingway Polydactyl/45999232_297.jpg',\n",
       " '/kaggle/input/cat-breeds-dataset/images/Extra-Toes Cat - Hemingway Polydactyl/46710697_1.jpg',\n",
       " '/kaggle/input/cat-breeds-dataset/images/Extra-Toes Cat - Hemingway Polydactyl/27495765_5278.jpg',\n",
       " '/kaggle/input/cat-breeds-dataset/images/Extra-Toes Cat - Hemingway Polydactyl/21398327_7193.jpg',\n",
       " '/kaggle/input/cat-breeds-dataset/images/Extra-Toes Cat - Hemingway Polydactyl/32532500_3739.jpg',\n",
       " '/kaggle/input/cat-breeds-dataset/images/Extra-Toes Cat - Hemingway Polydactyl/33483340_3415.jpg',\n",
       " '/kaggle/input/cat-breeds-dataset/images/Extra-Toes Cat - Hemingway Polydactyl/28086324_5066.jpg',\n",
       " '/kaggle/input/cat-breeds-dataset/images/Extra-Toes Cat - Hemingway Polydactyl/46001382_268.jpg',\n",
       " '/kaggle/input/cat-breeds-dataset/images/Extra-Toes Cat - Hemingway Polydactyl/42588487_1265.jpg',\n",
       " '/kaggle/input/cat-breeds-dataset/images/Extra-Toes Cat - Hemingway Polydactyl/43212559_1127.jpg',\n",
       " '/kaggle/input/cat-breeds-dataset/images/Extra-Toes Cat - Hemingway Polydactyl/25999388_5857.jpg',\n",
       " '/kaggle/input/cat-breeds-dataset/images/Extra-Toes Cat - Hemingway Polydactyl/46241004_49505.jpg',\n",
       " '/kaggle/input/cat-breeds-dataset/images/Extra-Toes Cat - Hemingway Polydactyl/34516476_3133.jpg',\n",
       " '/kaggle/input/cat-breeds-dataset/images/Extra-Toes Cat - Hemingway Polydactyl/43633214_1018.jpg',\n",
       " '/kaggle/input/cat-breeds-dataset/images/Extra-Toes Cat - Hemingway Polydactyl/23393695_6657.jpg',\n",
       " '/kaggle/input/cat-breeds-dataset/images/Extra-Toes Cat - Hemingway Polydactyl/23393702_6656.jpg',\n",
       " '/kaggle/input/cat-breeds-dataset/images/Extra-Toes Cat - Hemingway Polydactyl/46667041_960.jpg',\n",
       " '/kaggle/input/cat-breeds-dataset/images/Extra-Toes Cat - Hemingway Polydactyl/25107562_6084.jpg',\n",
       " '/kaggle/input/cat-breeds-dataset/images/Extra-Toes Cat - Hemingway Polydactyl/21898702_7049.jpg',\n",
       " '/kaggle/input/cat-breeds-dataset/images/Extra-Toes Cat - Hemingway Polydactyl/28553129_4935.jpg',\n",
       " '/kaggle/input/cat-breeds-dataset/images/Extra-Toes Cat - Hemingway Polydactyl/38574072_2141.jpg',\n",
       " '/kaggle/input/cat-breeds-dataset/images/Extra-Toes Cat - Hemingway Polydactyl/37123893_2432.jpg',\n",
       " '/kaggle/input/cat-breeds-dataset/images/Extra-Toes Cat - Hemingway Polydactyl/26293303_5769.jpg',\n",
       " '/kaggle/input/cat-breeds-dataset/images/Extra-Toes Cat - Hemingway Polydactyl/39295905_1983.jpg',\n",
       " '/kaggle/input/cat-breeds-dataset/images/Extra-Toes Cat - Hemingway Polydactyl/28712146_4889.jpg',\n",
       " '/kaggle/input/cat-breeds-dataset/images/Extra-Toes Cat - Hemingway Polydactyl/45999269_293.jpg',\n",
       " '/kaggle/input/cat-breeds-dataset/images/Extra-Toes Cat - Hemingway Polydactyl/26301368_5761.jpg',\n",
       " '/kaggle/input/cat-breeds-dataset/images/Extra-Toes Cat - Hemingway Polydactyl/46001613_264.jpg',\n",
       " '/kaggle/input/cat-breeds-dataset/images/Extra-Toes Cat - Hemingway Polydactyl/32959911_3593.jpg',\n",
       " '/kaggle/input/cat-breeds-dataset/images/Extra-Toes Cat - Hemingway Polydactyl/27904739_5135.jpg',\n",
       " '/kaggle/input/cat-breeds-dataset/images/Extra-Toes Cat - Hemingway Polydactyl/43779058_980.jpg',\n",
       " '/kaggle/input/cat-breeds-dataset/images/Extra-Toes Cat - Hemingway Polydactyl/28766109_4871.jpg',\n",
       " '/kaggle/input/cat-breeds-dataset/images/Extra-Toes Cat - Hemingway Polydactyl/41647569_1524.jpg',\n",
       " '/kaggle/input/cat-breeds-dataset/images/Extra-Toes Cat - Hemingway Polydactyl/41562870_1540.jpg',\n",
       " '/kaggle/input/cat-breeds-dataset/images/Extra-Toes Cat - Hemingway Polydactyl/29530273_4658.jpg',\n",
       " '/kaggle/input/cat-breeds-dataset/images/Extra-Toes Cat - Hemingway Polydactyl/45998110_301.jpg',\n",
       " '/kaggle/input/cat-breeds-dataset/images/Extra-Toes Cat - Hemingway Polydactyl/46122671_205.jpg',\n",
       " '/kaggle/input/cat-breeds-dataset/images/Extra-Toes Cat - Hemingway Polydactyl/25672747_5936.jpg',\n",
       " '/kaggle/input/cat-breeds-dataset/images/Extra-Toes Cat - Hemingway Polydactyl/30858587_4201.jpg',\n",
       " '/kaggle/input/cat-breeds-dataset/images/Extra-Toes Cat - Hemingway Polydactyl/32708352_3668.jpg',\n",
       " '/kaggle/input/cat-breeds-dataset/images/Extra-Toes Cat - Hemingway Polydactyl/45993901_359.jpg',\n",
       " '/kaggle/input/cat-breeds-dataset/images/Extra-Toes Cat - Hemingway Polydactyl/34233128_3204.jpg',\n",
       " '/kaggle/input/cat-breeds-dataset/images/Extra-Toes Cat - Hemingway Polydactyl/28235528_5015.jpg',\n",
       " '/kaggle/input/cat-breeds-dataset/images/Extra-Toes Cat - Hemingway Polydactyl/46001138_267.jpg',\n",
       " '/kaggle/input/cat-breeds-dataset/images/Extra-Toes Cat - Hemingway Polydactyl/30531979_4322.jpg',\n",
       " '/kaggle/input/cat-breeds-dataset/images/Extra-Toes Cat - Hemingway Polydactyl/26598217_5639.jpg',\n",
       " '/kaggle/input/cat-breeds-dataset/images/Extra-Toes Cat - Hemingway Polydactyl/35500123_2862.jpg',\n",
       " '/kaggle/input/cat-breeds-dataset/images/Extra-Toes Cat - Hemingway Polydactyl/44998673_728.jpg',\n",
       " '/kaggle/input/cat-breeds-dataset/images/Extra-Toes Cat - Hemingway Polydactyl/29659049_4612.jpg',\n",
       " '/kaggle/input/cat-breeds-dataset/images/Extra-Toes Cat - Hemingway Polydactyl/21200119_7268.jpg',\n",
       " '/kaggle/input/cat-breeds-dataset/images/Extra-Toes Cat - Hemingway Polydactyl/29898564_4544.jpg',\n",
       " '/kaggle/input/cat-breeds-dataset/images/Extra-Toes Cat - Hemingway Polydactyl/26747913_5571.jpg',\n",
       " '/kaggle/input/cat-breeds-dataset/images/Extra-Toes Cat - Hemingway Polydactyl/46003097_254.jpg',\n",
       " '/kaggle/input/cat-breeds-dataset/images/Extra-Toes Cat - Hemingway Polydactyl/20845727_7380.jpg',\n",
       " '/kaggle/input/cat-breeds-dataset/images/Extra-Toes Cat - Hemingway Polydactyl/37270674_2388.jpg',\n",
       " '/kaggle/input/cat-breeds-dataset/images/Extra-Toes Cat - Hemingway Polydactyl/46097162_212.jpg',\n",
       " '/kaggle/input/cat-breeds-dataset/images/Extra-Toes Cat - Hemingway Polydactyl/39822347_1837.jpg',\n",
       " '/kaggle/input/cat-breeds-dataset/images/Extra-Toes Cat - Hemingway Polydactyl/26605716_5633.jpg',\n",
       " '/kaggle/input/cat-breeds-dataset/images/Extra-Toes Cat - Hemingway Polydactyl/45993555_365.jpg',\n",
       " '/kaggle/input/cat-breeds-dataset/images/Extra-Toes Cat - Hemingway Polydactyl/32263930_3802.jpg',\n",
       " '/kaggle/input/cat-breeds-dataset/images/Extra-Toes Cat - Hemingway Polydactyl/45995148_327.jpg',\n",
       " '/kaggle/input/cat-breeds-dataset/images/Extra-Toes Cat - Hemingway Polydactyl/25292070_6029.jpg',\n",
       " '/kaggle/input/cat-breeds-dataset/images/Extra-Toes Cat - Hemingway Polydactyl/28621724_4915.jpg',\n",
       " '/kaggle/input/cat-breeds-dataset/images/Extra-Toes Cat - Hemingway Polydactyl/45999795_308.jpg',\n",
       " '/kaggle/input/cat-breeds-dataset/images/Extra-Toes Cat - Hemingway Polydactyl/35670403_2805.jpg',\n",
       " '/kaggle/input/cat-breeds-dataset/images/Extra-Toes Cat - Hemingway Polydactyl/45993012_373.jpg',\n",
       " '/kaggle/input/cat-breeds-dataset/images/Extra-Toes Cat - Hemingway Polydactyl/46350042_39823.jpg',\n",
       " '/kaggle/input/cat-breeds-dataset/images/Extra-Toes Cat - Hemingway Polydactyl/24107058_6415.jpg',\n",
       " '/kaggle/input/cat-breeds-dataset/images/Extra-Toes Cat - Hemingway Polydactyl/29527585_4660.jpg',\n",
       " '/kaggle/input/cat-breeds-dataset/images/Extra-Toes Cat - Hemingway Polydactyl/33261705_3489.jpg',\n",
       " '/kaggle/input/cat-breeds-dataset/images/Extra-Toes Cat - Hemingway Polydactyl/35221741_2955.jpg',\n",
       " '/kaggle/input/cat-breeds-dataset/images/Extra-Toes Cat - Hemingway Polydactyl/43659513_1009.jpg',\n",
       " '/kaggle/input/cat-breeds-dataset/images/Extra-Toes Cat - Hemingway Polydactyl/26085851_5837.jpg',\n",
       " '/kaggle/input/cat-breeds-dataset/images/Extra-Toes Cat - Hemingway Polydactyl/20504430_7489.jpg',\n",
       " '/kaggle/input/cat-breeds-dataset/images/Extra-Toes Cat - Hemingway Polydactyl/45999660_288.jpg',\n",
       " '/kaggle/input/cat-breeds-dataset/images/Extra-Toes Cat - Hemingway Polydactyl/26351024_5730.jpg',\n",
       " '/kaggle/input/cat-breeds-dataset/images/Extra-Toes Cat - Hemingway Polydactyl/43348163_1088.jpg',\n",
       " '/kaggle/input/cat-breeds-dataset/images/Extra-Toes Cat - Hemingway Polydactyl/24466235_6282.jpg',\n",
       " '/kaggle/input/cat-breeds-dataset/images/Extra-Toes Cat - Hemingway Polydactyl/38413586_2173.jpg',\n",
       " '/kaggle/input/cat-breeds-dataset/images/Extra-Toes Cat - Hemingway Polydactyl/39191965_2012.jpg',\n",
       " '/kaggle/input/cat-breeds-dataset/images/Extra-Toes Cat - Hemingway Polydactyl/25185644_6067.jpg',\n",
       " '/kaggle/input/cat-breeds-dataset/images/Extra-Toes Cat - Hemingway Polydactyl/37691843_2307.jpg',\n",
       " '/kaggle/input/cat-breeds-dataset/images/Extra-Toes Cat - Hemingway Polydactyl/35070678_2999.jpg',\n",
       " '/kaggle/input/cat-breeds-dataset/images/Extra-Toes Cat - Hemingway Polydactyl/20946306_7345.jpg',\n",
       " '/kaggle/input/cat-breeds-dataset/images/Extra-Toes Cat - Hemingway Polydactyl/46002595_260.jpg',\n",
       " '/kaggle/input/cat-breeds-dataset/images/Extra-Toes Cat - Hemingway Polydactyl/26218421_5791.jpg',\n",
       " '/kaggle/input/cat-breeds-dataset/images/Extra-Toes Cat - Hemingway Polydactyl/40980298_1635.jpg',\n",
       " '/kaggle/input/cat-breeds-dataset/images/Extra-Toes Cat - Hemingway Polydactyl/35098178_2992.jpg',\n",
       " '/kaggle/input/cat-breeds-dataset/images/Extra-Toes Cat - Hemingway Polydactyl/42551684_1278.jpg',\n",
       " '/kaggle/input/cat-breeds-dataset/images/Extra-Toes Cat - Hemingway Polydactyl/38756371_2097.jpg',\n",
       " '/kaggle/input/cat-breeds-dataset/images/Extra-Toes Cat - Hemingway Polydactyl/25752876_5914.jpg',\n",
       " '/kaggle/input/cat-breeds-dataset/images/Extra-Toes Cat - Hemingway Polydactyl/26301362_5762.jpg',\n",
       " '/kaggle/input/cat-breeds-dataset/images/Extra-Toes Cat - Hemingway Polydactyl/41462012_1561.jpg',\n",
       " '/kaggle/input/cat-breeds-dataset/images/Extra-Toes Cat - Hemingway Polydactyl/43633147_1020.jpg',\n",
       " '/kaggle/input/cat-breeds-dataset/images/Extra-Toes Cat - Hemingway Polydactyl/46727296_9.jpg',\n",
       " '/kaggle/input/cat-breeds-dataset/images/Extra-Toes Cat - Hemingway Polydactyl/46741366_1.jpg',\n",
       " '/kaggle/input/cat-breeds-dataset/images/Extra-Toes Cat - Hemingway Polydactyl/45549507_534.jpg',\n",
       " '/kaggle/input/cat-breeds-dataset/images/Extra-Toes Cat - Hemingway Polydactyl/45993876_360.jpg',\n",
       " '/kaggle/input/cat-breeds-dataset/images/Extra-Toes Cat - Hemingway Polydactyl/29426806_4684.jpg',\n",
       " '/kaggle/input/cat-breeds-dataset/images/Extra-Toes Cat - Hemingway Polydactyl/31692895_3935.jpg',\n",
       " '/kaggle/input/cat-breeds-dataset/images/Extra-Toes Cat - Hemingway Polydactyl/23211857_6734.jpg',\n",
       " '/kaggle/input/cat-breeds-dataset/images/Extra-Toes Cat - Hemingway Polydactyl/23519591_6607.jpg',\n",
       " '/kaggle/input/cat-breeds-dataset/images/Extra-Toes Cat - Hemingway Polydactyl/31313235_4019.jpg',\n",
       " '/kaggle/input/cat-breeds-dataset/images/Extra-Toes Cat - Hemingway Polydactyl/21422016_7177.jpg',\n",
       " '/kaggle/input/cat-breeds-dataset/images/Extra-Toes Cat - Hemingway Polydactyl/25707311_5929.jpg',\n",
       " '/kaggle/input/cat-breeds-dataset/images/Extra-Toes Cat - Hemingway Polydactyl/40980553_1634.jpg',\n",
       " '/kaggle/input/cat-breeds-dataset/images/Extra-Toes Cat - Hemingway Polydactyl/27691720_5215.jpg',\n",
       " '/kaggle/input/cat-breeds-dataset/images/Extra-Toes Cat - Hemingway Polydactyl/30586914_4293.jpg',\n",
       " '/kaggle/input/cat-breeds-dataset/images/Extra-Toes Cat - Hemingway Polydactyl/45901445_431.jpg',\n",
       " '/kaggle/input/cat-breeds-dataset/images/Extra-Toes Cat - Hemingway Polydactyl/46401603_34846.jpg',\n",
       " '/kaggle/input/cat-breeds-dataset/images/Extra-Toes Cat - Hemingway Polydactyl/41483483_1559.jpg',\n",
       " '/kaggle/input/cat-breeds-dataset/images/Extra-Toes Cat - Hemingway Polydactyl/32131024_3846.jpg',\n",
       " '/kaggle/input/cat-breeds-dataset/images/Extra-Toes Cat - Hemingway Polydactyl/39912481_1810.jpg',\n",
       " '/kaggle/input/cat-breeds-dataset/images/Extra-Toes Cat - Hemingway Polydactyl/44746011_795.jpg',\n",
       " '/kaggle/input/cat-breeds-dataset/images/Extra-Toes Cat - Hemingway Polydactyl/35788745_2763.jpg',\n",
       " '/kaggle/input/cat-breeds-dataset/images/Extra-Toes Cat - Hemingway Polydactyl/26605804_5632.jpg',\n",
       " '/kaggle/input/cat-breeds-dataset/images/Extra-Toes Cat - Hemingway Polydactyl/31783998_3918.jpg',\n",
       " '/kaggle/input/cat-breeds-dataset/images/Extra-Toes Cat - Hemingway Polydactyl/45998684_282.jpg',\n",
       " '/kaggle/input/cat-breeds-dataset/images/Extra-Toes Cat - Hemingway Polydactyl/45470692_560.jpg',\n",
       " '/kaggle/input/cat-breeds-dataset/images/Extra-Toes Cat - Hemingway Polydactyl/30724126_4248.jpg',\n",
       " '/kaggle/input/cat-breeds-dataset/images/Extra-Toes Cat - Hemingway Polydactyl/29057277_4796.jpg',\n",
       " '/kaggle/input/cat-breeds-dataset/images/Extra-Toes Cat - Hemingway Polydactyl/34725194_3092.jpg',\n",
       " '/kaggle/input/cat-breeds-dataset/images/Extra-Toes Cat - Hemingway Polydactyl/27065587_5435.jpg',\n",
       " '/kaggle/input/cat-breeds-dataset/images/Extra-Toes Cat - Hemingway Polydactyl/24148945_6408.jpg',\n",
       " '/kaggle/input/cat-breeds-dataset/images/Extra-Toes Cat - Hemingway Polydactyl/27020666_5446.jpg',\n",
       " '/kaggle/input/cat-breeds-dataset/images/Extra-Toes Cat - Hemingway Polydactyl/41253452_1594.jpg',\n",
       " '/kaggle/input/cat-breeds-dataset/images/Extra-Toes Cat - Hemingway Polydactyl/36613581_2570.jpg',\n",
       " '/kaggle/input/cat-breeds-dataset/images/Extra-Toes Cat - Hemingway Polydactyl/21418425_7179.jpg',\n",
       " '/kaggle/input/cat-breeds-dataset/images/Extra-Toes Cat - Hemingway Polydactyl/35060509_3008.jpg',\n",
       " '/kaggle/input/cat-breeds-dataset/images/Extra-Toes Cat - Hemingway Polydactyl/41554413_1542.jpg',\n",
       " '/kaggle/input/cat-breeds-dataset/images/Extra-Toes Cat - Hemingway Polydactyl/29186399_4752.jpg',\n",
       " '/kaggle/input/cat-breeds-dataset/images/Extra-Toes Cat - Hemingway Polydactyl/46001407_266.jpg',\n",
       " '/kaggle/input/cat-breeds-dataset/images/Extra-Toes Cat - Hemingway Polydactyl/33301548_3464.jpg',\n",
       " '/kaggle/input/cat-breeds-dataset/images/Extra-Toes Cat - Hemingway Polydactyl/44679716_817.jpg',\n",
       " '/kaggle/input/cat-breeds-dataset/images/Extra-Toes Cat - Hemingway Polydactyl/26692662_5588.jpg',\n",
       " '/kaggle/input/cat-breeds-dataset/images/Extra-Toes Cat - Hemingway Polydactyl/38574115_2139.jpg',\n",
       " '/kaggle/input/cat-breeds-dataset/images/Extra-Toes Cat - Hemingway Polydactyl/45994504_344.jpg',\n",
       " '/kaggle/input/cat-breeds-dataset/images/Extra-Toes Cat - Hemingway Polydactyl/26293304_5768.jpg',\n",
       " '/kaggle/input/cat-breeds-dataset/images/Extra-Toes Cat - Hemingway Polydactyl/43031307_1158.jpg',\n",
       " '/kaggle/input/cat-breeds-dataset/images/Extra-Toes Cat - Hemingway Polydactyl/30569738_4304.jpg',\n",
       " '/kaggle/input/cat-breeds-dataset/images/Extra-Toes Cat - Hemingway Polydactyl/29808432_4580.jpg',\n",
       " '/kaggle/input/cat-breeds-dataset/images/Extra-Toes Cat - Hemingway Polydactyl/25060128_6092.jpg',\n",
       " '/kaggle/input/cat-breeds-dataset/images/Extra-Toes Cat - Hemingway Polydactyl/46082426_218.jpg',\n",
       " '/kaggle/input/cat-breeds-dataset/images/Extra-Toes Cat - Hemingway Polydactyl/37575887_2322.jpg',\n",
       " '/kaggle/input/cat-breeds-dataset/images/Extra-Toes Cat - Hemingway Polydactyl/35246884_2945.jpg',\n",
       " '/kaggle/input/cat-breeds-dataset/images/Extra-Toes Cat - Hemingway Polydactyl/28828358_4860.jpg',\n",
       " '/kaggle/input/cat-breeds-dataset/images/Extra-Toes Cat - Hemingway Polydactyl/37228924_2404.jpg',\n",
       " '/kaggle/input/cat-breeds-dataset/images/Extra-Toes Cat - Hemingway Polydactyl/46003482_253.jpg',\n",
       " '/kaggle/input/cat-breeds-dataset/images/Extra-Toes Cat - Hemingway Polydactyl/24882313_6138.jpg',\n",
       " '/kaggle/input/cat-breeds-dataset/images/Extra-Toes Cat - Hemingway Polydactyl/32257298_3814.jpg',\n",
       " '/kaggle/input/cat-breeds-dataset/images/Extra-Toes Cat - Hemingway Polydactyl/33821124_3311.jpg',\n",
       " '/kaggle/input/cat-breeds-dataset/images/Extra-Toes Cat - Hemingway Polydactyl/35260881_2936.jpg',\n",
       " '/kaggle/input/cat-breeds-dataset/images/Extra-Toes Cat - Hemingway Polydactyl/28426042_4974.jpg',\n",
       " '/kaggle/input/cat-breeds-dataset/images/Extra-Toes Cat - Hemingway Polydactyl/42336944_1343.jpg',\n",
       " '/kaggle/input/cat-breeds-dataset/images/Extra-Toes Cat - Hemingway Polydactyl/25229962_6050.jpg',\n",
       " '/kaggle/input/cat-breeds-dataset/images/Extra-Toes Cat - Hemingway Polydactyl/43659494_1010.jpg',\n",
       " '/kaggle/input/cat-breeds-dataset/images/Extra-Toes Cat - Hemingway Polydactyl/22043709_7010.jpg',\n",
       " '/kaggle/input/cat-breeds-dataset/images/Extra-Toes Cat - Hemingway Polydactyl/46202903_52633.jpg',\n",
       " '/kaggle/input/cat-breeds-dataset/images/Extra-Toes Cat - Hemingway Polydactyl/32667256_3691.jpg',\n",
       " '/kaggle/input/cat-breeds-dataset/images/Extra-Toes Cat - Hemingway Polydactyl/22567367_6909.jpg',\n",
       " '/kaggle/input/cat-breeds-dataset/images/Extra-Toes Cat - Hemingway Polydactyl/42807286_1211.jpg',\n",
       " '/kaggle/input/cat-breeds-dataset/images/Extra-Toes Cat - Hemingway Polydactyl/43876516_962.jpg',\n",
       " '/kaggle/input/cat-breeds-dataset/images/Extra-Toes Cat - Hemingway Polydactyl/42807389_1210.jpg',\n",
       " '/kaggle/input/cat-breeds-dataset/images/Extra-Toes Cat - Hemingway Polydactyl/41722693_1507.jpg',\n",
       " '/kaggle/input/cat-breeds-dataset/images/Extra-Toes Cat - Hemingway Polydactyl/45676341_495.jpg',\n",
       " '/kaggle/input/cat-breeds-dataset/images/Extra-Toes Cat - Hemingway Polydactyl/45830010_455.jpg',\n",
       " '/kaggle/input/cat-breeds-dataset/images/Extra-Toes Cat - Hemingway Polydactyl/37671607_2310.jpg',\n",
       " '/kaggle/input/cat-breeds-dataset/images/Extra-Toes Cat - Hemingway Polydactyl/41393889_1568.jpg',\n",
       " '/kaggle/input/cat-breeds-dataset/images/Extra-Toes Cat - Hemingway Polydactyl/42719304_1232.jpg',\n",
       " '/kaggle/input/cat-breeds-dataset/images/Extra-Toes Cat - Hemingway Polydactyl/44779402_791.jpg',\n",
       " '/kaggle/input/cat-breeds-dataset/images/Extra-Toes Cat - Hemingway Polydactyl/45965667_400.jpg',\n",
       " '/kaggle/input/cat-breeds-dataset/images/Extra-Toes Cat - Hemingway Polydactyl/46003385_252.jpg',\n",
       " '/kaggle/input/cat-breeds-dataset/images/Extra-Toes Cat - Hemingway Polydactyl/29301815_4719.jpg',\n",
       " '/kaggle/input/cat-breeds-dataset/images/Extra-Toes Cat - Hemingway Polydactyl/28200367_5027.jpg',\n",
       " '/kaggle/input/cat-breeds-dataset/images/Extra-Toes Cat - Hemingway Polydactyl/29667407_4611.jpg',\n",
       " '/kaggle/input/cat-breeds-dataset/images/Extra-Toes Cat - Hemingway Polydactyl/29711593_4601.jpg',\n",
       " '/kaggle/input/cat-breeds-dataset/images/Extra-Toes Cat - Hemingway Polydactyl/28138065_5055.jpg',\n",
       " '/kaggle/input/cat-breeds-dataset/images/Extra-Toes Cat - Hemingway Polydactyl/31155187_4064.jpg',\n",
       " '/kaggle/input/cat-breeds-dataset/images/Extra-Toes Cat - Hemingway Polydactyl/34978666_3027.jpg',\n",
       " '/kaggle/input/cat-breeds-dataset/images/Extra-Toes Cat - Hemingway Polydactyl/24226245_6391.jpg',\n",
       " '/kaggle/input/cat-breeds-dataset/images/Extra-Toes Cat - Hemingway Polydactyl/37078673_2452.jpg',\n",
       " '/kaggle/input/cat-breeds-dataset/images/Extra-Toes Cat - Hemingway Polydactyl/31951337_3884.jpg',\n",
       " '/kaggle/input/cat-breeds-dataset/images/Extra-Toes Cat - Hemingway Polydactyl/26866095_5501.jpg',\n",
       " '/kaggle/input/cat-breeds-dataset/images/Extra-Toes Cat - Hemingway Polydactyl/37078686_2451.jpg',\n",
       " '/kaggle/input/cat-breeds-dataset/images/Extra-Toes Cat - Hemingway Polydactyl/27121319_5404.jpg',\n",
       " '/kaggle/input/cat-breeds-dataset/images/Extra-Toes Cat - Hemingway Polydactyl/24616668_6226.jpg',\n",
       " '/kaggle/input/cat-breeds-dataset/images/Extra-Toes Cat - Hemingway Polydactyl/26866829_5499.jpg',\n",
       " '/kaggle/input/cat-breeds-dataset/images/Extra-Toes Cat - Hemingway Polydactyl/41007213_1630.jpg',\n",
       " '/kaggle/input/cat-breeds-dataset/images/Extra-Toes Cat - Hemingway Polydactyl/20906281_7356.jpg',\n",
       " '/kaggle/input/cat-breeds-dataset/images/Extra-Toes Cat - Hemingway Polydactyl/46518157_22338.jpg',\n",
       " '/kaggle/input/cat-breeds-dataset/images/Extra-Toes Cat - Hemingway Polydactyl/44139987_915.jpg',\n",
       " '/kaggle/input/cat-breeds-dataset/images/Extra-Toes Cat - Hemingway Polydactyl/41384240_1569.jpg',\n",
       " '/kaggle/input/cat-breeds-dataset/images/Extra-Toes Cat - Hemingway Polydactyl/35465269_2874.jpg',\n",
       " '/kaggle/input/cat-breeds-dataset/images/Extra-Toes Cat - Hemingway Polydactyl/23053802_6782.jpg',\n",
       " '/kaggle/input/cat-breeds-dataset/images/Extra-Toes Cat - Hemingway Polydactyl/40966264_1638.jpg',\n",
       " '/kaggle/input/cat-breeds-dataset/images/Extra-Toes Cat - Hemingway Polydactyl/28138102_5054.jpg',\n",
       " '/kaggle/input/cat-breeds-dataset/images/Extra-Toes Cat - Hemingway Polydactyl/21133408_7290.jpg',\n",
       " '/kaggle/input/cat-breeds-dataset/images/Extra-Toes Cat - Hemingway Polydactyl/33501729_3408.jpg',\n",
       " '/kaggle/input/cat-breeds-dataset/images/Extra-Toes Cat - Hemingway Polydactyl/46003169_251.jpg',\n",
       " '/kaggle/input/cat-breeds-dataset/images/Extra-Toes Cat - Hemingway Polydactyl/32473936_3754.jpg',\n",
       " '/kaggle/input/cat-breeds-dataset/images/Extra-Toes Cat - Hemingway Polydactyl/28391627_4984.jpg',\n",
       " '/kaggle/input/cat-breeds-dataset/images/Extra-Toes Cat - Hemingway Polydactyl/35141718_2981.jpg',\n",
       " '/kaggle/input/cat-breeds-dataset/images/Extra-Toes Cat - Hemingway Polydactyl/39711098_1869.jpg',\n",
       " '/kaggle/input/cat-breeds-dataset/images/Extra-Toes Cat - Hemingway Polydactyl/21646182_7117.jpg',\n",
       " '/kaggle/input/cat-breeds-dataset/images/Extra-Toes Cat - Hemingway Polydactyl/37538815_2330.jpg',\n",
       " '/kaggle/input/cat-breeds-dataset/images/Extra-Toes Cat - Hemingway Polydactyl/36325326_2634.jpg',\n",
       " '/kaggle/input/cat-breeds-dataset/images/Extra-Toes Cat - Hemingway Polydactyl/44738748_798.jpg',\n",
       " '/kaggle/input/cat-breeds-dataset/images/Extra-Toes Cat - Hemingway Polydactyl/37007112_2467.jpg',\n",
       " '/kaggle/input/cat-breeds-dataset/images/Extra-Toes Cat - Hemingway Polydactyl/26124937_5821.jpg',\n",
       " '/kaggle/input/cat-breeds-dataset/images/Extra-Toes Cat - Hemingway Polydactyl/39793712_1842.jpg',\n",
       " '/kaggle/input/cat-breeds-dataset/images/Extra-Toes Cat - Hemingway Polydactyl/44844231_782.jpg',\n",
       " '/kaggle/input/cat-breeds-dataset/images/Extra-Toes Cat - Hemingway Polydactyl/46003354_257.jpg',\n",
       " '/kaggle/input/cat-breeds-dataset/images/Extra-Toes Cat - Hemingway Polydactyl/27505401_5271.jpg',\n",
       " '/kaggle/input/cat-breeds-dataset/images/Extra-Toes Cat - Hemingway Polydactyl/45992543_384.jpg',\n",
       " '/kaggle/input/cat-breeds-dataset/images/Extra-Toes Cat - Hemingway Polydactyl/36381385_2624.jpg',\n",
       " '/kaggle/input/cat-breeds-dataset/images/Extra-Toes Cat - Hemingway Polydactyl/39352228_1967.jpg',\n",
       " '/kaggle/input/cat-breeds-dataset/images/Extra-Toes Cat - Hemingway Polydactyl/45944807_409.jpg',\n",
       " '/kaggle/input/cat-breeds-dataset/images/Extra-Toes Cat - Hemingway Polydactyl/35970649_2711.jpg',\n",
       " '/kaggle/input/cat-breeds-dataset/images/Extra-Toes Cat - Hemingway Polydactyl/35285350_2928.jpg',\n",
       " '/kaggle/input/cat-breeds-dataset/images/Extra-Toes Cat - Hemingway Polydactyl/20728474_7412.jpg',\n",
       " '/kaggle/input/cat-breeds-dataset/images/Extra-Toes Cat - Hemingway Polydactyl/27100536_5415.jpg',\n",
       " '/kaggle/input/cat-breeds-dataset/images/Extra-Toes Cat - Hemingway Polydactyl/24552238_6247.jpg',\n",
       " '/kaggle/input/cat-breeds-dataset/images/Extra-Toes Cat - Hemingway Polydactyl/24517427_6254.jpg',\n",
       " '/kaggle/input/cat-breeds-dataset/images/Extra-Toes Cat - Hemingway Polydactyl/40698149_1686.jpg',\n",
       " '/kaggle/input/cat-breeds-dataset/images/Extra-Toes Cat - Hemingway Polydactyl/35260970_2934.jpg',\n",
       " '/kaggle/input/cat-breeds-dataset/images/Extra-Toes Cat - Hemingway Polydactyl/26554282_5659.jpg',\n",
       " '/kaggle/input/cat-breeds-dataset/images/Extra-Toes Cat - Hemingway Polydactyl/29884892_4552.jpg',\n",
       " '/kaggle/input/cat-breeds-dataset/images/Extra-Toes Cat - Hemingway Polydactyl/45992479_358.jpg',\n",
       " '/kaggle/input/cat-breeds-dataset/images/Extra-Toes Cat - Hemingway Polydactyl/26681006_5591.jpg',\n",
       " '/kaggle/input/cat-breeds-dataset/images/Extra-Toes Cat - Hemingway Polydactyl/44483399_855.jpg',\n",
       " '/kaggle/input/cat-breeds-dataset/images/Extra-Toes Cat - Hemingway Polydactyl/42693066_1239.jpg',\n",
       " '/kaggle/input/cat-breeds-dataset/images/Extra-Toes Cat - Hemingway Polydactyl/32589197_3719.jpg',\n",
       " '/kaggle/input/cat-breeds-dataset/images/Extra-Toes Cat - Hemingway Polydactyl/35324589_2914.jpg',\n",
       " '/kaggle/input/cat-breeds-dataset/images/Extra-Toes Cat - Hemingway Polydactyl/29936726_4523.jpg',\n",
       " '/kaggle/input/cat-breeds-dataset/images/Extra-Toes Cat - Hemingway Polydactyl/35624250_2821.jpg',\n",
       " '/kaggle/input/cat-breeds-dataset/images/Extra-Toes Cat - Hemingway Polydactyl/46200334_52845.jpg',\n",
       " '/kaggle/input/cat-breeds-dataset/images/Extra-Toes Cat - Hemingway Polydactyl/40571382_1717.jpg',\n",
       " '/kaggle/input/cat-breeds-dataset/images/Extra-Toes Cat - Hemingway Polydactyl/35246880_2948.jpg',\n",
       " '/kaggle/input/cat-breeds-dataset/images/Extra-Toes Cat - Hemingway Polydactyl/24558667_6243.jpg',\n",
       " '/kaggle/input/cat-breeds-dataset/images/Extra-Toes Cat - Hemingway Polydactyl/42393308_1320.jpg',\n",
       " '/kaggle/input/cat-breeds-dataset/images/Extra-Toes Cat - Hemingway Polydactyl/35236572_2950.jpg',\n",
       " '/kaggle/input/cat-breeds-dataset/images/Extra-Toes Cat - Hemingway Polydactyl/30752029_4239.jpg',\n",
       " '/kaggle/input/cat-breeds-dataset/images/Extra-Toes Cat - Hemingway Polydactyl/36455440_2608.jpg',\n",
       " '/kaggle/input/cat-breeds-dataset/images/Extra-Toes Cat - Hemingway Polydactyl/27941401_5125.jpg',\n",
       " '/kaggle/input/cat-breeds-dataset/images/Extra-Toes Cat - Hemingway Polydactyl/27066755_5434.jpg',\n",
       " '/kaggle/input/cat-breeds-dataset/images/Extra-Toes Cat - Hemingway Polydactyl/45965701_398.jpg',\n",
       " '/kaggle/input/cat-breeds-dataset/images/Extra-Toes Cat - Hemingway Polydactyl/43961946_947.jpg',\n",
       " '/kaggle/input/cat-breeds-dataset/images/Extra-Toes Cat - Hemingway Polydactyl/42253287_1365.jpg',\n",
       " '/kaggle/input/cat-breeds-dataset/images/Extra-Toes Cat - Hemingway Polydactyl/25665410_5939.jpg',\n",
       " '/kaggle/input/cat-breeds-dataset/images/Extra-Toes Cat - Hemingway Polydactyl/29382086_4697.jpg',\n",
       " '/kaggle/input/cat-breeds-dataset/images/Extra-Toes Cat - Hemingway Polydactyl/43161785_1142.jpg',\n",
       " '/kaggle/input/cat-breeds-dataset/images/Extra-Toes Cat - Hemingway Polydactyl/46307564_43522.jpg',\n",
       " '/kaggle/input/cat-breeds-dataset/images/Extra-Toes Cat - Hemingway Polydactyl/43019349_1164.jpg',\n",
       " '/kaggle/input/cat-breeds-dataset/images/Extra-Toes Cat - Hemingway Polydactyl/40462262_1744.jpg',\n",
       " ...]"
      ]
     },
     "execution_count": 4,
     "metadata": {},
     "output_type": "execute_result"
    }
   ],
   "source": [
    "filelist"
   ]
  },
  {
   "cell_type": "markdown",
   "metadata": {},
   "source": [
    "### Taking only those 10 labels given in the assignment."
   ]
  },
  {
   "cell_type": "code",
   "execution_count": 5,
   "metadata": {
    "execution": {
     "iopub.execute_input": "2021-07-10T08:43:53.417501Z",
     "iopub.status.busy": "2021-07-10T08:43:53.417106Z",
     "iopub.status.idle": "2021-07-10T08:43:53.425614Z",
     "shell.execute_reply": "2021-07-10T08:43:53.424349Z",
     "shell.execute_reply.started": "2021-07-10T08:43:53.417377Z"
    }
   },
   "outputs": [],
   "source": [
    "labels_needed = ['Bombay', 'Calico', 'Burmese', 'Himalayan',\n",
    "'Munchkin', 'Ragdoll', 'Siberian', 'British Shorthair', 'Russian Blue', \n",
    "                 'Dilute Calico']"
   ]
  },
  {
   "cell_type": "code",
   "execution_count": 6,
   "metadata": {
    "execution": {
     "iopub.execute_input": "2021-07-10T08:43:53.427348Z",
     "iopub.status.busy": "2021-07-10T08:43:53.426806Z",
     "iopub.status.idle": "2021-07-10T08:43:53.526034Z",
     "shell.execute_reply": "2021-07-10T08:43:53.525225Z",
     "shell.execute_reply.started": "2021-07-10T08:43:53.427310Z"
    }
   },
   "outputs": [],
   "source": [
    "Filepaths   = []\n",
    "labels = []\n",
    "\n",
    "for image_file in filelist:\n",
    "    label = image_file.split(os.path.sep)[-2]\n",
    "    if label in labels_needed:\n",
    "\n",
    "        Filepaths.append(image_file)\n",
    "        labels.append(label)\n",
    "    \n"
   ]
  },
  {
   "cell_type": "code",
   "execution_count": 7,
   "metadata": {
    "execution": {
     "iopub.execute_input": "2021-07-10T08:43:53.527547Z",
     "iopub.status.busy": "2021-07-10T08:43:53.527170Z",
     "iopub.status.idle": "2021-07-10T08:43:53.534604Z",
     "shell.execute_reply": "2021-07-10T08:43:53.533772Z",
     "shell.execute_reply.started": "2021-07-10T08:43:53.527505Z"
    }
   },
   "outputs": [
    {
     "data": {
      "text/plain": [
       "{'Bombay',\n",
       " 'British Shorthair',\n",
       " 'Burmese',\n",
       " 'Calico',\n",
       " 'Dilute Calico',\n",
       " 'Himalayan',\n",
       " 'Munchkin',\n",
       " 'Ragdoll',\n",
       " 'Russian Blue',\n",
       " 'Siberian'}"
      ]
     },
     "execution_count": 7,
     "metadata": {},
     "output_type": "execute_result"
    }
   ],
   "source": [
    "set(labels)"
   ]
  },
  {
   "cell_type": "code",
   "execution_count": 8,
   "metadata": {
    "execution": {
     "iopub.execute_input": "2021-07-10T08:43:53.538259Z",
     "iopub.status.busy": "2021-07-10T08:43:53.537589Z",
     "iopub.status.idle": "2021-07-10T08:43:53.545591Z",
     "shell.execute_reply": "2021-07-10T08:43:53.544838Z",
     "shell.execute_reply.started": "2021-07-10T08:43:53.538223Z"
    }
   },
   "outputs": [
    {
     "data": {
      "text/plain": [
       "(15654, 15654)"
      ]
     },
     "execution_count": 8,
     "metadata": {},
     "output_type": "execute_result"
    }
   ],
   "source": [
    "len(Filepaths), len(labels)"
   ]
  },
  {
   "cell_type": "markdown",
   "metadata": {},
   "source": [
    "### Creating a dataframe with file paths and the labels for them"
   ]
  },
  {
   "cell_type": "code",
   "execution_count": 9,
   "metadata": {
    "execution": {
     "iopub.execute_input": "2021-07-10T08:43:53.547991Z",
     "iopub.status.busy": "2021-07-10T08:43:53.547627Z",
     "iopub.status.idle": "2021-07-10T08:43:53.584954Z",
     "shell.execute_reply": "2021-07-10T08:43:53.584045Z",
     "shell.execute_reply.started": "2021-07-10T08:43:53.547957Z"
    }
   },
   "outputs": [
    {
     "data": {
      "text/html": [
       "<div>\n",
       "<style scoped>\n",
       "    .dataframe tbody tr th:only-of-type {\n",
       "        vertical-align: middle;\n",
       "    }\n",
       "\n",
       "    .dataframe tbody tr th {\n",
       "        vertical-align: top;\n",
       "    }\n",
       "\n",
       "    .dataframe thead th {\n",
       "        text-align: right;\n",
       "    }\n",
       "</style>\n",
       "<table border=\"1\" class=\"dataframe\">\n",
       "  <thead>\n",
       "    <tr style=\"text-align: right;\">\n",
       "      <th></th>\n",
       "      <th>Filepath</th>\n",
       "      <th>Labels</th>\n",
       "    </tr>\n",
       "  </thead>\n",
       "  <tbody>\n",
       "    <tr>\n",
       "      <th>0</th>\n",
       "      <td>/kaggle/input/cat-breeds-dataset/images/Siberi...</td>\n",
       "      <td>Siberian</td>\n",
       "    </tr>\n",
       "    <tr>\n",
       "      <th>1</th>\n",
       "      <td>/kaggle/input/cat-breeds-dataset/images/Siberi...</td>\n",
       "      <td>Siberian</td>\n",
       "    </tr>\n",
       "    <tr>\n",
       "      <th>2</th>\n",
       "      <td>/kaggle/input/cat-breeds-dataset/images/Siberi...</td>\n",
       "      <td>Siberian</td>\n",
       "    </tr>\n",
       "    <tr>\n",
       "      <th>3</th>\n",
       "      <td>/kaggle/input/cat-breeds-dataset/images/Siberi...</td>\n",
       "      <td>Siberian</td>\n",
       "    </tr>\n",
       "    <tr>\n",
       "      <th>4</th>\n",
       "      <td>/kaggle/input/cat-breeds-dataset/images/Siberi...</td>\n",
       "      <td>Siberian</td>\n",
       "    </tr>\n",
       "    <tr>\n",
       "      <th>...</th>\n",
       "      <td>...</td>\n",
       "      <td>...</td>\n",
       "    </tr>\n",
       "    <tr>\n",
       "      <th>15649</th>\n",
       "      <td>/kaggle/input/cat-breeds-dataset/images/Bombay...</td>\n",
       "      <td>Bombay</td>\n",
       "    </tr>\n",
       "    <tr>\n",
       "      <th>15650</th>\n",
       "      <td>/kaggle/input/cat-breeds-dataset/images/Bombay...</td>\n",
       "      <td>Bombay</td>\n",
       "    </tr>\n",
       "    <tr>\n",
       "      <th>15651</th>\n",
       "      <td>/kaggle/input/cat-breeds-dataset/images/Bombay...</td>\n",
       "      <td>Bombay</td>\n",
       "    </tr>\n",
       "    <tr>\n",
       "      <th>15652</th>\n",
       "      <td>/kaggle/input/cat-breeds-dataset/images/Bombay...</td>\n",
       "      <td>Bombay</td>\n",
       "    </tr>\n",
       "    <tr>\n",
       "      <th>15653</th>\n",
       "      <td>/kaggle/input/cat-breeds-dataset/images/Bombay...</td>\n",
       "      <td>Bombay</td>\n",
       "    </tr>\n",
       "  </tbody>\n",
       "</table>\n",
       "<p>15654 rows × 2 columns</p>\n",
       "</div>"
      ],
      "text/plain": [
       "                                                Filepath    Labels\n",
       "0      /kaggle/input/cat-breeds-dataset/images/Siberi...  Siberian\n",
       "1      /kaggle/input/cat-breeds-dataset/images/Siberi...  Siberian\n",
       "2      /kaggle/input/cat-breeds-dataset/images/Siberi...  Siberian\n",
       "3      /kaggle/input/cat-breeds-dataset/images/Siberi...  Siberian\n",
       "4      /kaggle/input/cat-breeds-dataset/images/Siberi...  Siberian\n",
       "...                                                  ...       ...\n",
       "15649  /kaggle/input/cat-breeds-dataset/images/Bombay...    Bombay\n",
       "15650  /kaggle/input/cat-breeds-dataset/images/Bombay...    Bombay\n",
       "15651  /kaggle/input/cat-breeds-dataset/images/Bombay...    Bombay\n",
       "15652  /kaggle/input/cat-breeds-dataset/images/Bombay...    Bombay\n",
       "15653  /kaggle/input/cat-breeds-dataset/images/Bombay...    Bombay\n",
       "\n",
       "[15654 rows x 2 columns]"
      ]
     },
     "execution_count": 9,
     "metadata": {},
     "output_type": "execute_result"
    }
   ],
   "source": [
    "df = pd.DataFrame( list( zip (Filepaths, labels) ), columns = ['Filepath', 'Labels'] )\n",
    "df"
   ]
  },
  {
   "cell_type": "code",
   "execution_count": 10,
   "metadata": {
    "execution": {
     "iopub.execute_input": "2021-07-10T08:43:53.586613Z",
     "iopub.status.busy": "2021-07-10T08:43:53.586284Z",
     "iopub.status.idle": "2021-07-10T08:43:53.602446Z",
     "shell.execute_reply": "2021-07-10T08:43:53.601629Z",
     "shell.execute_reply.started": "2021-07-10T08:43:53.586580Z"
    }
   },
   "outputs": [
    {
     "data": {
      "text/html": [
       "<div>\n",
       "<style scoped>\n",
       "    .dataframe tbody tr th:only-of-type {\n",
       "        vertical-align: middle;\n",
       "    }\n",
       "\n",
       "    .dataframe tbody tr th {\n",
       "        vertical-align: top;\n",
       "    }\n",
       "\n",
       "    .dataframe thead th {\n",
       "        text-align: right;\n",
       "    }\n",
       "</style>\n",
       "<table border=\"1\" class=\"dataframe\">\n",
       "  <thead>\n",
       "    <tr style=\"text-align: right;\">\n",
       "      <th></th>\n",
       "      <th>Filepath</th>\n",
       "      <th>Labels</th>\n",
       "    </tr>\n",
       "  </thead>\n",
       "  <tbody>\n",
       "    <tr>\n",
       "      <th>0</th>\n",
       "      <td>/kaggle/input/cat-breeds-dataset/images/Russia...</td>\n",
       "      <td>Russian Blue</td>\n",
       "    </tr>\n",
       "    <tr>\n",
       "      <th>1</th>\n",
       "      <td>/kaggle/input/cat-breeds-dataset/images/Calico...</td>\n",
       "      <td>Calico</td>\n",
       "    </tr>\n",
       "    <tr>\n",
       "      <th>2</th>\n",
       "      <td>/kaggle/input/cat-breeds-dataset/images/Britis...</td>\n",
       "      <td>British Shorthair</td>\n",
       "    </tr>\n",
       "    <tr>\n",
       "      <th>3</th>\n",
       "      <td>/kaggle/input/cat-breeds-dataset/images/Himala...</td>\n",
       "      <td>Himalayan</td>\n",
       "    </tr>\n",
       "    <tr>\n",
       "      <th>4</th>\n",
       "      <td>/kaggle/input/cat-breeds-dataset/images/Calico...</td>\n",
       "      <td>Calico</td>\n",
       "    </tr>\n",
       "    <tr>\n",
       "      <th>...</th>\n",
       "      <td>...</td>\n",
       "      <td>...</td>\n",
       "    </tr>\n",
       "    <tr>\n",
       "      <th>15649</th>\n",
       "      <td>/kaggle/input/cat-breeds-dataset/images/Himala...</td>\n",
       "      <td>Himalayan</td>\n",
       "    </tr>\n",
       "    <tr>\n",
       "      <th>15650</th>\n",
       "      <td>/kaggle/input/cat-breeds-dataset/images/Britis...</td>\n",
       "      <td>British Shorthair</td>\n",
       "    </tr>\n",
       "    <tr>\n",
       "      <th>15651</th>\n",
       "      <td>/kaggle/input/cat-breeds-dataset/images/Calico...</td>\n",
       "      <td>Calico</td>\n",
       "    </tr>\n",
       "    <tr>\n",
       "      <th>15652</th>\n",
       "      <td>/kaggle/input/cat-breeds-dataset/images/Calico...</td>\n",
       "      <td>Calico</td>\n",
       "    </tr>\n",
       "    <tr>\n",
       "      <th>15653</th>\n",
       "      <td>/kaggle/input/cat-breeds-dataset/images/Burmes...</td>\n",
       "      <td>Burmese</td>\n",
       "    </tr>\n",
       "  </tbody>\n",
       "</table>\n",
       "<p>15654 rows × 2 columns</p>\n",
       "</div>"
      ],
      "text/plain": [
       "                                                Filepath             Labels\n",
       "0      /kaggle/input/cat-breeds-dataset/images/Russia...       Russian Blue\n",
       "1      /kaggle/input/cat-breeds-dataset/images/Calico...             Calico\n",
       "2      /kaggle/input/cat-breeds-dataset/images/Britis...  British Shorthair\n",
       "3      /kaggle/input/cat-breeds-dataset/images/Himala...          Himalayan\n",
       "4      /kaggle/input/cat-breeds-dataset/images/Calico...             Calico\n",
       "...                                                  ...                ...\n",
       "15649  /kaggle/input/cat-breeds-dataset/images/Himala...          Himalayan\n",
       "15650  /kaggle/input/cat-breeds-dataset/images/Britis...  British Shorthair\n",
       "15651  /kaggle/input/cat-breeds-dataset/images/Calico...             Calico\n",
       "15652  /kaggle/input/cat-breeds-dataset/images/Calico...             Calico\n",
       "15653  /kaggle/input/cat-breeds-dataset/images/Burmes...            Burmese\n",
       "\n",
       "[15654 rows x 2 columns]"
      ]
     },
     "execution_count": 10,
     "metadata": {},
     "output_type": "execute_result"
    }
   ],
   "source": [
    "# shuffle the dataframe\n",
    "\n",
    "from sklearn.utils import shuffle\n",
    "df = (df.sample(frac = 1).reset_index()).drop(columns = 'index')\n",
    "df\n"
   ]
  },
  {
   "cell_type": "markdown",
   "metadata": {},
   "source": [
    "### Checking for class imbalance"
   ]
  },
  {
   "cell_type": "code",
   "execution_count": 13,
   "metadata": {
    "execution": {
     "iopub.execute_input": "2021-07-10T08:43:54.962148Z",
     "iopub.status.busy": "2021-07-10T08:43:54.961799Z",
     "iopub.status.idle": "2021-07-10T08:43:54.974370Z",
     "shell.execute_reply": "2021-07-10T08:43:54.973401Z",
     "shell.execute_reply.started": "2021-07-10T08:43:54.962108Z"
    }
   },
   "outputs": [
    {
     "data": {
      "text/plain": [
       "Calico               3468\n",
       "Dilute Calico        3230\n",
       "Ragdoll              2669\n",
       "Russian Blue         1870\n",
       "Bombay               1835\n",
       "Himalayan            1301\n",
       "British Shorthair     567\n",
       "Burmese               344\n",
       "Siberian              189\n",
       "Munchkin              181\n",
       "Name: Labels, dtype: int64"
      ]
     },
     "execution_count": 13,
     "metadata": {},
     "output_type": "execute_result"
    }
   ],
   "source": [
    "# distribution of classes\n",
    "df.Labels.value_counts()"
   ]
  },
  {
   "cell_type": "markdown",
   "metadata": {},
   "source": [
    "* Class imbalance present."
   ]
  },
  {
   "cell_type": "markdown",
   "metadata": {},
   "source": [
    "### Splitting the data And Creating data generator"
   ]
  },
  {
   "cell_type": "code",
   "execution_count": 14,
   "metadata": {
    "execution": {
     "iopub.execute_input": "2021-07-10T08:43:54.976164Z",
     "iopub.status.busy": "2021-07-10T08:43:54.975809Z",
     "iopub.status.idle": "2021-07-10T08:43:54.989268Z",
     "shell.execute_reply": "2021-07-10T08:43:54.988536Z",
     "shell.execute_reply.started": "2021-07-10T08:43:54.976130Z"
    }
   },
   "outputs": [],
   "source": [
    "## train test split\n",
    "\n",
    "train_ratio = .75\n",
    "validation_ratio = 0.10\n",
    "test_ratio = 0.25\n",
    "\n",
    "train, test = train_test_split(df, test_size = test_ratio )\n",
    "val, test = train_test_split(test, test_size=test_ratio/(test_ratio + validation_ratio))"
   ]
  },
  {
   "cell_type": "code",
   "execution_count": 18,
   "metadata": {
    "execution": {
     "iopub.execute_input": "2021-07-10T08:54:14.692437Z",
     "iopub.status.busy": "2021-07-10T08:54:14.692115Z",
     "iopub.status.idle": "2021-07-10T08:54:24.489046Z",
     "shell.execute_reply": "2021-07-10T08:54:24.488124Z",
     "shell.execute_reply.started": "2021-07-10T08:54:14.692406Z"
    }
   },
   "outputs": [
    {
     "name": "stdout",
     "output_type": "stream",
     "text": [
      "Found 11740 validated image filenames belonging to 10 classes.\n",
      "Found 1118 validated image filenames belonging to 10 classes.\n",
      "Found 2796 validated image filenames belonging to 10 classes.\n"
     ]
    }
   ],
   "source": [
    "## we cannot feed pandas datframe to model we need to attach lable and image \n",
    "\n",
    "img_datagen = ImageDataGenerator(rescale=1./255, \n",
    "                                   rotation_range=30, \n",
    "                                   width_shift_range=0.2,\n",
    "                                   height_shift_range=0.2, \n",
    "                                   horizontal_flip = 'true')\n",
    "   \n",
    "\n",
    "x_train =  img_datagen.flow_from_dataframe(dataframe = train,  x_col='Filepath', y_col='Labels',  target_size=(299, 299), shuffle=False, batch_size=10, seed=10)\n",
    "x_val = img_datagen.flow_from_dataframe(dataframe = val,  x_col='Filepath', y_col='Labels',  target_size=(299, 299), shuffle=False, batch_size=10, seed=10)\n",
    "x_test = img_datagen.flow_from_dataframe(dataframe = test,  x_col='Filepath', y_col='Labels',  target_size=(299, 299), shuffle=False, batch_size=10, seed=10)"
   ]
  },
  {
   "cell_type": "code",
   "execution_count": 19,
   "metadata": {
    "execution": {
     "iopub.execute_input": "2021-07-10T08:54:35.582620Z",
     "iopub.status.busy": "2021-07-10T08:54:35.582252Z",
     "iopub.status.idle": "2021-07-10T08:54:35.588762Z",
     "shell.execute_reply": "2021-07-10T08:54:35.587700Z",
     "shell.execute_reply.started": "2021-07-10T08:54:35.582585Z"
    }
   },
   "outputs": [
    {
     "data": {
      "text/plain": [
       "<tensorflow.python.keras.preprocessing.image.DataFrameIterator at 0x7f68964bd3d0>"
      ]
     },
     "execution_count": 19,
     "metadata": {},
     "output_type": "execute_result"
    }
   ],
   "source": [
    "x_train"
   ]
  },
  {
   "cell_type": "markdown",
   "metadata": {},
   "source": [
    "### Modelling"
   ]
  },
  {
   "cell_type": "code",
   "execution_count": 20,
   "metadata": {
    "execution": {
     "iopub.execute_input": "2021-07-10T08:54:37.185894Z",
     "iopub.status.busy": "2021-07-10T08:54:37.185554Z",
     "iopub.status.idle": "2021-07-10T08:54:41.614226Z",
     "shell.execute_reply": "2021-07-10T08:54:41.613338Z",
     "shell.execute_reply.started": "2021-07-10T08:54:37.185863Z"
    }
   },
   "outputs": [
    {
     "name": "stdout",
     "output_type": "stream",
     "text": [
      "Downloading data from https://storage.googleapis.com/tensorflow/keras-applications/inception_v3/inception_v3_weights_tf_dim_ordering_tf_kernels_notop.h5\n",
      "87916544/87910968 [==============================] - 0s 0us/step\n"
     ]
    }
   ],
   "source": [
    "\n",
    "i_model = InceptionV3(weights= 'imagenet', include_top=False, input_shape=(299, 299, 3))"
   ]
  },
  {
   "cell_type": "code",
   "execution_count": null,
   "metadata": {
    "execution": {
     "iopub.status.busy": "2021-07-10T08:43:55.325340Z",
     "iopub.status.idle": "2021-07-10T08:43:55.326060Z"
    }
   },
   "outputs": [],
   "source": [
    "for layer in i_model.layers:\n",
    "    layer.trainable = False\n",
    "    \n",
    "i_model.summary() "
   ]
  },
  {
   "cell_type": "code",
   "execution_count": 21,
   "metadata": {
    "execution": {
     "iopub.execute_input": "2021-07-10T08:54:46.704646Z",
     "iopub.status.busy": "2021-07-10T08:54:46.704280Z",
     "iopub.status.idle": "2021-07-10T08:54:47.250452Z",
     "shell.execute_reply": "2021-07-10T08:54:47.249711Z",
     "shell.execute_reply.started": "2021-07-10T08:54:46.704612Z"
    }
   },
   "outputs": [
    {
     "name": "stdout",
     "output_type": "stream",
     "text": [
      "Model: \"sequential\"\n",
      "_________________________________________________________________\n",
      "Layer (type)                 Output Shape              Param #   \n",
      "=================================================================\n",
      "inception_v3 (Functional)    (None, 8, 8, 2048)        21802784  \n",
      "_________________________________________________________________\n",
      "global_average_pooling2d (Gl (None, 2048)              0         \n",
      "_________________________________________________________________\n",
      "dense (Dense)                (None, 128)               262272    \n",
      "_________________________________________________________________\n",
      "dropout (Dropout)            (None, 128)               0         \n",
      "_________________________________________________________________\n",
      "dense_1 (Dense)              (None, 10)                1290      \n",
      "=================================================================\n",
      "Total params: 22,066,346\n",
      "Trainable params: 22,031,914\n",
      "Non-trainable params: 34,432\n",
      "_________________________________________________________________\n"
     ]
    }
   ],
   "source": [
    "from keras.models import Sequential\n",
    "from keras.layers.pooling import GlobalAveragePooling2D\n",
    "from tensorflow.keras.layers import Dense, Dropout\n",
    "\n",
    "\n",
    "model = Sequential()\n",
    "model.add(i_model)\n",
    "model.add(GlobalAveragePooling2D())\n",
    "model.add(Dense(128))\n",
    "model.add(Dropout(0.2))\n",
    "model.add(Dense(10, activation = 'softmax'))\n",
    "model.summary()"
   ]
  },
  {
   "cell_type": "markdown",
   "metadata": {},
   "source": []
  },
  {
   "cell_type": "code",
   "execution_count": 22,
   "metadata": {
    "execution": {
     "iopub.execute_input": "2021-07-10T08:54:53.048387Z",
     "iopub.status.busy": "2021-07-10T08:54:53.048057Z",
     "iopub.status.idle": "2021-07-10T08:54:53.069254Z",
     "shell.execute_reply": "2021-07-10T08:54:53.068343Z",
     "shell.execute_reply.started": "2021-07-10T08:54:53.048354Z"
    }
   },
   "outputs": [],
   "source": [
    "model.compile(optimizer = SGD(),\n",
    "             loss=\"categorical_crossentropy\",\n",
    "             metrics=[\"accuracy\"])"
   ]
  },
  {
   "cell_type": "code",
   "execution_count": 23,
   "metadata": {
    "execution": {
     "iopub.execute_input": "2021-07-10T08:54:54.530607Z",
     "iopub.status.busy": "2021-07-10T08:54:54.530284Z",
     "iopub.status.idle": "2021-07-10T09:00:05.186190Z",
     "shell.execute_reply": "2021-07-10T09:00:05.185285Z",
     "shell.execute_reply.started": "2021-07-10T08:54:54.530576Z"
    }
   },
   "outputs": [
    {
     "name": "stdout",
     "output_type": "stream",
     "text": [
      "Epoch 1/5\n",
      "175/175 - 81s - loss: 1.3681 - accuracy: 0.5109 - val_loss: 1.0753 - val_accuracy: 0.6273\n",
      "Epoch 2/5\n",
      "175/175 - 60s - loss: 1.1543 - accuracy: 0.6029 - val_loss: 1.1078 - val_accuracy: 0.6023\n",
      "Epoch 3/5\n",
      "175/175 - 58s - loss: 1.0415 - accuracy: 0.6577 - val_loss: 1.0980 - val_accuracy: 0.6182\n",
      "Epoch 4/5\n",
      "175/175 - 57s - loss: 0.9309 - accuracy: 0.6794 - val_loss: 1.1922 - val_accuracy: 0.6205\n",
      "Epoch 5/5\n",
      "175/175 - 55s - loss: 0.9582 - accuracy: 0.6789 - val_loss: 0.9005 - val_accuracy: 0.7318\n"
     ]
    }
   ],
   "source": [
    "history = model.fit(x_train, validation_data = x_val,steps_per_epoch = 175,validation_steps = 44,\n",
    "                epochs = 5, verbose = 2)"
   ]
  },
  {
   "cell_type": "markdown",
   "metadata": {},
   "source": [
    "### Predicting on test data"
   ]
  },
  {
   "cell_type": "code",
   "execution_count": 24,
   "metadata": {
    "execution": {
     "iopub.execute_input": "2021-07-10T09:00:05.188524Z",
     "iopub.status.busy": "2021-07-10T09:00:05.188144Z",
     "iopub.status.idle": "2021-07-10T09:01:21.428382Z",
     "shell.execute_reply": "2021-07-10T09:01:21.427529Z",
     "shell.execute_reply.started": "2021-07-10T09:00:05.188484Z"
    }
   },
   "outputs": [
    {
     "data": {
      "text/plain": [
       "array([7, 3, 7, ..., 3, 0, 7])"
      ]
     },
     "execution_count": 24,
     "metadata": {},
     "output_type": "execute_result"
    }
   ],
   "source": [
    "predictions = model.predict(x_test)\n",
    "predictions = np.argmax(predictions, axis=1)\n",
    "predictions"
   ]
  },
  {
   "cell_type": "code",
   "execution_count": 25,
   "metadata": {
    "execution": {
     "iopub.execute_input": "2021-07-10T09:01:21.430761Z",
     "iopub.status.busy": "2021-07-10T09:01:21.430159Z",
     "iopub.status.idle": "2021-07-10T09:01:21.437071Z",
     "shell.execute_reply": "2021-07-10T09:01:21.436296Z",
     "shell.execute_reply.started": "2021-07-10T09:01:21.430721Z"
    }
   },
   "outputs": [
    {
     "data": {
      "text/plain": [
       "{'Bombay': 0,\n",
       " 'British Shorthair': 1,\n",
       " 'Burmese': 2,\n",
       " 'Calico': 3,\n",
       " 'Dilute Calico': 4,\n",
       " 'Himalayan': 5,\n",
       " 'Munchkin': 6,\n",
       " 'Ragdoll': 7,\n",
       " 'Russian Blue': 8,\n",
       " 'Siberian': 9}"
      ]
     },
     "execution_count": 25,
     "metadata": {},
     "output_type": "execute_result"
    }
   ],
   "source": [
    "labels = x_train.class_indices\n",
    "labels"
   ]
  },
  {
   "cell_type": "code",
   "execution_count": 26,
   "metadata": {
    "execution": {
     "iopub.execute_input": "2021-07-10T09:26:36.329858Z",
     "iopub.status.busy": "2021-07-10T09:26:36.329499Z",
     "iopub.status.idle": "2021-07-10T09:26:36.343600Z",
     "shell.execute_reply": "2021-07-10T09:26:36.342663Z",
     "shell.execute_reply.started": "2021-07-10T09:26:36.329824Z"
    }
   },
   "outputs": [],
   "source": [
    "test[\"Labels\"].replace({\"Bombay\": 0,'British Shorthair': 1,\n",
    " 'Burmese': 2,\n",
    " 'Calico': 3,\n",
    " 'Dilute Calico': 4,\n",
    " 'Himalayan': 5,\n",
    " 'Munchkin': 6,\n",
    " 'Ragdoll': 7,\n",
    " 'Russian Blue': 8,\n",
    " 'Siberian': 9}, inplace = True)\n"
   ]
  },
  {
   "cell_type": "markdown",
   "metadata": {},
   "source": [
    "# Evaluating the test data"
   ]
  },
  {
   "cell_type": "markdown",
   "metadata": {},
   "source": [
    "## Test Accuracy"
   ]
  },
  {
   "cell_type": "code",
   "execution_count": 27,
   "metadata": {
    "execution": {
     "iopub.execute_input": "2021-07-10T09:26:39.864773Z",
     "iopub.status.busy": "2021-07-10T09:26:39.864421Z",
     "iopub.status.idle": "2021-07-10T09:27:37.330361Z",
     "shell.execute_reply": "2021-07-10T09:27:37.329555Z",
     "shell.execute_reply.started": "2021-07-10T09:26:39.864741Z"
    }
   },
   "outputs": [
    {
     "name": "stdout",
     "output_type": "stream",
     "text": [
      "280/280 [==============================] - 57s 204ms/step - loss: 0.8884 - accuracy: 0.7057\n",
      "Test accuracy is :  70.56509256362915 %\n"
     ]
    }
   ],
   "source": [
    "test_accuracy = model.evaluate(x_test)[1] * 100\n",
    "print('Test accuracy is : ',test_accuracy, '%' )"
   ]
  },
  {
   "cell_type": "markdown",
   "metadata": {},
   "source": [
    "## Confusion Matrix"
   ]
  },
  {
   "cell_type": "code",
   "execution_count": 29,
   "metadata": {
    "execution": {
     "iopub.execute_input": "2021-07-10T09:27:37.347449Z",
     "iopub.status.busy": "2021-07-10T09:27:37.346934Z",
     "iopub.status.idle": "2021-07-10T09:27:37.358274Z",
     "shell.execute_reply": "2021-07-10T09:27:37.357350Z",
     "shell.execute_reply.started": "2021-07-10T09:27:37.347404Z"
    }
   },
   "outputs": [
    {
     "data": {
      "text/plain": [
       "array([[295,   0,   1,   3,   0,   0,   0,   0,   2,   0],\n",
       "       [ 10,   8,   0,  13,  22,   3,   0,  20,  34,   0],\n",
       "       [ 14,   1,   7,   2,   5,   9,   0,  15,   1,   1],\n",
       "       [ 16,   0,   0, 449, 108,   3,   0,  23,   7,   0],\n",
       "       [ 10,   1,   0, 105, 439,   4,   0,  46,  36,   0],\n",
       "       [  1,   0,   0,   1,   1, 157,   0,  62,   0,   1],\n",
       "       [  6,   0,   0,   4,  11,   3,   0,   9,   5,   0],\n",
       "       [ 10,   2,   1,  11,  15, 106,   0, 328,   4,   6],\n",
       "       [ 14,   0,   0,   0,   7,   1,   0,   4, 273,   0],\n",
       "       [  1,   0,   0,   5,   5,   8,   0,  18,   1,   2]])"
      ]
     },
     "execution_count": 29,
     "metadata": {},
     "output_type": "execute_result"
    }
   ],
   "source": [
    "confusion_matrix(test.Labels , predictions)\n"
   ]
  },
  {
   "cell_type": "markdown",
   "metadata": {},
   "source": [
    "## F1 Score"
   ]
  },
  {
   "cell_type": "code",
   "execution_count": 30,
   "metadata": {
    "execution": {
     "iopub.execute_input": "2021-07-10T09:27:37.360967Z",
     "iopub.status.busy": "2021-07-10T09:27:37.360436Z",
     "iopub.status.idle": "2021-07-10T09:27:37.370059Z",
     "shell.execute_reply": "2021-07-10T09:27:37.369285Z",
     "shell.execute_reply.started": "2021-07-10T09:27:37.360930Z"
    }
   },
   "outputs": [
    {
     "name": "stdout",
     "output_type": "stream",
     "text": [
      "F1 score is 67.61944724357448 %\n"
     ]
    }
   ],
   "source": [
    "from sklearn.metrics import accuracy_score, f1_score\n",
    "print('F1 score is',f1_score(test.Labels, predictions, average = 'weighted') *100, \"%\")\n"
   ]
  },
  {
   "cell_type": "markdown",
   "metadata": {},
   "source": [
    "## ROC - AUC Score"
   ]
  },
  {
   "cell_type": "code",
   "execution_count": 31,
   "metadata": {
    "execution": {
     "iopub.execute_input": "2021-07-10T09:27:37.372123Z",
     "iopub.status.busy": "2021-07-10T09:27:37.371876Z",
     "iopub.status.idle": "2021-07-10T09:28:31.847804Z",
     "shell.execute_reply": "2021-07-10T09:28:31.846968Z",
     "shell.execute_reply.started": "2021-07-10T09:27:37.372101Z"
    }
   },
   "outputs": [
    {
     "name": "stderr",
     "output_type": "stream",
     "text": [
      "/opt/conda/lib/python3.7/site-packages/tensorflow/python/keras/engine/sequential.py:425: UserWarning: `model.predict_proba()` is deprecated and will be removed after 2021-01-01. Please use `model.predict()` instead.\n",
      "  warnings.warn('`model.predict_proba()` is deprecated and '\n"
     ]
    },
    {
     "data": {
      "text/plain": [
       "array([[2.24471581e-03, 6.48340909e-04, 4.48354613e-03, ...,\n",
       "        7.10429192e-01, 5.26006916e-04, 6.06052484e-03],\n",
       "       [3.05354744e-02, 2.47017201e-03, 1.46455273e-01, ...,\n",
       "        1.35622606e-01, 1.13308374e-02, 1.10609671e-02],\n",
       "       [1.19472835e-02, 2.87969057e-02, 6.72524516e-03, ...,\n",
       "        5.09899020e-01, 9.83562786e-03, 9.32915285e-02],\n",
       "       ...,\n",
       "       [4.22054529e-03, 1.82272587e-02, 1.14802225e-02, ...,\n",
       "        5.80486981e-03, 4.13288586e-02, 1.63245462e-02],\n",
       "       [9.69571233e-01, 1.01499003e-03, 1.23407999e-02, ...,\n",
       "        4.35800711e-03, 4.42392629e-04, 3.55296070e-03],\n",
       "       [5.97578380e-03, 1.80189591e-02, 1.02115022e-02, ...,\n",
       "        3.26138645e-01, 1.91606060e-02, 3.29596177e-02]], dtype=float32)"
      ]
     },
     "execution_count": 31,
     "metadata": {},
     "output_type": "execute_result"
    }
   ],
   "source": [
    "predicted_probab =model.predict_proba(x_test)\n",
    "predicted_probab"
   ]
  },
  {
   "cell_type": "code",
   "execution_count": 32,
   "metadata": {
    "execution": {
     "iopub.execute_input": "2021-07-10T09:28:31.849559Z",
     "iopub.status.busy": "2021-07-10T09:28:31.849204Z",
     "iopub.status.idle": "2021-07-10T09:28:31.872800Z",
     "shell.execute_reply": "2021-07-10T09:28:31.872048Z",
     "shell.execute_reply.started": "2021-07-10T09:28:31.849524Z"
    }
   },
   "outputs": [
    {
     "name": "stdout",
     "output_type": "stream",
     "text": [
      "ROC- AUC score is 91.5819868633563\n"
     ]
    }
   ],
   "source": [
    "print(\"ROC- AUC score is\", roc_auc_score( test.Labels, predicted_probab, multi_class='ovr')*100)"
   ]
  }
 ],
 "metadata": {
  "kernelspec": {
   "display_name": "Python 3",
   "language": "python",
   "name": "python3"
  },
  "language_info": {
   "codemirror_mode": {
    "name": "ipython",
    "version": 3
   },
   "file_extension": ".py",
   "mimetype": "text/x-python",
   "name": "python",
   "nbconvert_exporter": "python",
   "pygments_lexer": "ipython3",
   "version": "3.8.5"
  }
 },
 "nbformat": 4,
 "nbformat_minor": 4
}
