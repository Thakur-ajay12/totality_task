{
 "cells": [
  {
   "cell_type": "markdown",
   "metadata": {},
   "source": [
    "## 1. importing Modules\n"
   ]
  },
  {
   "cell_type": "code",
   "execution_count": 1,
   "metadata": {
    "execution": {
     "iopub.execute_input": "2021-07-10T08:40:38.121475Z",
     "iopub.status.busy": "2021-07-10T08:40:38.121090Z",
     "iopub.status.idle": "2021-07-10T08:40:43.835781Z",
     "shell.execute_reply": "2021-07-10T08:40:43.834936Z",
     "shell.execute_reply.started": "2021-07-10T08:40:38.121397Z"
    }
   },
   "outputs": [],
   "source": [
    "import numpy as np # linear algebra\n",
    "import pandas as pd # data processing, CSV file I/O (e.g. pd.read_csv)\n",
    "import os\n",
    "from pathlib import Path\n",
    "import cv2\n",
    "import matplotlib.pyplot as plt\n",
    "from sklearn.model_selection import train_test_split \n",
    "from tensorflow.keras.preprocessing.image import ImageDataGenerator\n",
    "from sklearn.metrics import confusion_matrix, classification_report\n",
    "from keras.optimizers import Adam, SGD, RMSprop\n",
    "import tensorflow as tf\n",
    "from sklearn.metrics import confusion_matrix\n",
    "from sklearn.metrics import roc_auc_score\n",
    "import matplotlib.pyplot as plt\n",
    "import cv2 as cv\n",
    "import numpy as np\n",
    "from scipy import ndimage, misc\n",
    "from scipy.misc import imshow\n",
    "import skimage\n",
    "from keras.applications.inception_v3 import InceptionV3, preprocess_input\n"
   ]
  },
  {
   "cell_type": "code",
   "execution_count": 1,
   "metadata": {},
   "outputs": [],
   "source": [
    "## get files in list"
   ]
  },
  {
   "cell_type": "code",
   "execution_count": 2,
   "metadata": {
    "execution": {
     "iopub.execute_input": "2021-07-10T08:40:43.837468Z",
     "iopub.status.busy": "2021-07-10T08:40:43.837165Z",
     "iopub.status.idle": "2021-07-10T08:43:53.369782Z",
     "shell.execute_reply": "2021-07-10T08:43:53.368812Z",
     "shell.execute_reply.started": "2021-07-10T08:40:43.837434Z"
    }
   },
   "outputs": [],
   "source": [
    "filelist  = []\n",
    "\n",
    "for dirname, _, filenames in os.walk('input'):\n",
    "    for filename in filenames:\n",
    "        filelist.append (os.path.join(dirname, filename))\n",
    "        \n"
   ]
  },
  {
   "cell_type": "code",
   "execution_count": 3,
   "metadata": {
    "execution": {
     "iopub.execute_input": "2021-07-10T08:43:53.372422Z",
     "iopub.status.busy": "2021-07-10T08:43:53.371874Z",
     "iopub.status.idle": "2021-07-10T08:43:53.382191Z",
     "shell.execute_reply": "2021-07-10T08:43:53.381080Z",
     "shell.execute_reply.started": "2021-07-10T08:43:53.372357Z"
    }
   },
   "outputs": [
    {
     "data": {
      "text/plain": [
       "126608"
      ]
     },
     "execution_count": 3,
     "metadata": {},
     "output_type": "execute_result"
    }
   ],
   "source": [
    "len(filelist)"
   ]
  },
  {
   "cell_type": "markdown",
   "metadata": {},
   "source": [
    "### Taking only those 10 labels given in the assignment."
   ]
  },
  {
   "cell_type": "code",
   "execution_count": 5,
   "metadata": {
    "execution": {
     "iopub.execute_input": "2021-07-10T08:43:53.417501Z",
     "iopub.status.busy": "2021-07-10T08:43:53.417106Z",
     "iopub.status.idle": "2021-07-10T08:43:53.425614Z",
     "shell.execute_reply": "2021-07-10T08:43:53.424349Z",
     "shell.execute_reply.started": "2021-07-10T08:43:53.417377Z"
    }
   },
   "outputs": [],
   "source": [
    "labels_needed = ['Bombay', 'Calico', 'Burmese', 'Himalayan',\n",
    "'Munchkin', 'Ragdoll', 'Siberian', 'British Shorthair', 'Russian Blue', \n",
    "                 'Dilute Calico']"
   ]
  },
  {
   "cell_type": "code",
   "execution_count": 6,
   "metadata": {
    "execution": {
     "iopub.execute_input": "2021-07-10T08:43:53.427348Z",
     "iopub.status.busy": "2021-07-10T08:43:53.426806Z",
     "iopub.status.idle": "2021-07-10T08:43:53.526034Z",
     "shell.execute_reply": "2021-07-10T08:43:53.525225Z",
     "shell.execute_reply.started": "2021-07-10T08:43:53.427310Z"
    }
   },
   "outputs": [],
   "source": [
    "Filepaths   = []\n",
    "labels = []\n",
    "\n",
    "for image_file in filelist:\n",
    "    label = image_file.split(os.path.sep)[-2]\n",
    "    if label in labels_needed:\n",
    "\n",
    "        Filepaths.append(image_file)\n",
    "        labels.append(label)\n",
    "    \n"
   ]
  },
  {
   "cell_type": "code",
   "execution_count": 7,
   "metadata": {
    "execution": {
     "iopub.execute_input": "2021-07-10T08:43:53.527547Z",
     "iopub.status.busy": "2021-07-10T08:43:53.527170Z",
     "iopub.status.idle": "2021-07-10T08:43:53.534604Z",
     "shell.execute_reply": "2021-07-10T08:43:53.533772Z",
     "shell.execute_reply.started": "2021-07-10T08:43:53.527505Z"
    }
   },
   "outputs": [
    {
     "data": {
      "text/plain": [
       "{'Bombay',\n",
       " 'British Shorthair',\n",
       " 'Burmese',\n",
       " 'Calico',\n",
       " 'Dilute Calico',\n",
       " 'Himalayan',\n",
       " 'Munchkin',\n",
       " 'Ragdoll',\n",
       " 'Russian Blue',\n",
       " 'Siberian'}"
      ]
     },
     "execution_count": 7,
     "metadata": {},
     "output_type": "execute_result"
    }
   ],
   "source": [
    "set(labels)"
   ]
  },
  {
   "cell_type": "code",
   "execution_count": 8,
   "metadata": {
    "execution": {
     "iopub.execute_input": "2021-07-10T08:43:53.538259Z",
     "iopub.status.busy": "2021-07-10T08:43:53.537589Z",
     "iopub.status.idle": "2021-07-10T08:43:53.545591Z",
     "shell.execute_reply": "2021-07-10T08:43:53.544838Z",
     "shell.execute_reply.started": "2021-07-10T08:43:53.538223Z"
    }
   },
   "outputs": [
    {
     "data": {
      "text/plain": [
       "(15654, 15654)"
      ]
     },
     "execution_count": 8,
     "metadata": {},
     "output_type": "execute_result"
    }
   ],
   "source": [
    "len(Filepaths), len(labels)"
   ]
  },
  {
   "cell_type": "markdown",
   "metadata": {},
   "source": [
    "### Creating a dataframe with file paths and the labels for them"
   ]
  },
  {
   "cell_type": "code",
   "execution_count": 9,
   "metadata": {
    "execution": {
     "iopub.execute_input": "2021-07-10T08:43:53.547991Z",
     "iopub.status.busy": "2021-07-10T08:43:53.547627Z",
     "iopub.status.idle": "2021-07-10T08:43:53.584954Z",
     "shell.execute_reply": "2021-07-10T08:43:53.584045Z",
     "shell.execute_reply.started": "2021-07-10T08:43:53.547957Z"
    }
   },
   "outputs": [
    {
     "data": {
      "text/html": [
       "<div>\n",
       "<style scoped>\n",
       "    .dataframe tbody tr th:only-of-type {\n",
       "        vertical-align: middle;\n",
       "    }\n",
       "\n",
       "    .dataframe tbody tr th {\n",
       "        vertical-align: top;\n",
       "    }\n",
       "\n",
       "    .dataframe thead th {\n",
       "        text-align: right;\n",
       "    }\n",
       "</style>\n",
       "<table border=\"1\" class=\"dataframe\">\n",
       "  <thead>\n",
       "    <tr style=\"text-align: right;\">\n",
       "      <th></th>\n",
       "      <th>Filepath</th>\n",
       "      <th>Labels</th>\n",
       "    </tr>\n",
       "  </thead>\n",
       "  <tbody>\n",
       "    <tr>\n",
       "      <th>0</th>\n",
       "      <td>/kaggle/input/cat-breeds-dataset/images/Siberi...</td>\n",
       "      <td>Siberian</td>\n",
       "    </tr>\n",
       "    <tr>\n",
       "      <th>1</th>\n",
       "      <td>/kaggle/input/cat-breeds-dataset/images/Siberi...</td>\n",
       "      <td>Siberian</td>\n",
       "    </tr>\n",
       "    <tr>\n",
       "      <th>2</th>\n",
       "      <td>/kaggle/input/cat-breeds-dataset/images/Siberi...</td>\n",
       "      <td>Siberian</td>\n",
       "    </tr>\n",
       "    <tr>\n",
       "      <th>3</th>\n",
       "      <td>/kaggle/input/cat-breeds-dataset/images/Siberi...</td>\n",
       "      <td>Siberian</td>\n",
       "    </tr>\n",
       "    <tr>\n",
       "      <th>4</th>\n",
       "      <td>/kaggle/input/cat-breeds-dataset/images/Siberi...</td>\n",
       "      <td>Siberian</td>\n",
       "    </tr>\n",
       "    <tr>\n",
       "      <th>...</th>\n",
       "      <td>...</td>\n",
       "      <td>...</td>\n",
       "    </tr>\n",
       "    <tr>\n",
       "      <th>15649</th>\n",
       "      <td>/kaggle/input/cat-breeds-dataset/images/Bombay...</td>\n",
       "      <td>Bombay</td>\n",
       "    </tr>\n",
       "    <tr>\n",
       "      <th>15650</th>\n",
       "      <td>/kaggle/input/cat-breeds-dataset/images/Bombay...</td>\n",
       "      <td>Bombay</td>\n",
       "    </tr>\n",
       "    <tr>\n",
       "      <th>15651</th>\n",
       "      <td>/kaggle/input/cat-breeds-dataset/images/Bombay...</td>\n",
       "      <td>Bombay</td>\n",
       "    </tr>\n",
       "    <tr>\n",
       "      <th>15652</th>\n",
       "      <td>/kaggle/input/cat-breeds-dataset/images/Bombay...</td>\n",
       "      <td>Bombay</td>\n",
       "    </tr>\n",
       "    <tr>\n",
       "      <th>15653</th>\n",
       "      <td>/kaggle/input/cat-breeds-dataset/images/Bombay...</td>\n",
       "      <td>Bombay</td>\n",
       "    </tr>\n",
       "  </tbody>\n",
       "</table>\n",
       "<p>15654 rows × 2 columns</p>\n",
       "</div>"
      ],
      "text/plain": [
       "                                                Filepath    Labels\n",
       "0      /kaggle/input/cat-breeds-dataset/images/Siberi...  Siberian\n",
       "1      /kaggle/input/cat-breeds-dataset/images/Siberi...  Siberian\n",
       "2      /kaggle/input/cat-breeds-dataset/images/Siberi...  Siberian\n",
       "3      /kaggle/input/cat-breeds-dataset/images/Siberi...  Siberian\n",
       "4      /kaggle/input/cat-breeds-dataset/images/Siberi...  Siberian\n",
       "...                                                  ...       ...\n",
       "15649  /kaggle/input/cat-breeds-dataset/images/Bombay...    Bombay\n",
       "15650  /kaggle/input/cat-breeds-dataset/images/Bombay...    Bombay\n",
       "15651  /kaggle/input/cat-breeds-dataset/images/Bombay...    Bombay\n",
       "15652  /kaggle/input/cat-breeds-dataset/images/Bombay...    Bombay\n",
       "15653  /kaggle/input/cat-breeds-dataset/images/Bombay...    Bombay\n",
       "\n",
       "[15654 rows x 2 columns]"
      ]
     },
     "execution_count": 9,
     "metadata": {},
     "output_type": "execute_result"
    }
   ],
   "source": [
    "df = pd.DataFrame( list( zip (Filepaths, labels) ), columns = ['Filepath', 'Labels'] )\n",
    "df"
   ]
  },
  {
   "cell_type": "code",
   "execution_count": 10,
   "metadata": {
    "execution": {
     "iopub.execute_input": "2021-07-10T08:43:53.586613Z",
     "iopub.status.busy": "2021-07-10T08:43:53.586284Z",
     "iopub.status.idle": "2021-07-10T08:43:53.602446Z",
     "shell.execute_reply": "2021-07-10T08:43:53.601629Z",
     "shell.execute_reply.started": "2021-07-10T08:43:53.586580Z"
    }
   },
   "outputs": [
    {
     "data": {
      "text/html": [
       "<div>\n",
       "<style scoped>\n",
       "    .dataframe tbody tr th:only-of-type {\n",
       "        vertical-align: middle;\n",
       "    }\n",
       "\n",
       "    .dataframe tbody tr th {\n",
       "        vertical-align: top;\n",
       "    }\n",
       "\n",
       "    .dataframe thead th {\n",
       "        text-align: right;\n",
       "    }\n",
       "</style>\n",
       "<table border=\"1\" class=\"dataframe\">\n",
       "  <thead>\n",
       "    <tr style=\"text-align: right;\">\n",
       "      <th></th>\n",
       "      <th>Filepath</th>\n",
       "      <th>Labels</th>\n",
       "    </tr>\n",
       "  </thead>\n",
       "  <tbody>\n",
       "    <tr>\n",
       "      <th>0</th>\n",
       "      <td>/kaggle/input/cat-breeds-dataset/images/Russia...</td>\n",
       "      <td>Russian Blue</td>\n",
       "    </tr>\n",
       "    <tr>\n",
       "      <th>1</th>\n",
       "      <td>/kaggle/input/cat-breeds-dataset/images/Calico...</td>\n",
       "      <td>Calico</td>\n",
       "    </tr>\n",
       "    <tr>\n",
       "      <th>2</th>\n",
       "      <td>/kaggle/input/cat-breeds-dataset/images/Britis...</td>\n",
       "      <td>British Shorthair</td>\n",
       "    </tr>\n",
       "    <tr>\n",
       "      <th>3</th>\n",
       "      <td>/kaggle/input/cat-breeds-dataset/images/Himala...</td>\n",
       "      <td>Himalayan</td>\n",
       "    </tr>\n",
       "    <tr>\n",
       "      <th>4</th>\n",
       "      <td>/kaggle/input/cat-breeds-dataset/images/Calico...</td>\n",
       "      <td>Calico</td>\n",
       "    </tr>\n",
       "    <tr>\n",
       "      <th>...</th>\n",
       "      <td>...</td>\n",
       "      <td>...</td>\n",
       "    </tr>\n",
       "    <tr>\n",
       "      <th>15649</th>\n",
       "      <td>/kaggle/input/cat-breeds-dataset/images/Himala...</td>\n",
       "      <td>Himalayan</td>\n",
       "    </tr>\n",
       "    <tr>\n",
       "      <th>15650</th>\n",
       "      <td>/kaggle/input/cat-breeds-dataset/images/Britis...</td>\n",
       "      <td>British Shorthair</td>\n",
       "    </tr>\n",
       "    <tr>\n",
       "      <th>15651</th>\n",
       "      <td>/kaggle/input/cat-breeds-dataset/images/Calico...</td>\n",
       "      <td>Calico</td>\n",
       "    </tr>\n",
       "    <tr>\n",
       "      <th>15652</th>\n",
       "      <td>/kaggle/input/cat-breeds-dataset/images/Calico...</td>\n",
       "      <td>Calico</td>\n",
       "    </tr>\n",
       "    <tr>\n",
       "      <th>15653</th>\n",
       "      <td>/kaggle/input/cat-breeds-dataset/images/Burmes...</td>\n",
       "      <td>Burmese</td>\n",
       "    </tr>\n",
       "  </tbody>\n",
       "</table>\n",
       "<p>15654 rows × 2 columns</p>\n",
       "</div>"
      ],
      "text/plain": [
       "                                                Filepath             Labels\n",
       "0      /kaggle/input/cat-breeds-dataset/images/Russia...       Russian Blue\n",
       "1      /kaggle/input/cat-breeds-dataset/images/Calico...             Calico\n",
       "2      /kaggle/input/cat-breeds-dataset/images/Britis...  British Shorthair\n",
       "3      /kaggle/input/cat-breeds-dataset/images/Himala...          Himalayan\n",
       "4      /kaggle/input/cat-breeds-dataset/images/Calico...             Calico\n",
       "...                                                  ...                ...\n",
       "15649  /kaggle/input/cat-breeds-dataset/images/Himala...          Himalayan\n",
       "15650  /kaggle/input/cat-breeds-dataset/images/Britis...  British Shorthair\n",
       "15651  /kaggle/input/cat-breeds-dataset/images/Calico...             Calico\n",
       "15652  /kaggle/input/cat-breeds-dataset/images/Calico...             Calico\n",
       "15653  /kaggle/input/cat-breeds-dataset/images/Burmes...            Burmese\n",
       "\n",
       "[15654 rows x 2 columns]"
      ]
     },
     "execution_count": 10,
     "metadata": {},
     "output_type": "execute_result"
    }
   ],
   "source": [
    "# shuffle the dataframe\n",
    "\n",
    "from sklearn.utils import shuffle\n",
    "df = (df.sample(frac = 1).reset_index()).drop(columns = 'index')\n",
    "df\n"
   ]
  },
  {
   "cell_type": "markdown",
   "metadata": {},
   "source": [
    "### Checking for class imbalance"
   ]
  },
  {
   "cell_type": "code",
   "execution_count": 13,
   "metadata": {
    "execution": {
     "iopub.execute_input": "2021-07-10T08:43:54.962148Z",
     "iopub.status.busy": "2021-07-10T08:43:54.961799Z",
     "iopub.status.idle": "2021-07-10T08:43:54.974370Z",
     "shell.execute_reply": "2021-07-10T08:43:54.973401Z",
     "shell.execute_reply.started": "2021-07-10T08:43:54.962108Z"
    }
   },
   "outputs": [
    {
     "data": {
      "text/plain": [
       "Calico               3468\n",
       "Dilute Calico        3230\n",
       "Ragdoll              2669\n",
       "Russian Blue         1870\n",
       "Bombay               1835\n",
       "Himalayan            1301\n",
       "British Shorthair     567\n",
       "Burmese               344\n",
       "Siberian              189\n",
       "Munchkin              181\n",
       "Name: Labels, dtype: int64"
      ]
     },
     "execution_count": 13,
     "metadata": {},
     "output_type": "execute_result"
    }
   ],
   "source": [
    "# distribution of classes\n",
    "df.Labels.value_counts()"
   ]
  },
  {
   "cell_type": "markdown",
   "metadata": {},
   "source": [
    "* Class imbalance present."
   ]
  },
  {
   "cell_type": "markdown",
   "metadata": {},
   "source": [
    "### Splitting the data And Creating data generator"
   ]
  },
  {
   "cell_type": "code",
   "execution_count": 14,
   "metadata": {
    "execution": {
     "iopub.execute_input": "2021-07-10T08:43:54.976164Z",
     "iopub.status.busy": "2021-07-10T08:43:54.975809Z",
     "iopub.status.idle": "2021-07-10T08:43:54.989268Z",
     "shell.execute_reply": "2021-07-10T08:43:54.988536Z",
     "shell.execute_reply.started": "2021-07-10T08:43:54.976130Z"
    }
   },
   "outputs": [],
   "source": [
    "## train test split\n",
    "\n",
    "train_ratio = .75\n",
    "validation_ratio = 0.10\n",
    "test_ratio = 0.25\n",
    "\n",
    "train, test = train_test_split(df, test_size = test_ratio )\n",
    "val, test = train_test_split(test, test_size=test_ratio/(test_ratio + validation_ratio))"
   ]
  },
  {
   "cell_type": "code",
   "execution_count": 18,
   "metadata": {
    "execution": {
     "iopub.execute_input": "2021-07-10T08:54:14.692437Z",
     "iopub.status.busy": "2021-07-10T08:54:14.692115Z",
     "iopub.status.idle": "2021-07-10T08:54:24.489046Z",
     "shell.execute_reply": "2021-07-10T08:54:24.488124Z",
     "shell.execute_reply.started": "2021-07-10T08:54:14.692406Z"
    }
   },
   "outputs": [
    {
     "name": "stdout",
     "output_type": "stream",
     "text": [
      "Found 11740 validated image filenames belonging to 10 classes.\n",
      "Found 1118 validated image filenames belonging to 10 classes.\n",
      "Found 2796 validated image filenames belonging to 10 classes.\n"
     ]
    }
   ],
   "source": [
    "## we cannot feed pandas datframe to model we need to attach lable and image \n",
    "\n",
    "img_datagen = ImageDataGenerator(rescale=1./255, \n",
    "                                   rotation_range=30, \n",
    "                                   width_shift_range=0.2,\n",
    "                                   height_shift_range=0.2, \n",
    "                                   horizontal_flip = 'true')\n",
    "   \n",
    "\n",
    "x_train =  img_datagen.flow_from_dataframe(dataframe = train,  x_col='Filepath', y_col='Labels',  target_size=(299, 299), shuffle=False, batch_size=10, seed=10)\n",
    "x_val = img_datagen.flow_from_dataframe(dataframe = val,  x_col='Filepath', y_col='Labels',  target_size=(299, 299), shuffle=False, batch_size=10, seed=10)\n",
    "x_test = img_datagen.flow_from_dataframe(dataframe = test,  x_col='Filepath', y_col='Labels',  target_size=(299, 299), shuffle=False, batch_size=10, seed=10)"
   ]
  },
  {
   "cell_type": "code",
   "execution_count": 19,
   "metadata": {
    "execution": {
     "iopub.execute_input": "2021-07-10T08:54:35.582620Z",
     "iopub.status.busy": "2021-07-10T08:54:35.582252Z",
     "iopub.status.idle": "2021-07-10T08:54:35.588762Z",
     "shell.execute_reply": "2021-07-10T08:54:35.587700Z",
     "shell.execute_reply.started": "2021-07-10T08:54:35.582585Z"
    }
   },
   "outputs": [
    {
     "data": {
      "text/plain": [
       "<tensorflow.python.keras.preprocessing.image.DataFrameIterator at 0x7f68964bd3d0>"
      ]
     },
     "execution_count": 19,
     "metadata": {},
     "output_type": "execute_result"
    }
   ],
   "source": [
    "x_train"
   ]
  },
  {
   "cell_type": "markdown",
   "metadata": {},
   "source": [
    "### Modelling"
   ]
  },
  {
   "cell_type": "code",
   "execution_count": 20,
   "metadata": {
    "execution": {
     "iopub.execute_input": "2021-07-10T08:54:37.185894Z",
     "iopub.status.busy": "2021-07-10T08:54:37.185554Z",
     "iopub.status.idle": "2021-07-10T08:54:41.614226Z",
     "shell.execute_reply": "2021-07-10T08:54:41.613338Z",
     "shell.execute_reply.started": "2021-07-10T08:54:37.185863Z"
    }
   },
   "outputs": [
    {
     "name": "stdout",
     "output_type": "stream",
     "text": [
      "Downloading data from https://storage.googleapis.com/tensorflow/keras-applications/inception_v3/inception_v3_weights_tf_dim_ordering_tf_kernels_notop.h5\n",
      "87916544/87910968 [==============================] - 0s 0us/step\n"
     ]
    }
   ],
   "source": [
    "\n",
    "i_model = InceptionV3(weights= 'imagenet', include_top=False, input_shape=(299, 299, 3))"
   ]
  },
  {
   "cell_type": "code",
   "execution_count": null,
   "metadata": {
    "execution": {
     "iopub.status.busy": "2021-07-10T08:43:55.325340Z",
     "iopub.status.idle": "2021-07-10T08:43:55.326060Z"
    }
   },
   "outputs": [],
   "source": [
    "for layer in i_model.layers:\n",
    "    layer.trainable = False\n",
    "    \n",
    "i_model.summary() "
   ]
  },
  {
   "cell_type": "code",
   "execution_count": 21,
   "metadata": {
    "execution": {
     "iopub.execute_input": "2021-07-10T08:54:46.704646Z",
     "iopub.status.busy": "2021-07-10T08:54:46.704280Z",
     "iopub.status.idle": "2021-07-10T08:54:47.250452Z",
     "shell.execute_reply": "2021-07-10T08:54:47.249711Z",
     "shell.execute_reply.started": "2021-07-10T08:54:46.704612Z"
    }
   },
   "outputs": [
    {
     "name": "stdout",
     "output_type": "stream",
     "text": [
      "Model: \"sequential\"\n",
      "_________________________________________________________________\n",
      "Layer (type)                 Output Shape              Param #   \n",
      "=================================================================\n",
      "inception_v3 (Functional)    (None, 8, 8, 2048)        21802784  \n",
      "_________________________________________________________________\n",
      "global_average_pooling2d (Gl (None, 2048)              0         \n",
      "_________________________________________________________________\n",
      "dense (Dense)                (None, 128)               262272    \n",
      "_________________________________________________________________\n",
      "dropout (Dropout)            (None, 128)               0         \n",
      "_________________________________________________________________\n",
      "dense_1 (Dense)              (None, 10)                1290      \n",
      "=================================================================\n",
      "Total params: 22,066,346\n",
      "Trainable params: 22,031,914\n",
      "Non-trainable params: 34,432\n",
      "_________________________________________________________________\n"
     ]
    }
   ],
   "source": [
    "from keras.models import Sequential\n",
    "from keras.layers.pooling import GlobalAveragePooling2D\n",
    "from tensorflow.keras.layers import Dense, Dropout\n",
    "\n",
    "\n",
    "model = Sequential()\n",
    "model.add(i_model)\n",
    "model.add(GlobalAveragePooling2D())\n",
    "model.add(Dense(128))\n",
    "model.add(Dropout(0.2))\n",
    "model.add(Dense(10, activation = 'softmax'))\n",
    "model.summary()"
   ]
  },
  {
   "cell_type": "markdown",
   "metadata": {},
   "source": []
  },
  {
   "cell_type": "code",
   "execution_count": 22,
   "metadata": {
    "execution": {
     "iopub.execute_input": "2021-07-10T08:54:53.048387Z",
     "iopub.status.busy": "2021-07-10T08:54:53.048057Z",
     "iopub.status.idle": "2021-07-10T08:54:53.069254Z",
     "shell.execute_reply": "2021-07-10T08:54:53.068343Z",
     "shell.execute_reply.started": "2021-07-10T08:54:53.048354Z"
    }
   },
   "outputs": [],
   "source": [
    "model.compile(optimizer = SGD(),\n",
    "             loss=\"categorical_crossentropy\",\n",
    "             metrics=[\"accuracy\"])"
   ]
  },
  {
   "cell_type": "code",
   "execution_count": 23,
   "metadata": {
    "execution": {
     "iopub.execute_input": "2021-07-10T08:54:54.530607Z",
     "iopub.status.busy": "2021-07-10T08:54:54.530284Z",
     "iopub.status.idle": "2021-07-10T09:00:05.186190Z",
     "shell.execute_reply": "2021-07-10T09:00:05.185285Z",
     "shell.execute_reply.started": "2021-07-10T08:54:54.530576Z"
    }
   },
   "outputs": [
    {
     "name": "stdout",
     "output_type": "stream",
     "text": [
      "Epoch 1/5\n",
      "175/175 - 81s - loss: 1.3681 - accuracy: 0.5109 - val_loss: 1.0753 - val_accuracy: 0.6273\n",
      "Epoch 2/5\n",
      "175/175 - 60s - loss: 1.1543 - accuracy: 0.6029 - val_loss: 1.1078 - val_accuracy: 0.6023\n",
      "Epoch 3/5\n",
      "175/175 - 58s - loss: 1.0415 - accuracy: 0.6577 - val_loss: 1.0980 - val_accuracy: 0.6182\n",
      "Epoch 4/5\n",
      "175/175 - 57s - loss: 0.9309 - accuracy: 0.6794 - val_loss: 1.1922 - val_accuracy: 0.6205\n",
      "Epoch 5/5\n",
      "175/175 - 55s - loss: 0.9582 - accuracy: 0.6789 - val_loss: 0.9005 - val_accuracy: 0.7318\n"
     ]
    }
   ],
   "source": [
    "history = model.fit(x_train, validation_data = x_val,steps_per_epoch = 175,validation_steps = 44,\n",
    "                epochs = 5, verbose = 2)"
   ]
  },
  {
   "cell_type": "markdown",
   "metadata": {},
   "source": [
    "### Predicting on test data"
   ]
  },
  {
   "cell_type": "code",
   "execution_count": 24,
   "metadata": {
    "execution": {
     "iopub.execute_input": "2021-07-10T09:00:05.188524Z",
     "iopub.status.busy": "2021-07-10T09:00:05.188144Z",
     "iopub.status.idle": "2021-07-10T09:01:21.428382Z",
     "shell.execute_reply": "2021-07-10T09:01:21.427529Z",
     "shell.execute_reply.started": "2021-07-10T09:00:05.188484Z"
    }
   },
   "outputs": [
    {
     "data": {
      "text/plain": [
       "array([7, 3, 7, ..., 3, 0, 7])"
      ]
     },
     "execution_count": 24,
     "metadata": {},
     "output_type": "execute_result"
    }
   ],
   "source": [
    "predictions = model.predict(x_test)\n",
    "predictions = np.argmax(predictions, axis=1)\n",
    "predictions"
   ]
  },
  {
   "cell_type": "code",
   "execution_count": 25,
   "metadata": {
    "execution": {
     "iopub.execute_input": "2021-07-10T09:01:21.430761Z",
     "iopub.status.busy": "2021-07-10T09:01:21.430159Z",
     "iopub.status.idle": "2021-07-10T09:01:21.437071Z",
     "shell.execute_reply": "2021-07-10T09:01:21.436296Z",
     "shell.execute_reply.started": "2021-07-10T09:01:21.430721Z"
    }
   },
   "outputs": [
    {
     "data": {
      "text/plain": [
       "{'Bombay': 0,\n",
       " 'British Shorthair': 1,\n",
       " 'Burmese': 2,\n",
       " 'Calico': 3,\n",
       " 'Dilute Calico': 4,\n",
       " 'Himalayan': 5,\n",
       " 'Munchkin': 6,\n",
       " 'Ragdoll': 7,\n",
       " 'Russian Blue': 8,\n",
       " 'Siberian': 9}"
      ]
     },
     "execution_count": 25,
     "metadata": {},
     "output_type": "execute_result"
    }
   ],
   "source": [
    "labels = x_train.class_indices\n",
    "labels"
   ]
  },
  {
   "cell_type": "code",
   "execution_count": 26,
   "metadata": {
    "execution": {
     "iopub.execute_input": "2021-07-10T09:26:36.329858Z",
     "iopub.status.busy": "2021-07-10T09:26:36.329499Z",
     "iopub.status.idle": "2021-07-10T09:26:36.343600Z",
     "shell.execute_reply": "2021-07-10T09:26:36.342663Z",
     "shell.execute_reply.started": "2021-07-10T09:26:36.329824Z"
    }
   },
   "outputs": [],
   "source": [
    "test[\"Labels\"].replace({\"Bombay\": 0,'British Shorthair': 1,\n",
    " 'Burmese': 2,\n",
    " 'Calico': 3,\n",
    " 'Dilute Calico': 4,\n",
    " 'Himalayan': 5,\n",
    " 'Munchkin': 6,\n",
    " 'Ragdoll': 7,\n",
    " 'Russian Blue': 8,\n",
    " 'Siberian': 9}, inplace = True)\n"
   ]
  },
  {
   "cell_type": "markdown",
   "metadata": {},
   "source": [
    "# Evaluating the test data"
   ]
  },
  {
   "cell_type": "markdown",
   "metadata": {},
   "source": [
    "## Test Accuracy"
   ]
  },
  {
   "cell_type": "code",
   "execution_count": 27,
   "metadata": {
    "execution": {
     "iopub.execute_input": "2021-07-10T09:26:39.864773Z",
     "iopub.status.busy": "2021-07-10T09:26:39.864421Z",
     "iopub.status.idle": "2021-07-10T09:27:37.330361Z",
     "shell.execute_reply": "2021-07-10T09:27:37.329555Z",
     "shell.execute_reply.started": "2021-07-10T09:26:39.864741Z"
    }
   },
   "outputs": [
    {
     "name": "stdout",
     "output_type": "stream",
     "text": [
      "280/280 [==============================] - 57s 204ms/step - loss: 0.8884 - accuracy: 0.7057\n",
      "Test accuracy is :  70.56509256362915 %\n"
     ]
    }
   ],
   "source": [
    "test_accuracy = model.evaluate(x_test)[1] * 100\n",
    "print('Test accuracy is : ',test_accuracy, '%' )"
   ]
  },
  {
   "cell_type": "markdown",
   "metadata": {},
   "source": [
    "## Confusion Matrix"
   ]
  },
  {
   "cell_type": "code",
   "execution_count": 29,
   "metadata": {
    "execution": {
     "iopub.execute_input": "2021-07-10T09:27:37.347449Z",
     "iopub.status.busy": "2021-07-10T09:27:37.346934Z",
     "iopub.status.idle": "2021-07-10T09:27:37.358274Z",
     "shell.execute_reply": "2021-07-10T09:27:37.357350Z",
     "shell.execute_reply.started": "2021-07-10T09:27:37.347404Z"
    }
   },
   "outputs": [
    {
     "data": {
      "text/plain": [
       "array([[295,   0,   1,   3,   0,   0,   0,   0,   2,   0],\n",
       "       [ 10,   8,   0,  13,  22,   3,   0,  20,  34,   0],\n",
       "       [ 14,   1,   7,   2,   5,   9,   0,  15,   1,   1],\n",
       "       [ 16,   0,   0, 449, 108,   3,   0,  23,   7,   0],\n",
       "       [ 10,   1,   0, 105, 439,   4,   0,  46,  36,   0],\n",
       "       [  1,   0,   0,   1,   1, 157,   0,  62,   0,   1],\n",
       "       [  6,   0,   0,   4,  11,   3,   0,   9,   5,   0],\n",
       "       [ 10,   2,   1,  11,  15, 106,   0, 328,   4,   6],\n",
       "       [ 14,   0,   0,   0,   7,   1,   0,   4, 273,   0],\n",
       "       [  1,   0,   0,   5,   5,   8,   0,  18,   1,   2]])"
      ]
     },
     "execution_count": 29,
     "metadata": {},
     "output_type": "execute_result"
    }
   ],
   "source": [
    "confusion_matrix(test.Labels , predictions)\n"
   ]
  },
  {
   "cell_type": "markdown",
   "metadata": {},
   "source": [
    "## F1 Score"
   ]
  },
  {
   "cell_type": "code",
   "execution_count": 30,
   "metadata": {
    "execution": {
     "iopub.execute_input": "2021-07-10T09:27:37.360967Z",
     "iopub.status.busy": "2021-07-10T09:27:37.360436Z",
     "iopub.status.idle": "2021-07-10T09:27:37.370059Z",
     "shell.execute_reply": "2021-07-10T09:27:37.369285Z",
     "shell.execute_reply.started": "2021-07-10T09:27:37.360930Z"
    }
   },
   "outputs": [
    {
     "name": "stdout",
     "output_type": "stream",
     "text": [
      "F1 score is 67.61944724357448 %\n"
     ]
    }
   ],
   "source": [
    "from sklearn.metrics import accuracy_score, f1_score\n",
    "print('F1 score is',f1_score(test.Labels, predictions, average = 'weighted') *100, \"%\")\n"
   ]
  },
  {
   "cell_type": "markdown",
   "metadata": {},
   "source": [
    "## ROC - AUC Score"
   ]
  },
  {
   "cell_type": "code",
   "execution_count": 31,
   "metadata": {
    "execution": {
     "iopub.execute_input": "2021-07-10T09:27:37.372123Z",
     "iopub.status.busy": "2021-07-10T09:27:37.371876Z",
     "iopub.status.idle": "2021-07-10T09:28:31.847804Z",
     "shell.execute_reply": "2021-07-10T09:28:31.846968Z",
     "shell.execute_reply.started": "2021-07-10T09:27:37.372101Z"
    }
   },
   "outputs": [
    {
     "name": "stderr",
     "output_type": "stream",
     "text": [
      "/opt/conda/lib/python3.7/site-packages/tensorflow/python/keras/engine/sequential.py:425: UserWarning: `model.predict_proba()` is deprecated and will be removed after 2021-01-01. Please use `model.predict()` instead.\n",
      "  warnings.warn('`model.predict_proba()` is deprecated and '\n"
     ]
    },
    {
     "data": {
      "text/plain": [
       "array([[2.24471581e-03, 6.48340909e-04, 4.48354613e-03, ...,\n",
       "        7.10429192e-01, 5.26006916e-04, 6.06052484e-03],\n",
       "       [3.05354744e-02, 2.47017201e-03, 1.46455273e-01, ...,\n",
       "        1.35622606e-01, 1.13308374e-02, 1.10609671e-02],\n",
       "       [1.19472835e-02, 2.87969057e-02, 6.72524516e-03, ...,\n",
       "        5.09899020e-01, 9.83562786e-03, 9.32915285e-02],\n",
       "       ...,\n",
       "       [4.22054529e-03, 1.82272587e-02, 1.14802225e-02, ...,\n",
       "        5.80486981e-03, 4.13288586e-02, 1.63245462e-02],\n",
       "       [9.69571233e-01, 1.01499003e-03, 1.23407999e-02, ...,\n",
       "        4.35800711e-03, 4.42392629e-04, 3.55296070e-03],\n",
       "       [5.97578380e-03, 1.80189591e-02, 1.02115022e-02, ...,\n",
       "        3.26138645e-01, 1.91606060e-02, 3.29596177e-02]], dtype=float32)"
      ]
     },
     "execution_count": 31,
     "metadata": {},
     "output_type": "execute_result"
    }
   ],
   "source": [
    "predicted_probab =model.predict_proba(x_test)\n",
    "predicted_probab"
   ]
  },
  {
   "cell_type": "code",
   "execution_count": 32,
   "metadata": {
    "execution": {
     "iopub.execute_input": "2021-07-10T09:28:31.849559Z",
     "iopub.status.busy": "2021-07-10T09:28:31.849204Z",
     "iopub.status.idle": "2021-07-10T09:28:31.872800Z",
     "shell.execute_reply": "2021-07-10T09:28:31.872048Z",
     "shell.execute_reply.started": "2021-07-10T09:28:31.849524Z"
    }
   },
   "outputs": [
    {
     "name": "stdout",
     "output_type": "stream",
     "text": [
      "ROC- AUC score is 91.5819868633563\n"
     ]
    }
   ],
   "source": [
    "print(\"ROC- AUC score is\", roc_auc_score( test.Labels, predicted_probab, multi_class='ovr')*100)"
   ]
  }
 ],
 "metadata": {
  "kernelspec": {
   "display_name": "Python 3",
   "language": "python",
   "name": "python3"
  },
  "language_info": {
   "codemirror_mode": {
    "name": "ipython",
    "version": 3
   },
   "file_extension": ".py",
   "mimetype": "text/x-python",
   "name": "python",
   "nbconvert_exporter": "python",
   "pygments_lexer": "ipython3",
   "version": "3.8.5"
  }
 },
 "nbformat": 4,
 "nbformat_minor": 4
}
